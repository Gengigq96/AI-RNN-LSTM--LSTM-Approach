{
 "cells": [
  {
   "cell_type": "markdown",
   "metadata": {
    "id": "KVfeIL4OiTON"
   },
   "source": [
    "# REDES NEURONALES RECURRENTES (RNN)\n",
    "\n",
    "---\n",
    "\n",
    "RNN para identificar la intensidad de odio en mensajes escritos en las redes sociales. Esta actividad forma parte del proyecto transversal del Máster, ¡así que seguro que ya estás familiarizado/a con el dataset!\n",
    "\n",
    "El dataset a utilizar consiste en 12280 mensajes de odio. Los mensajes pueden pertenecer a cinco categorias (numeradadas del 1 al 5), siendo 1 la menor intensidadd y 5 la mayor intensidad de odio del mensaje. El dataset ya ha sido procesado para eliminar ciertos caracteres que podrían darte problemas y para utilizar una codificación más amigable."
   ]
  },
  {
   "cell_type": "markdown",
   "metadata": {
    "id": "Qeb4aqTDjtZu"
   },
   "source": [
    "Empezamos, como siempre, incluyendo todo lo que vamos a necesitar. Según lo que vayas a hacer, es posible que necesites incluir alguna librería extra."
   ]
  },
  {
   "cell_type": "code",
   "execution_count": 1,
   "metadata": {
    "colab": {
     "base_uri": "https://localhost:8080/"
    },
    "id": "2gvn3m1cgZ7-",
    "outputId": "f7a3887a-3542-4e99-8c45-353e8b2443f2"
   },
   "outputs": [
    {
     "name": "stdout",
     "output_type": "stream",
     "text": [
      "Defaulting to user installation because normal site-packages is not writeable\n",
      "Requirement already satisfied: nltk in c:\\programdata\\anaconda3\\lib\\site-packages (3.8.1)\n",
      "Requirement already satisfied: click in c:\\programdata\\anaconda3\\lib\\site-packages (from nltk) (8.1.7)\n",
      "Requirement already satisfied: joblib in c:\\programdata\\anaconda3\\lib\\site-packages (from nltk) (1.2.0)\n",
      "Requirement already satisfied: regex>=2021.8.3 in c:\\programdata\\anaconda3\\lib\\site-packages (from nltk) (2023.10.3)\n",
      "Requirement already satisfied: tqdm in c:\\programdata\\anaconda3\\lib\\site-packages (from nltk) (4.65.0)\n",
      "Requirement already satisfied: colorama in c:\\programdata\\anaconda3\\lib\\site-packages (from click->nltk) (0.4.6)\n",
      "Note: you may need to restart the kernel to use updated packages.\n"
     ]
    },
    {
     "name": "stderr",
     "output_type": "stream",
     "text": [
      "[nltk_data] Downloading package stopwords to\n",
      "[nltk_data]     C:\\Users\\GenisPc\\AppData\\Roaming\\nltk_data...\n",
      "[nltk_data]   Package stopwords is already up-to-date!\n",
      "[nltk_data] Downloading package wordnet to\n",
      "[nltk_data]     C:\\Users\\GenisPc\\AppData\\Roaming\\nltk_data...\n",
      "[nltk_data]   Package wordnet is already up-to-date!\n"
     ]
    }
   ],
   "source": [
    "import tensorflow as tf\n",
    "from tensorflow import keras\n",
    "from keras import layers\n",
    "\n",
    "import matplotlib.pyplot as plt\n",
    "import pandas as pd\n",
    "import numpy as np\n",
    "import string\n",
    "import re\n",
    "%pip install nltk\n",
    "import nltk\n",
    "nltk.download('stopwords')\n",
    "nltk.download('wordnet')\n",
    "\n",
    "from nltk.stem import WordNetLemmatizer\n",
    "from nltk.corpus import stopwords\n",
    "\n",
    "from sklearn.model_selection import train_test_split\n",
    "from tensorflow.keras.preprocessing.text import Tokenizer\n",
    "from tensorflow.keras.preprocessing.sequence import pad_sequences"
   ]
  },
  {
   "cell_type": "markdown",
   "metadata": {
    "id": "_xvORCesj6S3"
   },
   "source": [
    "Cargamos el dataset. Lo encontrarás adjunto a este Notebook, al descargar la actividad del Campus Virtual."
   ]
  },
  {
   "cell_type": "code",
   "execution_count": 2,
   "metadata": {
    "id": "sI11OfLxgh9H"
   },
   "outputs": [
    {
     "data": {
      "text/html": [
       "<div>\n",
       "<style scoped>\n",
       "    .dataframe tbody tr th:only-of-type {\n",
       "        vertical-align: middle;\n",
       "    }\n",
       "\n",
       "    .dataframe tbody tr th {\n",
       "        vertical-align: top;\n",
       "    }\n",
       "\n",
       "    .dataframe thead th {\n",
       "        text-align: right;\n",
       "    }\n",
       "</style>\n",
       "<table border=\"1\" class=\"dataframe\">\n",
       "  <thead>\n",
       "    <tr style=\"text-align: right;\">\n",
       "      <th></th>\n",
       "      <th>CONTENIDO A ANALIZAR</th>\n",
       "      <th>INTENSIDAD</th>\n",
       "    </tr>\n",
       "  </thead>\n",
       "  <tbody>\n",
       "    <tr>\n",
       "      <th>0</th>\n",
       "      <td>cristina cifuentes podrí­a haber sido la presi...</td>\n",
       "      <td>3</td>\n",
       "    </tr>\n",
       "    <tr>\n",
       "      <th>1</th>\n",
       "      <td>habrí­a que reabrir el caso. el supremo se ded...</td>\n",
       "      <td>3</td>\n",
       "    </tr>\n",
       "    <tr>\n",
       "      <th>2</th>\n",
       "      <td>me parece un poco exagerado pedir más de tres ...</td>\n",
       "      <td>3</td>\n",
       "    </tr>\n",
       "    <tr>\n",
       "      <th>3</th>\n",
       "      <td>parece que todos los delincuentes niegan las e...</td>\n",
       "      <td>3</td>\n",
       "    </tr>\n",
       "    <tr>\n",
       "      <th>4</th>\n",
       "      <td>preguntárselo al fracasado, media carrera en 6...</td>\n",
       "      <td>4</td>\n",
       "    </tr>\n",
       "  </tbody>\n",
       "</table>\n",
       "</div>"
      ],
      "text/plain": [
       "                                CONTENIDO A ANALIZAR  INTENSIDAD\n",
       "0  cristina cifuentes podrí­a haber sido la presi...           3\n",
       "1  habrí­a que reabrir el caso. el supremo se ded...           3\n",
       "2  me parece un poco exagerado pedir más de tres ...           3\n",
       "3  parece que todos los delincuentes niegan las e...           3\n",
       "4  preguntárselo al fracasado, media carrera en 6...           4"
      ]
     },
     "execution_count": 2,
     "metadata": {},
     "output_type": "execute_result"
    }
   ],
   "source": [
    "# Leemos el fichero\n",
    "data = pd.read_csv('dataset.csv', sep=\";\", encoding='utf-8')\n",
    "# Mostramos las 5 primeras filas\n",
    "data.head()"
   ]
  },
  {
   "cell_type": "markdown",
   "metadata": {
    "id": "WYJWQvEqkB2B"
   },
   "source": [
    "Cambiamos el nombre de las features para hacer su manejo más amigable:"
   ]
  },
  {
   "cell_type": "code",
   "execution_count": 3,
   "metadata": {
    "id": "nTawYDb6NmmH"
   },
   "outputs": [
    {
     "data": {
      "text/html": [
       "<div>\n",
       "<style scoped>\n",
       "    .dataframe tbody tr th:only-of-type {\n",
       "        vertical-align: middle;\n",
       "    }\n",
       "\n",
       "    .dataframe tbody tr th {\n",
       "        vertical-align: top;\n",
       "    }\n",
       "\n",
       "    .dataframe thead th {\n",
       "        text-align: right;\n",
       "    }\n",
       "</style>\n",
       "<table border=\"1\" class=\"dataframe\">\n",
       "  <thead>\n",
       "    <tr style=\"text-align: right;\">\n",
       "      <th></th>\n",
       "      <th>mensaje</th>\n",
       "      <th>intensidad</th>\n",
       "    </tr>\n",
       "  </thead>\n",
       "  <tbody>\n",
       "    <tr>\n",
       "      <th>0</th>\n",
       "      <td>cristina cifuentes podrí­a haber sido la presi...</td>\n",
       "      <td>3</td>\n",
       "    </tr>\n",
       "    <tr>\n",
       "      <th>1</th>\n",
       "      <td>habrí­a que reabrir el caso. el supremo se ded...</td>\n",
       "      <td>3</td>\n",
       "    </tr>\n",
       "    <tr>\n",
       "      <th>2</th>\n",
       "      <td>me parece un poco exagerado pedir más de tres ...</td>\n",
       "      <td>3</td>\n",
       "    </tr>\n",
       "    <tr>\n",
       "      <th>3</th>\n",
       "      <td>parece que todos los delincuentes niegan las e...</td>\n",
       "      <td>3</td>\n",
       "    </tr>\n",
       "    <tr>\n",
       "      <th>4</th>\n",
       "      <td>preguntárselo al fracasado, media carrera en 6...</td>\n",
       "      <td>4</td>\n",
       "    </tr>\n",
       "  </tbody>\n",
       "</table>\n",
       "</div>"
      ],
      "text/plain": [
       "                                             mensaje  intensidad\n",
       "0  cristina cifuentes podrí­a haber sido la presi...           3\n",
       "1  habrí­a que reabrir el caso. el supremo se ded...           3\n",
       "2  me parece un poco exagerado pedir más de tres ...           3\n",
       "3  parece que todos los delincuentes niegan las e...           3\n",
       "4  preguntárselo al fracasado, media carrera en 6...           4"
      ]
     },
     "execution_count": 3,
     "metadata": {},
     "output_type": "execute_result"
    }
   ],
   "source": [
    "data = data.rename(columns={'CONTENIDO A ANALIZAR': 'mensaje', 'INTENSIDAD': 'intensidad'})\n",
    "data.head()"
   ]
  },
  {
   "cell_type": "markdown",
   "metadata": {
    "id": "rSrgxwcHkIpk"
   },
   "source": [
    "Mostramos información básica para saber a qué nos enfrentamos:"
   ]
  },
  {
   "cell_type": "code",
   "execution_count": 4,
   "metadata": {
    "id": "D8sOe2k-jb9r"
   },
   "outputs": [
    {
     "data": {
      "text/plain": [
       "(12279, 2)"
      ]
     },
     "execution_count": 4,
     "metadata": {},
     "output_type": "execute_result"
    }
   ],
   "source": [
    "data.shape"
   ]
  },
  {
   "cell_type": "code",
   "execution_count": 5,
   "metadata": {
    "id": "r70C7LsWnOTP"
   },
   "outputs": [
    {
     "name": "stdout",
     "output_type": "stream",
     "text": [
      "<class 'pandas.core.frame.DataFrame'>\n",
      "RangeIndex: 12279 entries, 0 to 12278\n",
      "Data columns (total 2 columns):\n",
      " #   Column      Non-Null Count  Dtype \n",
      "---  ------      --------------  ----- \n",
      " 0   mensaje     12279 non-null  object\n",
      " 1   intensidad  12279 non-null  int64 \n",
      "dtypes: int64(1), object(1)\n",
      "memory usage: 192.0+ KB\n"
     ]
    }
   ],
   "source": [
    "data.info()"
   ]
  },
  {
   "cell_type": "markdown",
   "metadata": {
    "id": "uDpDVmNAkNDZ"
   },
   "source": [
    "Mostramos ahora la distribución de mensajes de acuerdo a su intensidad. Verás rápidamente que estamos en problemas: hay un gran desbalanceo."
   ]
  },
  {
   "cell_type": "code",
   "execution_count": 6,
   "metadata": {
    "id": "HATeYyBcnTry"
   },
   "outputs": [
    {
     "data": {
      "image/png": "[encoded data removed]",
      "text/plain": [
       "<Figure size 640x480 with 1 Axes>"
      ]
     },
     "metadata": {},
     "output_type": "display_data"
    }
   ],
   "source": [
    "plt.pie(data['intensidad'].value_counts().values,\n",
    "        labels = data['intensidad'].value_counts().index,\n",
    "        autopct='%1.1f%%')\n",
    "plt.show()"
   ]
  },
  {
   "cell_type": "markdown",
   "metadata": {
    "id": "fTYQhBW_keNX"
   },
   "source": [
    "Para hacer todo más sencillo y evitar asociaciones indeseadas, vamos a trabajar solo con minúsculas. Además, quitamos los signos de puntuación de los mensajes"
   ]
  },
  {
   "cell_type": "code",
   "execution_count": 7,
   "metadata": {
    "id": "q-uS0vz0pxW2"
   },
   "outputs": [
    {
     "data": {
      "text/html": [
       "<div>\n",
       "<style scoped>\n",
       "    .dataframe tbody tr th:only-of-type {\n",
       "        vertical-align: middle;\n",
       "    }\n",
       "\n",
       "    .dataframe tbody tr th {\n",
       "        vertical-align: top;\n",
       "    }\n",
       "\n",
       "    .dataframe thead th {\n",
       "        text-align: right;\n",
       "    }\n",
       "</style>\n",
       "<table border=\"1\" class=\"dataframe\">\n",
       "  <thead>\n",
       "    <tr style=\"text-align: right;\">\n",
       "      <th></th>\n",
       "      <th>mensaje</th>\n",
       "      <th>intensidad</th>\n",
       "    </tr>\n",
       "  </thead>\n",
       "  <tbody>\n",
       "    <tr>\n",
       "      <th>0</th>\n",
       "      <td>cristina cifuentes podrí­a haber sido la presi...</td>\n",
       "      <td>3</td>\n",
       "    </tr>\n",
       "    <tr>\n",
       "      <th>1</th>\n",
       "      <td>habrí­a que reabrir el caso el supremo se dedi...</td>\n",
       "      <td>3</td>\n",
       "    </tr>\n",
       "    <tr>\n",
       "      <th>2</th>\n",
       "      <td>me parece un poco exagerado pedir más de tres ...</td>\n",
       "      <td>3</td>\n",
       "    </tr>\n",
       "    <tr>\n",
       "      <th>3</th>\n",
       "      <td>parece que todos los delincuentes niegan las e...</td>\n",
       "      <td>3</td>\n",
       "    </tr>\n",
       "    <tr>\n",
       "      <th>4</th>\n",
       "      <td>preguntárselo al fracasado media carrera en 6 ...</td>\n",
       "      <td>4</td>\n",
       "    </tr>\n",
       "  </tbody>\n",
       "</table>\n",
       "</div>"
      ],
      "text/plain": [
       "                                             mensaje  intensidad\n",
       "0  cristina cifuentes podrí­a haber sido la presi...           3\n",
       "1  habrí­a que reabrir el caso el supremo se dedi...           3\n",
       "2  me parece un poco exagerado pedir más de tres ...           3\n",
       "3  parece que todos los delincuentes niegan las e...           3\n",
       "4  preguntárselo al fracasado media carrera en 6 ...           4"
      ]
     },
     "execution_count": 7,
     "metadata": {},
     "output_type": "execute_result"
    }
   ],
   "source": [
    "# Convertimos a minúsculas\n",
    "data['mensaje'] = data['mensaje'].map(lambda x: x.lower())\n",
    "\n",
    "# Función para eliminar signos de puntuación\n",
    "def eliminar_signos(texto):\n",
    "    return re.sub(f\"[{re.escape(string.punctuation)}]\", \"\", texto)\n",
    "\n",
    "# Aplicamos la función al dataset\n",
    "data['mensaje'] = data['mensaje'].map(eliminar_signos)\n",
    "data.head()"
   ]
  },
  {
   "cell_type": "markdown",
   "metadata": {
    "id": "MjXltaASlHiK"
   },
   "source": [
    "Eliminamos las \"stopwords\" o palabras vacías. Las stopwords son palabras comunes que, en general, no contienen información relevante para el análisis de texto y suelen ser filtradas antes de procesar los datos. Ejemplos típicos de stopwords en español son: \"el\", \"la\", \"los\", \"las\", \"un\", \"una\", \"de\", \"y\", \"o\", etc."
   ]
  },
  {
   "cell_type": "code",
   "execution_count": 8,
   "metadata": {
    "id": "O4eVyt4eq2dA"
   },
   "outputs": [
    {
     "data": {
      "text/html": [
       "<div>\n",
       "<style scoped>\n",
       "    .dataframe tbody tr th:only-of-type {\n",
       "        vertical-align: middle;\n",
       "    }\n",
       "\n",
       "    .dataframe tbody tr th {\n",
       "        vertical-align: top;\n",
       "    }\n",
       "\n",
       "    .dataframe thead th {\n",
       "        text-align: right;\n",
       "    }\n",
       "</style>\n",
       "<table border=\"1\" class=\"dataframe\">\n",
       "  <thead>\n",
       "    <tr style=\"text-align: right;\">\n",
       "      <th></th>\n",
       "      <th>mensaje</th>\n",
       "      <th>intensidad</th>\n",
       "    </tr>\n",
       "  </thead>\n",
       "  <tbody>\n",
       "    <tr>\n",
       "      <th>0</th>\n",
       "      <td>cristina cifuentes podrí­a haber sido presiden...</td>\n",
       "      <td>3</td>\n",
       "    </tr>\n",
       "    <tr>\n",
       "      <th>1</th>\n",
       "      <td>habrí­a reabrir caso supremo dedica proteger s...</td>\n",
       "      <td>3</td>\n",
       "    </tr>\n",
       "    <tr>\n",
       "      <th>2</th>\n",
       "      <td>parece exagerado pedir tres años prisión cifue...</td>\n",
       "      <td>3</td>\n",
       "    </tr>\n",
       "    <tr>\n",
       "      <th>3</th>\n",
       "      <td>parece delincuentes niegan evidencias pruebas ...</td>\n",
       "      <td>3</td>\n",
       "    </tr>\n",
       "    <tr>\n",
       "      <th>4</th>\n",
       "      <td>preguntárselo fracasado medium carrera 6 me má...</td>\n",
       "      <td>4</td>\n",
       "    </tr>\n",
       "  </tbody>\n",
       "</table>\n",
       "</div>"
      ],
      "text/plain": [
       "                                             mensaje  intensidad\n",
       "0  cristina cifuentes podrí­a haber sido presiden...           3\n",
       "1  habrí­a reabrir caso supremo dedica proteger s...           3\n",
       "2  parece exagerado pedir tres años prisión cifue...           3\n",
       "3  parece delincuentes niegan evidencias pruebas ...           3\n",
       "4  preguntárselo fracasado medium carrera 6 me má...           4"
      ]
     },
     "execution_count": 8,
     "metadata": {},
     "output_type": "execute_result"
    }
   ],
   "source": [
    "# Obtenemos las stopwords en español\n",
    "stop_words = set(stopwords.words('spanish'))\n",
    "lemmatizer = WordNetLemmatizer()\n",
    "\n",
    "# Definimos una función para eliminar stopwords y lematizar\n",
    "def filtrar_palabras(texto):\n",
    "    palabras_filtradas = []\n",
    "    for palabra in texto.split():\n",
    "        if palabra not in stop_words:\n",
    "            palabra_lema = lemmatizer.lemmatize(palabra)\n",
    "            palabras_filtradas.append(palabra_lema)\n",
    "    return ' '.join(palabras_filtradas)\n",
    "\n",
    "# Aplicamos la función\n",
    "data['mensaje'] = data['mensaje'].apply(filtrar_palabras)\n",
    "data.head()"
   ]
  },
  {
   "cell_type": "markdown",
   "metadata": {
    "id": "ucxI_eXQlZ_1"
   },
   "source": [
    "Creamos los conjuntos de entrenamiento y de test:"
   ]
  },
  {
   "cell_type": "code",
   "execution_count": 9,
   "metadata": {
    "id": "FZxfXScRYVts"
   },
   "outputs": [],
   "source": [
    "X = data['mensaje']\n",
    "y = data['intensidad']\n",
    "\n",
    "# Dividimos el dataset en conjuntos de entrenamiento y prueba\n",
    "X_train, X_test, y_train, y_test = train_test_split(X, y, test_size=0.2, random_state=42)\n",
    "\n",
    "# Convertimos a numpy arrays\n",
    "X_train = X_train.values\n",
    "X_test = X_test.values\n",
    "y_train = y_train.values\n",
    "y_test = y_test.values\n",
    "\n",
    "# Asegurándonos de que las etiquetas estén en el rango de 0 a 4\n",
    "y_train = y_train - 1  # Si las etiquetas están comenzando en 1, restamos 1\n",
    "y_test = y_test - 1    # Igual para las etiquetas de prueba\n",
    "\n",
    "# Creamos datasets de TensorFlow\n",
    "# train_dataset = tf.data.Dataset.from_tensor_slices((X_train, y_train))\n",
    "# test_dataset = tf.data.Dataset.from_tensor_slices((X_test, y_test))"
   ]
  },
  {
   "cell_type": "markdown",
   "metadata": {
    "id": "NTEHtlXpnCOI"
   },
   "source": [
    "Mostramos un mensaje y su intensidad, simplemente para ver que todo va bien:"
   ]
  },
  {
   "cell_type": "code",
   "execution_count": 10,
   "metadata": {
    "id": "WWz4VaBCYsjL"
   },
   "outputs": [],
   "source": [
    "# for men, inte in train_dataset.take(5):\n",
    "#   print('mensaje: ', men.numpy())\n",
    "#   print('nivel de odio: ', inte.numpy())"
   ]
  },
  {
   "cell_type": "markdown",
   "metadata": {
    "id": "iGisxv3GnZvN"
   },
   "source": [
    "Mezclamos los datos de forma aleatoria:"
   ]
  },
  {
   "cell_type": "code",
   "execution_count": 11,
   "metadata": {},
   "outputs": [
    {
     "data": {
      "text/plain": [
       "'tarado abascal dice gran lider tarado trump'"
      ]
     },
     "execution_count": 11,
     "metadata": {},
     "output_type": "execute_result"
    }
   ],
   "source": [
    "X_train[0]"
   ]
  },
  {
   "cell_type": "code",
   "execution_count": 12,
   "metadata": {
    "id": "ecZdI0CFYz1Y"
   },
   "outputs": [],
   "source": [
    "BUFFER_SIZE = 10000\n",
    "BATCH_SIZE = 64"
   ]
  },
  {
   "cell_type": "code",
   "execution_count": 13,
   "metadata": {
    "id": "wOJwWckbY9ns"
   },
   "outputs": [],
   "source": [
    "# train_dataset = train_dataset.shuffle(BUFFER_SIZE).batch(BATCH_SIZE).prefetch(tf.data.AUTOTUNE)\n",
    "# test_dataset = test_dataset.batch(BATCH_SIZE).prefetch(tf.data.AUTOTUNE)"
   ]
  },
  {
   "cell_type": "code",
   "execution_count": 14,
   "metadata": {
    "id": "mGW0FVeyY_fZ"
   },
   "outputs": [],
   "source": [
    "# for men, inte in train_dataset.take(1):\n",
    "#   print('mensaje: ', men.numpy()[:3])\n",
    "#   print()\n",
    "#   print('nivel de odio: ', inte.numpy()[:3])"
   ]
  },
  {
   "cell_type": "markdown",
   "metadata": {
    "id": "n1ztdBqGo6xb"
   },
   "source": [
    "# Ejercicio\n",
    "\n",
    "Construye una RNN que pueda detectar el nivel de odio de un mensaje."
   ]
  },
  {
   "cell_type": "markdown",
   "metadata": {},
   "source": [
    "# Procesamiento de Datos Textuales para Modelos de TensorFlow\n",
    "\n",
    "Este flujo de procesamiento está diseñado para convertir datos textuales en un formato numérico comprensible por modelos de aprendizaje profundo, específicamente en TensorFlow. El objetivo principal es preparar los datos de manera eficiente, desde la transformación del texto hasta la organización en lotes listos para el entrenamiento y evaluación.\n",
    "\n",
    "## Proceso General\n",
    "\n",
    "1. **Vectorización del Texto**: \n",
    "   Se utiliza una capa de TextVectorization que transforma las secuencias de texto en vectores de índices enteros. Esto convierte palabras en números basados en un vocabulario adaptado al conjunto de datos de entrenamiento, asegurando consistencia y manejabilidad.\n",
    "\n",
    "2. **Adaptación al Vocabulario**:\n",
    "   El modelo se entrena solo con las palabras más frecuentes en el conjunto de entrenamiento, lo que limita el tamaño del vocabulario y mejora la eficiencia del procesamiento.\n",
    "\n",
    "3. **Construcción de Datasets**:\n",
    "   Los datos de entrenamiento y prueba se empaquetan en conjuntos de datos de TensorFlow. Cada entrada contiene el texto original junto con su etiqueta correspondiente.\n",
    "\n",
    "4. **Mapeo y Tokenización**:\n",
    "   Se aplica el proceso de vectorización a todos los textos del conjunto de datos, convirtiéndolos en secuencias de índices. Esto prepara el texto para ser procesado directamente por el modelo.\n",
    "\n",
    "5. **Optimización del Rendimiento**:\n",
    "   Los datos se organizan en lotes (batching), se barajan aleatoriamente (shuffling) y se configuran para cargar de manera eficiente en paralelo al entrenamiento (prefetching). Esto reduce cuellos de botella y acelera el proceso de entrenamiento.\n",
    "\n",
    "## Propósito\n",
    "\n",
    "El propósito de este procesamiento es preparar los datos textuales para entrenar modelos que trabajen con texto, ene ste caso redes neuronales para tareas de clasificación en análisis de sentimientos . Este flujo asegura que los datos estén en el formato adecuado y optimiza el uso de recursos durante el entrenamiento y la evaluación del modelo."
   ]
  },
  {
   "cell_type": "code",
   "execution_count": 15,
   "metadata": {},
   "outputs": [],
   "source": [
    "# Primero, asegurémonos de que el vectorizador esté adaptado\n",
    "vectorizador = tf.keras.layers.TextVectorization(max_tokens=1000, output_mode='int', output_sequence_length=100)\n",
    "\n",
    "# Convertimos X_train a un dataset de TensorFlow que contenga solo las secuencias de texto\n",
    "train_text_dataset = tf.data.Dataset.from_tensor_slices(X_train)\n",
    "\n",
    "# Adaptamos el vectorizador solo a las secuencias de texto\n",
    "vectorizador.adapt(train_text_dataset)\n",
    "\n",
    "# Ahora, creamos el Dataset de entrenamiento y prueba con las etiquetas\n",
    "train_dataset = tf.data.Dataset.from_tensor_slices((X_train, y_train))\n",
    "test_dataset = tf.data.Dataset.from_tensor_slices((X_test, y_test))\n",
    "\n",
    "# Aplicamos la vectorización a los datos\n",
    "def aplicar_vectorizacion(texto, etiqueta):\n",
    "    texto_tokenizado = vectorizador(texto)  # Convertir texto a índices usando el vectorizador\n",
    "    return texto_tokenizado, etiqueta\n",
    "\n",
    "# Aplicamos el mapeo de tokenización y padding a las entradas\n",
    "train_dataset = train_dataset.map(lambda texto, etiqueta: aplicar_vectorizacion(texto, etiqueta))\n",
    "test_dataset = test_dataset.map(lambda texto, etiqueta: aplicar_vectorizacion(texto, etiqueta))\n",
    "\n",
    "# Configuramos el batching y prefetching para optimizar el rendimiento\n",
    "train_dataset = train_dataset.shuffle(BUFFER_SIZE).batch(BATCH_SIZE).prefetch(tf.data.AUTOTUNE)\n",
    "test_dataset = test_dataset.batch(BATCH_SIZE).prefetch(tf.data.AUTOTUNE)\n"
   ]
  },
  {
   "cell_type": "markdown",
   "metadata": {},
   "source": [
    "# Modelo LSTM para Clasificación de Texto\n",
    "\n",
    "Este modelo utiliza una arquitectura LSTM (Long Short-Term Memory) para tareas de clasificación de texto. Las LSTM son un tipo de red neuronal recurrente (RNN) especialmente útil para procesar secuencias y datos dependientes del contexto, como el texto. Con este modelo se pretende clasificar correctamente los textos según los 5 niveles de intensidad del odio definidos en los grupos de datos del dataset.\n",
    "\n",
    "---\n",
    "\n",
    "## Descripción General del Modelo\n",
    "\n",
    "1. **Capa de Embedding**:\n",
    "   - Traduce índices enteros (provenientes de la vectorización) a representaciones densas (vectores) en un espacio continuo.\n",
    "   - Esto permite que el modelo capture relaciones semánticas entre palabras.\n",
    "\n",
    "2. **Capa LSTM**:\n",
    "   - Procesa la secuencia de vectores generada por la capa de embedding.\n",
    "   - Extrae características relevantes manteniendo información de contexto a lo largo de la secuencia.\n",
    "\n",
    "3. **Dropout**:\n",
    "   - Introduce ruido al modelo durante el entrenamiento, desconectando aleatoriamente neuronas.\n",
    "   - Ayuda a prevenir el sobreajuste, mejorando la generalización en datos no vistos.\n",
    "\n",
    "4. **Capa Densa (Salida)**:\n",
    "   - Clasifica las entradas en una de las clases definidas.\n",
    "   - Utiliza la función de activación softmax para producir una distribución de probabilidad sobre las clases.\n",
    "\n",
    "5. **Compilación**:\n",
    "   - **Optimizador**: `adam`, un algoritmo eficiente para ajustar los pesos del modelo.\n",
    "   - **Pérdida**: `sparse_categorical_crossentropy`, adecuada para problemas de clasificación con etiquetas categóricas codificadas como enteros.\n",
    "   - **Métrica**: `accuracy`, mide qué porcentaje de predicciones coinciden con las etiquetas reales.\n",
    "\n",
    "---\n",
    "\n",
    "## Resumen del Modelo\n",
    "\n",
    "El modelo generado tiene la siguiente estructura:\n",
    "\n",
    "1. **Capa de entrada**:\n",
    "   - `Embedding`: Traduce vocabulario de tamaño \\( 1000 \\) a vectores de dimensión \\( 100 \\).\n",
    "2. **Capa intermedia**:\n",
    "   - `LSTM`: Extrae información de contexto de secuencias de longitud \\( 100 \\), con \\( 64 \\) unidades.\n",
    "   - `Dropout`: Reduce el riesgo de sobreajuste.\n",
    "3. **Capa de salida**:\n",
    "   - `Dense`: Produce una salida con \\( 5 \\) clases.\n",
    "\n",
    "Este flujo está optimizado para secuencias de longitud fija, haciendo que sea eficiente y efectivo para tareas de clasificación textuales.\n"
   ]
  },
  {
   "cell_type": "code",
   "execution_count": 16,
   "metadata": {},
   "outputs": [
    {
     "name": "stderr",
     "output_type": "stream",
     "text": [
      "C:\\Users\\GenisPc\\AppData\\Roaming\\Python\\Python311\\site-packages\\keras\\src\\layers\\core\\embedding.py:90: UserWarning: Argument `input_length` is deprecated. Just remove it.\n",
      "  warnings.warn(\n"
     ]
    },
    {
     "data": {
      "text/html": [
       "<pre style=\"white-space:pre;overflow-x:auto;line-height:normal;font-family:Menlo,'DejaVu Sans Mono',consolas,'Courier New',monospace\"><span style=\"font-weight: bold\">Model: \"sequential\"</span>\n",
       "</pre>\n"
      ],
      "text/plain": [
       "\u001b[1mModel: \"sequential\"\u001b[0m\n"
      ]
     },
     "metadata": {},
     "output_type": "display_data"
    },
    {
     "data": {
      "text/html": [
       "<pre style=\"white-space:pre;overflow-x:auto;line-height:normal;font-family:Menlo,'DejaVu Sans Mono',consolas,'Courier New',monospace\">┏━━━━━━━━━━━━━━━━━━━━━━━━━━━━━━━━━┳━━━━━━━━━━━━━━━━━━━━━━━━┳━━━━━━━━━━━━━━━┓\n",
       "┃<span style=\"font-weight: bold\"> Layer (type)                    </span>┃<span style=\"font-weight: bold\"> Output Shape           </span>┃<span style=\"font-weight: bold\">       Param # </span>┃\n",
       "┡━━━━━━━━━━━━━━━━━━━━━━━━━━━━━━━━━╇━━━━━━━━━━━━━━━━━━━━━━━━╇━━━━━━━━━━━━━━━┩\n",
       "│ embedding (<span style=\"color: #0087ff; text-decoration-color: #0087ff\">Embedding</span>)           │ ?                      │   <span style=\"color: #00af00; text-decoration-color: #00af00\">0</span> (unbuilt) │\n",
       "├─────────────────────────────────┼────────────────────────┼───────────────┤\n",
       "│ lstm (<span style=\"color: #0087ff; text-decoration-color: #0087ff\">LSTM</span>)                     │ ?                      │   <span style=\"color: #00af00; text-decoration-color: #00af00\">0</span> (unbuilt) │\n",
       "├─────────────────────────────────┼────────────────────────┼───────────────┤\n",
       "│ dropout (<span style=\"color: #0087ff; text-decoration-color: #0087ff\">Dropout</span>)               │ ?                      │             <span style=\"color: #00af00; text-decoration-color: #00af00\">0</span> │\n",
       "├─────────────────────────────────┼────────────────────────┼───────────────┤\n",
       "│ dense (<span style=\"color: #0087ff; text-decoration-color: #0087ff\">Dense</span>)                   │ ?                      │   <span style=\"color: #00af00; text-decoration-color: #00af00\">0</span> (unbuilt) │\n",
       "└─────────────────────────────────┴────────────────────────┴───────────────┘\n",
       "</pre>\n"
      ],
      "text/plain": [
       "┏━━━━━━━━━━━━━━━━━━━━━━━━━━━━━━━━━┳━━━━━━━━━━━━━━━━━━━━━━━━┳━━━━━━━━━━━━━━━┓\n",
       "┃\u001b[1m \u001b[0m\u001b[1mLayer (type)                   \u001b[0m\u001b[1m \u001b[0m┃\u001b[1m \u001b[0m\u001b[1mOutput Shape          \u001b[0m\u001b[1m \u001b[0m┃\u001b[1m \u001b[0m\u001b[1m      Param #\u001b[0m\u001b[1m \u001b[0m┃\n",
       "┡━━━━━━━━━━━━━━━━━━━━━━━━━━━━━━━━━╇━━━━━━━━━━━━━━━━━━━━━━━━╇━━━━━━━━━━━━━━━┩\n",
       "│ embedding (\u001b[38;5;33mEmbedding\u001b[0m)           │ ?                      │   \u001b[38;5;34m0\u001b[0m (unbuilt) │\n",
       "├─────────────────────────────────┼────────────────────────┼───────────────┤\n",
       "│ lstm (\u001b[38;5;33mLSTM\u001b[0m)                     │ ?                      │   \u001b[38;5;34m0\u001b[0m (unbuilt) │\n",
       "├─────────────────────────────────┼────────────────────────┼───────────────┤\n",
       "│ dropout (\u001b[38;5;33mDropout\u001b[0m)               │ ?                      │             \u001b[38;5;34m0\u001b[0m │\n",
       "├─────────────────────────────────┼────────────────────────┼───────────────┤\n",
       "│ dense (\u001b[38;5;33mDense\u001b[0m)                   │ ?                      │   \u001b[38;5;34m0\u001b[0m (unbuilt) │\n",
       "└─────────────────────────────────┴────────────────────────┴───────────────┘\n"
      ]
     },
     "metadata": {},
     "output_type": "display_data"
    },
    {
     "data": {
      "text/html": [
       "<pre style=\"white-space:pre;overflow-x:auto;line-height:normal;font-family:Menlo,'DejaVu Sans Mono',consolas,'Courier New',monospace\"><span style=\"font-weight: bold\"> Total params: </span><span style=\"color: #00af00; text-decoration-color: #00af00\">0</span> (0.00 B)\n",
       "</pre>\n"
      ],
      "text/plain": [
       "\u001b[1m Total params: \u001b[0m\u001b[38;5;34m0\u001b[0m (0.00 B)\n"
      ]
     },
     "metadata": {},
     "output_type": "display_data"
    },
    {
     "data": {
      "text/html": [
       "<pre style=\"white-space:pre;overflow-x:auto;line-height:normal;font-family:Menlo,'DejaVu Sans Mono',consolas,'Courier New',monospace\"><span style=\"font-weight: bold\"> Trainable params: </span><span style=\"color: #00af00; text-decoration-color: #00af00\">0</span> (0.00 B)\n",
       "</pre>\n"
      ],
      "text/plain": [
       "\u001b[1m Trainable params: \u001b[0m\u001b[38;5;34m0\u001b[0m (0.00 B)\n"
      ]
     },
     "metadata": {},
     "output_type": "display_data"
    },
    {
     "data": {
      "text/html": [
       "<pre style=\"white-space:pre;overflow-x:auto;line-height:normal;font-family:Menlo,'DejaVu Sans Mono',consolas,'Courier New',monospace\"><span style=\"font-weight: bold\"> Non-trainable params: </span><span style=\"color: #00af00; text-decoration-color: #00af00\">0</span> (0.00 B)\n",
       "</pre>\n"
      ],
      "text/plain": [
       "\u001b[1m Non-trainable params: \u001b[0m\u001b[38;5;34m0\u001b[0m (0.00 B)\n"
      ]
     },
     "metadata": {},
     "output_type": "display_data"
    }
   ],
   "source": [
    "# Definir el modelo LSTM\n",
    "from tensorflow.keras import layers, models\n",
    "\n",
    "def crear_modelo_lstm(vocab_size, embedding_dim=100, lstm_units=64, num_classes=5):\n",
    "    model = models.Sequential()\n",
    "    \n",
    "    # Capa de embedding\n",
    "    model.add(layers.Embedding(input_dim=vocab_size, output_dim=embedding_dim, input_length=100))\n",
    "    \n",
    "    # Capa LSTM\n",
    "    model.add(layers.LSTM(units=lstm_units, return_sequences=False))\n",
    "    \n",
    "    # Dropout para evitar sobreajuste\n",
    "    model.add(layers.Dropout(0.5))\n",
    "    \n",
    "    # Capa densa para clasificación\n",
    "    model.add(layers.Dense(num_classes, activation='softmax'))\n",
    "    \n",
    "    # Compilamos el modelo\n",
    "    model.compile(optimizer='adam', \n",
    "                  loss='sparse_categorical_crossentropy', \n",
    "                  metrics=['accuracy'])\n",
    "    \n",
    "    return model\n",
    "\n",
    "# Crear el modelo\n",
    "modelo = crear_modelo_lstm(vocab_size=1000)\n",
    "modelo.summary()\n"
   ]
  },
  {
   "cell_type": "code",
   "execution_count": 17,
   "metadata": {},
   "outputs": [
    {
     "name": "stdout",
     "output_type": "stream",
     "text": [
      "Epoch 1/10\n",
      "\u001b[1m154/154\u001b[0m \u001b[32m━━━━━━━━━━━━━━━━━━━━\u001b[0m\u001b[37m\u001b[0m \u001b[1m14s\u001b[0m 53ms/step - accuracy: 0.8257 - loss: 0.7334 - val_accuracy: 0.8473 - val_loss: 0.5596\n",
      "Epoch 2/10\n",
      "\u001b[1m154/154\u001b[0m \u001b[32m━━━━━━━━━━━━━━━━━━━━\u001b[0m\u001b[37m\u001b[0m \u001b[1m9s\u001b[0m 49ms/step - accuracy: 0.8410 - loss: 0.6069 - val_accuracy: 0.8473 - val_loss: 0.5601\n",
      "Epoch 3/10\n",
      "\u001b[1m154/154\u001b[0m \u001b[32m━━━━━━━━━━━━━━━━━━━━\u001b[0m\u001b[37m\u001b[0m \u001b[1m9s\u001b[0m 51ms/step - accuracy: 0.8401 - loss: 0.6069 - val_accuracy: 0.8473 - val_loss: 0.5588\n",
      "Epoch 4/10\n",
      "\u001b[1m154/154\u001b[0m \u001b[32m━━━━━━━━━━━━━━━━━━━━\u001b[0m\u001b[37m\u001b[0m \u001b[1m9s\u001b[0m 52ms/step - accuracy: 0.8415 - loss: 0.6002 - val_accuracy: 0.8473 - val_loss: 0.5616\n",
      "Epoch 5/10\n",
      "\u001b[1m154/154\u001b[0m \u001b[32m━━━━━━━━━━━━━━━━━━━━\u001b[0m\u001b[37m\u001b[0m \u001b[1m10s\u001b[0m 53ms/step - accuracy: 0.8418 - loss: 0.5955 - val_accuracy: 0.8473 - val_loss: 0.5582\n",
      "Epoch 6/10\n",
      "\u001b[1m154/154\u001b[0m \u001b[32m━━━━━━━━━━━━━━━━━━━━\u001b[0m\u001b[37m\u001b[0m \u001b[1m9s\u001b[0m 50ms/step - accuracy: 0.8387 - loss: 0.5956 - val_accuracy: 0.8473 - val_loss: 0.5591\n",
      "Epoch 7/10\n",
      "\u001b[1m154/154\u001b[0m \u001b[32m━━━━━━━━━━━━━━━━━━━━\u001b[0m\u001b[37m\u001b[0m \u001b[1m9s\u001b[0m 53ms/step - accuracy: 0.8429 - loss: 0.5822 - val_accuracy: 0.8473 - val_loss: 0.5580\n",
      "Epoch 8/10\n",
      "\u001b[1m154/154\u001b[0m \u001b[32m━━━━━━━━━━━━━━━━━━━━\u001b[0m\u001b[37m\u001b[0m \u001b[1m10s\u001b[0m 53ms/step - accuracy: 0.8421 - loss: 0.5865 - val_accuracy: 0.8473 - val_loss: 0.5589\n",
      "Epoch 9/10\n",
      "\u001b[1m154/154\u001b[0m \u001b[32m━━━━━━━━━━━━━━━━━━━━\u001b[0m\u001b[37m\u001b[0m \u001b[1m10s\u001b[0m 52ms/step - accuracy: 0.8397 - loss: 0.5926 - val_accuracy: 0.8473 - val_loss: 0.5585\n",
      "Epoch 10/10\n",
      "\u001b[1m154/154\u001b[0m \u001b[32m━━━━━━━━━━━━━━━━━━━━\u001b[0m\u001b[37m\u001b[0m \u001b[1m9s\u001b[0m 50ms/step - accuracy: 0.8438 - loss: 0.5829 - val_accuracy: 0.8473 - val_loss: 0.5586\n"
     ]
    }
   ],
   "source": [
    "# Entrenamos el modelo\n",
    "epochs = 10\n",
    "history = modelo.fit(train_dataset, epochs=epochs, validation_data=test_dataset)"
   ]
  },
  {
   "cell_type": "code",
   "execution_count": 18,
   "metadata": {},
   "outputs": [
    {
     "data": {
      "text/plain": [
       "3    2081\n",
       "0     277\n",
       "4      41\n",
       "2      32\n",
       "1      25\n",
       "Name: count, dtype: int64"
      ]
     },
     "execution_count": 18,
     "metadata": {},
     "output_type": "execute_result"
    }
   ],
   "source": [
    "pd.Series(y_test).value_counts()"
   ]
  },
  {
   "cell_type": "code",
   "execution_count": 19,
   "metadata": {},
   "outputs": [
    {
     "data": {
      "text/plain": [
       "3    8293\n",
       "0    1098\n",
       "4     169\n",
       "2     140\n",
       "1     123\n",
       "Name: count, dtype: int64"
      ]
     },
     "execution_count": 19,
     "metadata": {},
     "output_type": "execute_result"
    }
   ],
   "source": [
    "pd.Series(y_train).value_counts()"
   ]
  },
  {
   "cell_type": "markdown",
   "metadata": {},
   "source": [
    "##  Definimos la función de muestreo de la matriz de confusión de las predicciones de los modelos"
   ]
  },
  {
   "cell_type": "code",
   "execution_count": 20,
   "metadata": {},
   "outputs": [],
   "source": [
    "from sklearn.metrics import confusion_matrix\n",
    "import seaborn as sns\n",
    "import matplotlib.pyplot as plt\n",
    "from sklearn.metrics import classification_report\n",
    "\n",
    "\n",
    "def matriz_confusion(modelo):\n",
    "    # Obtener las predicciones del modelo\n",
    "    y_pred = modelo.predict(test_dataset)\n",
    "\n",
    "    # Convertir las predicciones de probabilidades a clases (tomando la clase con mayor probabilidad)\n",
    "    y_pred_classes = np.argmax(y_pred, axis=1)\n",
    "\n",
    "    # Generar la matriz de confusión\n",
    "    cm = confusion_matrix(y_test, y_pred_classes)\n",
    "\n",
    "    # Visualizar la matriz de confusión\n",
    "    plt.figure(figsize=(8, 6))\n",
    "    sns.heatmap(cm, annot=True, fmt=\"d\", cmap=\"Blues\", xticklabels=np.unique(y_test), yticklabels=np.unique(y_test))\n",
    "    plt.title('Matriz de Confusión')\n",
    "    plt.xlabel('Clase Predicha')\n",
    "    plt.ylabel('Clase Real')\n",
    "    plt.show()\n",
    "\n",
    "    # Calcular F1-Score, Precision, Recall y Accuracy\n",
    "    report = classification_report(y_test, y_pred_classes, target_names=np.unique(y_test).astype(str))\n",
    "    print(report)\n",
    "\n"
   ]
  },
  {
   "cell_type": "markdown",
   "metadata": {},
   "source": [
    "##   Resultados del primer modelo"
   ]
  },
  {
   "cell_type": "code",
   "execution_count": 21,
   "metadata": {},
   "outputs": [
    {
     "name": "stdout",
     "output_type": "stream",
     "text": [
      "\u001b[1m39/39\u001b[0m \u001b[32m━━━━━━━━━━━━━━━━━━━━\u001b[0m\u001b[37m\u001b[0m \u001b[1m1s\u001b[0m 22ms/step\n"
     ]
    },
    {
     "data": {
      "image/png": "[encoded data removed]",
      "text/plain": [
       "<Figure size 800x600 with 2 Axes>"
      ]
     },
     "metadata": {},
     "output_type": "display_data"
    },
    {
     "name": "stdout",
     "output_type": "stream",
     "text": [
      "              precision    recall  f1-score   support\n",
      "\n",
      "           0       0.00      0.00      0.00       277\n",
      "           1       0.00      0.00      0.00        25\n",
      "           2       0.00      0.00      0.00        32\n",
      "           3       0.85      1.00      0.92      2081\n",
      "           4       0.00      0.00      0.00        41\n",
      "\n",
      "    accuracy                           0.85      2456\n",
      "   macro avg       0.17      0.20      0.18      2456\n",
      "weighted avg       0.72      0.85      0.78      2456\n",
      "\n"
     ]
    },
    {
     "name": "stderr",
     "output_type": "stream",
     "text": [
      "c:\\ProgramData\\anaconda3\\Lib\\site-packages\\sklearn\\metrics\\_classification.py:1344: UndefinedMetricWarning: Precision and F-score are ill-defined and being set to 0.0 in labels with no predicted samples. Use `zero_division` parameter to control this behavior.\n",
      "  _warn_prf(average, modifier, msg_start, len(result))\n",
      "c:\\ProgramData\\anaconda3\\Lib\\site-packages\\sklearn\\metrics\\_classification.py:1344: UndefinedMetricWarning: Precision and F-score are ill-defined and being set to 0.0 in labels with no predicted samples. Use `zero_division` parameter to control this behavior.\n",
      "  _warn_prf(average, modifier, msg_start, len(result))\n",
      "c:\\ProgramData\\anaconda3\\Lib\\site-packages\\sklearn\\metrics\\_classification.py:1344: UndefinedMetricWarning: Precision and F-score are ill-defined and being set to 0.0 in labels with no predicted samples. Use `zero_division` parameter to control this behavior.\n",
      "  _warn_prf(average, modifier, msg_start, len(result))\n"
     ]
    }
   ],
   "source": [
    "matriz_confusion(modelo)"
   ]
  },
  {
   "cell_type": "markdown",
   "metadata": {},
   "source": [
    "## Análisis de la problemática del dataset\n",
    "Los resultados reflejados en el modelo presentan un resultado que refleja las consecuencia de un modelo entrenado con clases desbalanceadas con un recall del 100% para la clase mayoritaria (la clase 4 pero mostrada como la clase 3 por temas de muestreo y de la última capa densa del modelo) en comparación del resto de clases minoritarias donde estas tienen un 0% de recall por lo que el modelo no ha aprendido nada de los datos de entrenamiento y las predicciones son todas para la clase 4.\n",
    "\n",
    "## Como podemos abordar este problema y mejorar el rendimiento del modelo\n",
    "\n",
    "Dado el claro sesgo hacia la clase dominante y el bajo rendimiento en las clases minoritarias, se plantean las siguientes estrategias de mejora. Cada una aborda los problemas detectados y será explorada en los siguientes puntos del análisis.\n",
    "\n",
    "\n",
    "\n",
    "## 1. Ajustar la Pérdida\n",
    "\n",
    "El modelo actual utiliza una pérdida estándar (`sparse_categorical_crossentropy`), que trata a todas las clases por igual. Para mejorar la detección de clases minoritarias, se puede implementar una pérdida ponderada:\n",
    "\n",
    "- **Pérdida Ponderada (*Class Weights*):**\n",
    "  - Asignar un peso mayor a las clases con menor representación, penalizando más los errores en estas clases durante el entrenamiento.\n",
    "  - TensorFlow permite configurar fácilmente los pesos de las clases utilizando un diccionario de pesos al entrenar el modelo.\n",
    "  - Esto obliga al modelo a prestar mayor atención a las clases minoritarias, compensando el desbalance en los datos.\n",
    "\n",
    "Esta técnica es especialmente útil en combinación con el reequilibrio de datos para maximizar el rendimiento en clases minoritarias.\n",
    "\n",
    "\n",
    "\n",
    "## 2. Reequilibrar los Datos\n",
    "\n",
    "El desbalance en los datos de entrenamiento está afectando significativamente el rendimiento del modelo. Para abordar este problema, se pueden utilizar las siguientes técnicas:\n",
    "\n",
    "- **Sobremuestreo (Oversampling):**\n",
    "  - Generar más ejemplos para las clases minoritarias replicando instancias existentes o utilizando técnicas de *data augmentation* específicas para texto, como la generación de sinónimos o el cambio de estructura de las frases.\n",
    "  - Esto aumenta la representación de las clases minoritarias, mejorando la capacidad del modelo para aprender patrones relevantes.\n",
    "\n",
    "- **Submuestreo (Undersampling):**\n",
    "  - Reducir la cantidad de datos de la clase dominante seleccionando aleatoriamente una muestra representativa.\n",
    "  - Aunque esto puede reducir la cantidad total de datos disponibles, ayuda a equilibrar las proporciones entre clases, disminuyendo el sesgo.\n",
    "\n",
    "Ambas técnicas pueden ser utilizadas individualmente o combinadas para lograr un balance adecuado en los datos de entrenamiento.\n",
    "\n",
    "\n",
    "\n",
    "## 3. Evaluar Otras Arquitecturas\n",
    "\n",
    "La arquitectura actual, basada en una sola capa LSTM, puede no ser suficiente para manejar la complejidad de los datos desbalanceados. Se proponen las siguientes modificaciones:\n",
    "\n",
    "- **Incluir Capas Adicionales:**\n",
    "  - Agregar más capas LSTM  para capturar mejor las relaciones contextuales en el texto.\n",
    "  - Incorporar capas densas adicionales para mejorar la capacidad de clasificación del modelo.\n",
    "\n",
    "## 4. Ajuste en el enfoque del problema\n",
    "Al tratarse de una variable objetivo con valores categóricos ordinales podemos tratar de hacer una predicción de regresión lineal donde se tratara de predecir la intensidad como un valor continuo entre los rangos de valores de los niveles de intensidad en lugar de como una clase.\n",
    "## 5. Reduciendo la dimensionalidad\n",
    "Como última alternativa se analiza los patrones en el dataset y se da una solución tratando de reducir la dimensionalidad de las clases a predecir dentro de nuestro dataset. Se busca mejorar el modelo reduciendo las clases objetivo a aquellas que muestren patrones dentro de sus datos."
   ]
  },
  {
   "cell_type": "markdown",
   "metadata": {},
   "source": [
    "---\n",
    "\n",
    "## 1. Ajustar la Pérdida\n",
    "Este código implementa la estrategia de **ajustar la pérdida mediante pesos de clase** para abordar el problema de desbalance en los datos. A continuación, se explica cada paso del flujo:\n"
   ]
  },
  {
   "cell_type": "code",
   "execution_count": 22,
   "metadata": {},
   "outputs": [
    {
     "name": "stdout",
     "output_type": "stream",
     "text": [
      "Epoch 1/10\n"
     ]
    },
    {
     "name": "stderr",
     "output_type": "stream",
     "text": [
      "C:\\Users\\GenisPc\\AppData\\Roaming\\Python\\Python311\\site-packages\\keras\\src\\layers\\core\\embedding.py:90: UserWarning: Argument `input_length` is deprecated. Just remove it.\n",
      "  warnings.warn(\n"
     ]
    },
    {
     "name": "stdout",
     "output_type": "stream",
     "text": [
      "\u001b[1m154/154\u001b[0m \u001b[32m━━━━━━━━━━━━━━━━━━━━\u001b[0m\u001b[37m\u001b[0m \u001b[1m11s\u001b[0m 43ms/step - accuracy: 0.3488 - loss: 1.5068 - val_accuracy: 0.0098 - val_loss: 1.6771\n",
      "Epoch 2/10\n",
      "\u001b[1m154/154\u001b[0m \u001b[32m━━━━━━━━━━━━━━━━━━━━\u001b[0m\u001b[37m\u001b[0m \u001b[1m8s\u001b[0m 43ms/step - accuracy: 0.1508 - loss: 1.5971 - val_accuracy: 0.0130 - val_loss: 1.6204\n",
      "Epoch 3/10\n",
      "\u001b[1m154/154\u001b[0m \u001b[32m━━━━━━━━━━━━━━━━━━━━\u001b[0m\u001b[37m\u001b[0m \u001b[1m8s\u001b[0m 42ms/step - accuracy: 0.0823 - loss: 1.6410 - val_accuracy: 0.8473 - val_loss: 1.4996\n",
      "Epoch 4/10\n",
      "\u001b[1m154/154\u001b[0m \u001b[32m━━━━━━━━━━━━━━━━━━━━\u001b[0m\u001b[37m\u001b[0m \u001b[1m7s\u001b[0m 38ms/step - accuracy: 0.3399 - loss: 1.5467 - val_accuracy: 0.0167 - val_loss: 1.6463\n",
      "Epoch 5/10\n",
      "\u001b[1m154/154\u001b[0m \u001b[32m━━━━━━━━━━━━━━━━━━━━\u001b[0m\u001b[37m\u001b[0m \u001b[1m7s\u001b[0m 40ms/step - accuracy: 0.1568 - loss: 1.5886 - val_accuracy: 0.0167 - val_loss: 1.6249\n",
      "Epoch 6/10\n",
      "\u001b[1m154/154\u001b[0m \u001b[32m━━━━━━━━━━━━━━━━━━━━\u001b[0m\u001b[37m\u001b[0m \u001b[1m7s\u001b[0m 39ms/step - accuracy: 0.1069 - loss: 1.6681 - val_accuracy: 0.8469 - val_loss: 1.5756\n",
      "Epoch 7/10\n",
      "\u001b[1m154/154\u001b[0m \u001b[32m━━━━━━━━━━━━━━━━━━━━\u001b[0m\u001b[37m\u001b[0m \u001b[1m7s\u001b[0m 39ms/step - accuracy: 0.2726 - loss: 1.6376 - val_accuracy: 0.8469 - val_loss: 1.5967\n",
      "Epoch 8/10\n",
      "\u001b[1m154/154\u001b[0m \u001b[32m━━━━━━━━━━━━━━━━━━━━\u001b[0m\u001b[37m\u001b[0m \u001b[1m7s\u001b[0m 39ms/step - accuracy: 0.3065 - loss: 1.5903 - val_accuracy: 0.0130 - val_loss: 1.5982\n",
      "Epoch 9/10\n",
      "\u001b[1m154/154\u001b[0m \u001b[32m━━━━━━━━━━━━━━━━━━━━\u001b[0m\u001b[37m\u001b[0m \u001b[1m8s\u001b[0m 40ms/step - accuracy: 0.1571 - loss: 1.5499 - val_accuracy: 0.0098 - val_loss: 1.6348\n",
      "Epoch 10/10\n",
      "\u001b[1m154/154\u001b[0m \u001b[32m━━━━━━━━━━━━━━━━━━━━\u001b[0m\u001b[37m\u001b[0m \u001b[1m7s\u001b[0m 39ms/step - accuracy: 0.0999 - loss: 1.6212 - val_accuracy: 0.0171 - val_loss: 1.6067\n"
     ]
    }
   ],
   "source": [
    "from sklearn.utils.class_weight import compute_class_weight\n",
    "# Calcular los pesos de las clases\n",
    "class_weights = compute_class_weight('balanced', classes=np.unique(y_train), y=y_train)\n",
    "class_weight_dict = dict(enumerate(class_weights))\n",
    "\n",
    "modelo_v2 = crear_modelo_lstm(vocab_size=1000)\n",
    "\n",
    "# Entrenar el modelo con los pesos de clase\n",
    "history_v2 = modelo_v2.fit(train_dataset, epochs=10, validation_data=test_dataset, class_weight=class_weight_dict)"
   ]
  },
  {
   "cell_type": "code",
   "execution_count": 23,
   "metadata": {},
   "outputs": [
    {
     "name": "stdout",
     "output_type": "stream",
     "text": [
      "\u001b[1m39/39\u001b[0m \u001b[32m━━━━━━━━━━━━━━━━━━━━\u001b[0m\u001b[37m\u001b[0m \u001b[1m1s\u001b[0m 25ms/step\n"
     ]
    },
    {
     "data": {
      "image/png": "[encoded data removed]",
      "text/plain": [
       "<Figure size 800x600 with 2 Axes>"
      ]
     },
     "metadata": {},
     "output_type": "display_data"
    },
    {
     "name": "stdout",
     "output_type": "stream",
     "text": [
      "              precision    recall  f1-score   support\n",
      "\n",
      "           0       0.00      0.00      0.00       277\n",
      "           1       0.00      0.00      0.00        25\n",
      "           2       0.00      0.00      0.00        32\n",
      "           3       0.50      0.00      0.00      2081\n",
      "           4       0.02      1.00      0.03        41\n",
      "\n",
      "    accuracy                           0.02      2456\n",
      "   macro avg       0.10      0.20      0.01      2456\n",
      "weighted avg       0.42      0.02      0.00      2456\n",
      "\n"
     ]
    },
    {
     "name": "stderr",
     "output_type": "stream",
     "text": [
      "c:\\ProgramData\\anaconda3\\Lib\\site-packages\\sklearn\\metrics\\_classification.py:1344: UndefinedMetricWarning: Precision and F-score are ill-defined and being set to 0.0 in labels with no predicted samples. Use `zero_division` parameter to control this behavior.\n",
      "  _warn_prf(average, modifier, msg_start, len(result))\n",
      "c:\\ProgramData\\anaconda3\\Lib\\site-packages\\sklearn\\metrics\\_classification.py:1344: UndefinedMetricWarning: Precision and F-score are ill-defined and being set to 0.0 in labels with no predicted samples. Use `zero_division` parameter to control this behavior.\n",
      "  _warn_prf(average, modifier, msg_start, len(result))\n",
      "c:\\ProgramData\\anaconda3\\Lib\\site-packages\\sklearn\\metrics\\_classification.py:1344: UndefinedMetricWarning: Precision and F-score are ill-defined and being set to 0.0 in labels with no predicted samples. Use `zero_division` parameter to control this behavior.\n",
      "  _warn_prf(average, modifier, msg_start, len(result))\n"
     ]
    }
   ],
   "source": [
    "matriz_confusion(modelo_v2)"
   ]
  },
  {
   "cell_type": "markdown",
   "metadata": {},
   "source": [
    "## resultado del ajuste de los pesos de las clases en el entrenamiento\n",
    " Con una accuracy del 2% nos refleja que el modelo no es capaz de aprender nada de los datos aunque estén ponderados los pesos en aprendizaje para que este aprenda del resto de clases, en este caso el modelo aprende que para todos estos forman parte de la segunda clase mayoritaria en este caso la clase 5 la cual tiene un recall del 100% pero un acierto del 2% indicadnos que el modelo no ha aprendido nada"
   ]
  },
  {
   "cell_type": "markdown",
   "metadata": {},
   "source": [
    "--- \n",
    "#   2. Reequilibrar los datos\n",
    "\n",
    "Este tercer planteamiento se plantea un oversampling de las clases minoritarias para observar si de esta forma el modelo es capaz de aprender."
   ]
  },
  {
   "cell_type": "code",
   "execution_count": 24,
   "metadata": {},
   "outputs": [
    {
     "name": "stdout",
     "output_type": "stream",
     "text": [
      "label\n",
      "3    8293\n",
      "0    5908\n",
      "4     907\n",
      "2     791\n",
      "1     687\n",
      "Name: count, dtype: int64\n"
     ]
    }
   ],
   "source": [
    "from sklearn.utils import resample\n",
    "\n",
    "# Crear un DataFrame con los datos de entrenamiento\n",
    "train_data = pd.DataFrame(X_train)\n",
    "train_data['label'] = y_train\n",
    "\n",
    "# Identificar las clases minoritarias y mayoritarias\n",
    "minority_class = train_data[train_data['label'] != 3]  # Cambiar 3 por la clase mayoritaria\n",
    "majority_class = train_data[train_data['label'] == 3]\n",
    "\n",
    "# Sobremuestrear las clases minoritarias\n",
    "minority_class_oversampled = resample(minority_class,\n",
    "                                      replace=True,  # Permite duplicar las muestras\n",
    "                                      n_samples=len(majority_class),  # Ajustar al tamaño de la clase mayoritaria\n",
    "                                      random_state=42)\n",
    "\n",
    "# Combinar las clases minoritarias sobremuestreadas con la clase mayoritaria\n",
    "train_balanced = pd.concat([majority_class, minority_class_oversampled])\n",
    "\n",
    "# Verificar la distribución de clases balanceada\n",
    "print(train_balanced['label'].value_counts())\n",
    "\n",
    "# Aquí debes separar X (características) y y (etiquetas)\n",
    "X_balanced = train_balanced[0]  # Suponiendo que 'mensaje' es la columna de texto\n",
    "y_balanced = train_balanced['label']\n",
    "\n",
    "# Preprocesar y tokenizar el texto usando TextVectorization\n",
    "vectorizador = tf.keras.layers.TextVectorization(max_tokens=1000, output_mode='int', output_sequence_length=100)\n",
    "\n",
    "# Adaptar el vectorizador a los datos\n",
    "vectorizador.adapt(X_balanced)\n",
    "\n",
    "# Convertir las entradas de texto en secuencias de índices\n",
    "X_balanced_vectorized = vectorizador(X_balanced)\n",
    "\n",
    "# Convertir a un array de NumPy con el tipo de datos correcto\n",
    "X_balanced_array = np.array(X_balanced_vectorized, dtype=np.int32)  # Asegúrate de que el tipo sea np.int32\n",
    "y_balanced_array = np.array(y_balanced, dtype=np.int32)  # Asegúrate de que el tipo sea np.int32\n",
    "\n",
    "# Ahora que X_balanced_array y y_balanced_array están en formato NumPy, podemos crear un nuevo dataset\n",
    "train_balanced_dataset = tf.data.Dataset.from_tensor_slices((X_balanced_array, y_balanced_array))\n",
    "\n",
    "# Configuramos el batching y prefetching para optimizar el rendimiento\n",
    "train_balanced_dataset = train_balanced_dataset.shuffle(10000).batch(64).prefetch(tf.data.AUTOTUNE)\n"
   ]
  },
  {
   "cell_type": "markdown",
   "metadata": {},
   "source": [
    "Con esto logramos incrementar el número de registros en las clases minoritarias obteniendo así casi seis veces más datos respecto a los datos originales."
   ]
  },
  {
   "cell_type": "code",
   "execution_count": 25,
   "metadata": {},
   "outputs": [
    {
     "name": "stdout",
     "output_type": "stream",
     "text": [
      "Epoch 1/10\n"
     ]
    },
    {
     "name": "stderr",
     "output_type": "stream",
     "text": [
      "C:\\Users\\GenisPc\\AppData\\Roaming\\Python\\Python311\\site-packages\\keras\\src\\layers\\core\\embedding.py:90: UserWarning: Argument `input_length` is deprecated. Just remove it.\n",
      "  warnings.warn(\n"
     ]
    },
    {
     "name": "stdout",
     "output_type": "stream",
     "text": [
      "\u001b[1m260/260\u001b[0m \u001b[32m━━━━━━━━━━━━━━━━━━━━\u001b[0m\u001b[37m\u001b[0m \u001b[1m13s\u001b[0m 39ms/step - accuracy: 0.5969 - loss: 1.0792 - val_accuracy: 0.1128 - val_loss: 0.9850\n",
      "Epoch 2/10\n",
      "\u001b[1m260/260\u001b[0m \u001b[32m━━━━━━━━━━━━━━━━━━━━\u001b[0m\u001b[37m\u001b[0m \u001b[1m10s\u001b[0m 37ms/step - accuracy: 0.5666 - loss: 1.0517 - val_accuracy: 0.8473 - val_loss: 0.9336\n",
      "Epoch 3/10\n",
      "\u001b[1m260/260\u001b[0m \u001b[32m━━━━━━━━━━━━━━━━━━━━\u001b[0m\u001b[37m\u001b[0m \u001b[1m10s\u001b[0m 38ms/step - accuracy: 0.5892 - loss: 1.0524 - val_accuracy: 0.1128 - val_loss: 0.9678\n",
      "Epoch 4/10\n",
      "\u001b[1m260/260\u001b[0m \u001b[32m━━━━━━━━━━━━━━━━━━━━\u001b[0m\u001b[37m\u001b[0m \u001b[1m10s\u001b[0m 38ms/step - accuracy: 0.5607 - loss: 1.0573 - val_accuracy: 0.8473 - val_loss: 0.9117\n",
      "Epoch 5/10\n",
      "\u001b[1m260/260\u001b[0m \u001b[32m━━━━━━━━━━━━━━━━━━━━\u001b[0m\u001b[37m\u001b[0m \u001b[1m11s\u001b[0m 42ms/step - accuracy: 0.5989 - loss: 1.0399 - val_accuracy: 0.8473 - val_loss: 0.9378\n",
      "Epoch 6/10\n",
      "\u001b[1m260/260\u001b[0m \u001b[32m━━━━━━━━━━━━━━━━━━━━\u001b[0m\u001b[37m\u001b[0m \u001b[1m10s\u001b[0m 38ms/step - accuracy: 0.6064 - loss: 1.0530 - val_accuracy: 0.8469 - val_loss: 0.9592\n",
      "Epoch 7/10\n",
      "\u001b[1m260/260\u001b[0m \u001b[32m━━━━━━━━━━━━━━━━━━━━\u001b[0m\u001b[37m\u001b[0m \u001b[1m10s\u001b[0m 37ms/step - accuracy: 0.5825 - loss: 1.0633 - val_accuracy: 0.8473 - val_loss: 0.9320\n",
      "Epoch 8/10\n",
      "\u001b[1m260/260\u001b[0m \u001b[32m━━━━━━━━━━━━━━━━━━━━\u001b[0m\u001b[37m\u001b[0m \u001b[1m10s\u001b[0m 37ms/step - accuracy: 0.5928 - loss: 1.0597 - val_accuracy: 0.8461 - val_loss: 0.9335\n",
      "Epoch 9/10\n",
      "\u001b[1m260/260\u001b[0m \u001b[32m━━━━━━━━━━━━━━━━━━━━\u001b[0m\u001b[37m\u001b[0m \u001b[1m10s\u001b[0m 37ms/step - accuracy: 0.6044 - loss: 1.0538 - val_accuracy: 0.8473 - val_loss: 0.9465\n",
      "Epoch 10/10\n",
      "\u001b[1m260/260\u001b[0m \u001b[32m━━━━━━━━━━━━━━━━━━━━\u001b[0m\u001b[37m\u001b[0m \u001b[1m10s\u001b[0m 37ms/step - accuracy: 0.6012 - loss: 1.0672 - val_accuracy: 0.8473 - val_loss: 0.9286\n"
     ]
    }
   ],
   "source": [
    "modelo_v3 = crear_modelo_lstm(vocab_size=1000)\n",
    "\n",
    "# Entrenar el modelo con los pesos de clase\n",
    "history_v3 = modelo_v3.fit(train_balanced_dataset, epochs=10, validation_data=test_dataset)"
   ]
  },
  {
   "cell_type": "code",
   "execution_count": 26,
   "metadata": {},
   "outputs": [
    {
     "name": "stdout",
     "output_type": "stream",
     "text": [
      "\u001b[1m39/39\u001b[0m \u001b[32m━━━━━━━━━━━━━━━━━━━━\u001b[0m\u001b[37m\u001b[0m \u001b[1m1s\u001b[0m 23ms/step\n"
     ]
    },
    {
     "data": {
      "image/png": "[encoded data removed]",
      "text/plain": [
       "<Figure size 800x600 with 2 Axes>"
      ]
     },
     "metadata": {},
     "output_type": "display_data"
    },
    {
     "name": "stdout",
     "output_type": "stream",
     "text": [
      "              precision    recall  f1-score   support\n",
      "\n",
      "           0       0.00      0.00      0.00       277\n",
      "           1       0.00      0.00      0.00        25\n",
      "           2       0.00      0.00      0.00        32\n",
      "           3       0.85      1.00      0.92      2081\n",
      "           4       0.00      0.00      0.00        41\n",
      "\n",
      "    accuracy                           0.85      2456\n",
      "   macro avg       0.17      0.20      0.18      2456\n",
      "weighted avg       0.72      0.85      0.78      2456\n",
      "\n"
     ]
    },
    {
     "name": "stderr",
     "output_type": "stream",
     "text": [
      "c:\\ProgramData\\anaconda3\\Lib\\site-packages\\sklearn\\metrics\\_classification.py:1344: UndefinedMetricWarning: Precision and F-score are ill-defined and being set to 0.0 in labels with no predicted samples. Use `zero_division` parameter to control this behavior.\n",
      "  _warn_prf(average, modifier, msg_start, len(result))\n",
      "c:\\ProgramData\\anaconda3\\Lib\\site-packages\\sklearn\\metrics\\_classification.py:1344: UndefinedMetricWarning: Precision and F-score are ill-defined and being set to 0.0 in labels with no predicted samples. Use `zero_division` parameter to control this behavior.\n",
      "  _warn_prf(average, modifier, msg_start, len(result))\n",
      "c:\\ProgramData\\anaconda3\\Lib\\site-packages\\sklearn\\metrics\\_classification.py:1344: UndefinedMetricWarning: Precision and F-score are ill-defined and being set to 0.0 in labels with no predicted samples. Use `zero_division` parameter to control this behavior.\n",
      "  _warn_prf(average, modifier, msg_start, len(result))\n"
     ]
    }
   ],
   "source": [
    "matriz_confusion(modelo_v3)"
   ]
  },
  {
   "cell_type": "markdown",
   "metadata": {},
   "source": [
    "# Resultado del oversampling\n",
    "La matriz de confusión refleja que no ha habido ningún cambio respecto al balanceo original de los datos y que el modelo sigue sin aprender ningún patron en los datos"
   ]
  },
  {
   "cell_type": "markdown",
   "metadata": {},
   "source": [
    "--- \n",
    "#   Oversampling + ajuste de pesos en las clases durante el entrenamiento"
   ]
  },
  {
   "cell_type": "code",
   "execution_count": 27,
   "metadata": {},
   "outputs": [
    {
     "name": "stdout",
     "output_type": "stream",
     "text": [
      "Epoch 1/10\n"
     ]
    },
    {
     "name": "stderr",
     "output_type": "stream",
     "text": [
      "C:\\Users\\GenisPc\\AppData\\Roaming\\Python\\Python311\\site-packages\\keras\\src\\layers\\core\\embedding.py:90: UserWarning: Argument `input_length` is deprecated. Just remove it.\n",
      "  warnings.warn(\n"
     ]
    },
    {
     "name": "stdout",
     "output_type": "stream",
     "text": [
      "\u001b[1m260/260\u001b[0m \u001b[32m━━━━━━━━━━━━━━━━━━━━\u001b[0m\u001b[37m\u001b[0m \u001b[1m13s\u001b[0m 38ms/step - accuracy: 0.4780 - loss: 1.3708 - val_accuracy: 0.0167 - val_loss: 1.8572\n",
      "Epoch 2/10\n",
      "\u001b[1m260/260\u001b[0m \u001b[32m━━━━━━━━━━━━━━━━━━━━\u001b[0m\u001b[37m\u001b[0m \u001b[1m9s\u001b[0m 36ms/step - accuracy: 0.3716 - loss: 1.4033 - val_accuracy: 0.1128 - val_loss: 1.7613\n",
      "Epoch 3/10\n",
      "\u001b[1m260/260\u001b[0m \u001b[32m━━━━━━━━━━━━━━━━━━━━\u001b[0m\u001b[37m\u001b[0m \u001b[1m10s\u001b[0m 37ms/step - accuracy: 0.4039 - loss: 1.3928 - val_accuracy: 0.1128 - val_loss: 1.8159\n",
      "Epoch 4/10\n",
      "\u001b[1m260/260\u001b[0m \u001b[32m━━━━━━━━━━━━━━━━━━━━\u001b[0m\u001b[37m\u001b[0m \u001b[1m10s\u001b[0m 37ms/step - accuracy: 0.3822 - loss: 1.4037 - val_accuracy: 0.1128 - val_loss: 1.8145\n",
      "Epoch 5/10\n",
      "\u001b[1m260/260\u001b[0m \u001b[32m━━━━━━━━━━━━━━━━━━━━\u001b[0m\u001b[37m\u001b[0m \u001b[1m10s\u001b[0m 38ms/step - accuracy: 0.3900 - loss: 1.3979 - val_accuracy: 0.0130 - val_loss: 1.7659\n",
      "Epoch 6/10\n",
      "\u001b[1m260/260\u001b[0m \u001b[32m━━━━━━━━━━━━━━━━━━━━\u001b[0m\u001b[37m\u001b[0m \u001b[1m10s\u001b[0m 37ms/step - accuracy: 0.3972 - loss: 1.4081 - val_accuracy: 0.1132 - val_loss: 1.7257\n",
      "Epoch 7/10\n",
      "\u001b[1m260/260\u001b[0m \u001b[32m━━━━━━━━━━━━━━━━━━━━\u001b[0m\u001b[37m\u001b[0m \u001b[1m10s\u001b[0m 37ms/step - accuracy: 0.4271 - loss: 1.3986 - val_accuracy: 0.0179 - val_loss: 1.7768\n",
      "Epoch 8/10\n",
      "\u001b[1m260/260\u001b[0m \u001b[32m━━━━━━━━━━━━━━━━━━━━\u001b[0m\u001b[37m\u001b[0m \u001b[1m10s\u001b[0m 38ms/step - accuracy: 0.3594 - loss: 1.4055 - val_accuracy: 0.0106 - val_loss: 1.7967\n",
      "Epoch 9/10\n",
      "\u001b[1m260/260\u001b[0m \u001b[32m━━━━━━━━━━━━━━━━━━━━\u001b[0m\u001b[37m\u001b[0m \u001b[1m10s\u001b[0m 37ms/step - accuracy: 0.3611 - loss: 1.4201 - val_accuracy: 0.1132 - val_loss: 1.6880\n",
      "Epoch 10/10\n",
      "\u001b[1m260/260\u001b[0m \u001b[32m━━━━━━━━━━━━━━━━━━━━\u001b[0m\u001b[37m\u001b[0m \u001b[1m10s\u001b[0m 38ms/step - accuracy: 0.4485 - loss: 1.3665 - val_accuracy: 0.0159 - val_loss: 1.7807\n"
     ]
    }
   ],
   "source": [
    "modelo_v4 = crear_modelo_lstm(vocab_size=1000)\n",
    "\n",
    "# Calcular los pesos de las clases\n",
    "class_weights = compute_class_weight('balanced', classes=np.unique(y_balanced), y=y_balanced)\n",
    "class_weight_dict = dict(enumerate(class_weights))\n",
    "\n",
    "# Entrenar el modelo con los pesos de clase\n",
    "history_v4 = modelo_v4.fit(train_balanced_dataset, epochs=10, validation_data=test_dataset, class_weight=class_weight_dict)"
   ]
  },
  {
   "cell_type": "code",
   "execution_count": 28,
   "metadata": {},
   "outputs": [
    {
     "name": "stdout",
     "output_type": "stream",
     "text": [
      "\u001b[1m39/39\u001b[0m \u001b[32m━━━━━━━━━━━━━━━━━━━━\u001b[0m\u001b[37m\u001b[0m \u001b[1m1s\u001b[0m 21ms/step\n"
     ]
    },
    {
     "data": {
      "image/png": "[encoded data removed]",
      "text/plain": [
       "<Figure size 800x600 with 2 Axes>"
      ]
     },
     "metadata": {},
     "output_type": "display_data"
    },
    {
     "name": "stdout",
     "output_type": "stream",
     "text": [
      "              precision    recall  f1-score   support\n",
      "\n",
      "           0       0.00      0.00      0.00       277\n",
      "           1       0.02      0.20      0.03        25\n",
      "           2       0.33      0.03      0.06        32\n",
      "           3       0.00      0.00      0.00      2081\n",
      "           4       0.02      0.80      0.03        41\n",
      "\n",
      "    accuracy                           0.02      2456\n",
      "   macro avg       0.07      0.21      0.02      2456\n",
      "weighted avg       0.00      0.02      0.00      2456\n",
      "\n"
     ]
    },
    {
     "name": "stderr",
     "output_type": "stream",
     "text": [
      "c:\\ProgramData\\anaconda3\\Lib\\site-packages\\sklearn\\metrics\\_classification.py:1344: UndefinedMetricWarning: Precision and F-score are ill-defined and being set to 0.0 in labels with no predicted samples. Use `zero_division` parameter to control this behavior.\n",
      "  _warn_prf(average, modifier, msg_start, len(result))\n",
      "c:\\ProgramData\\anaconda3\\Lib\\site-packages\\sklearn\\metrics\\_classification.py:1344: UndefinedMetricWarning: Precision and F-score are ill-defined and being set to 0.0 in labels with no predicted samples. Use `zero_division` parameter to control this behavior.\n",
      "  _warn_prf(average, modifier, msg_start, len(result))\n",
      "c:\\ProgramData\\anaconda3\\Lib\\site-packages\\sklearn\\metrics\\_classification.py:1344: UndefinedMetricWarning: Precision and F-score are ill-defined and being set to 0.0 in labels with no predicted samples. Use `zero_division` parameter to control this behavior.\n",
      "  _warn_prf(average, modifier, msg_start, len(result))\n"
     ]
    }
   ],
   "source": [
    "matriz_confusion(modelo_v4)"
   ]
  },
  {
   "cell_type": "markdown",
   "metadata": {},
   "source": [
    "# Resultado\n",
    "\n",
    "El modelo trata de aprender a no clasificar para la clase mayoritaria (Clase 4) pero este es incapaz de encontrar un patron en los datos por lo que no ajusta los pesos a una clase de forma correcta, dando como resultado en una tasa de acierto del 2%."
   ]
  },
  {
   "cell_type": "markdown",
   "metadata": {},
   "source": [
    "---\n",
    "#   Undersampling\n",
    "Si el incremento de las clases minoritarias no es suficiente para encontrar los patrones para el resto de clases, vamos a observar como afectaría es reducimos la clase mayoritaria en lugar de aumentar el resto de clases"
   ]
  },
  {
   "cell_type": "code",
   "execution_count": 29,
   "metadata": {},
   "outputs": [
    {
     "name": "stdout",
     "output_type": "stream",
     "text": [
      "label\n",
      "3    1530\n",
      "0    1098\n",
      "4     169\n",
      "2     140\n",
      "1     123\n",
      "Name: count, dtype: int64\n"
     ]
    }
   ],
   "source": [
    "# Separar las clases\n",
    "majority_class = train_data[train_data['label'] == 3]  # Asumimos que 4 es la clase mayoritaria\n",
    "minority_classes = train_data[train_data['label'] != 3]\n",
    "\n",
    "# Reducir la clase mayoritaria para que tenga el mismo número de muestras que las minoritarias\n",
    "majority_class_downsampled = resample(majority_class,\n",
    "                                      replace=False,    # Sin reemplazo\n",
    "                                      n_samples=len(minority_classes),  # Igualar el tamaño\n",
    "                                      random_state=42)\n",
    "\n",
    "# Combinar las clases minoritarias con la clase mayoritaria balanceada\n",
    "train_balanced = pd.concat([majority_class_downsampled, minority_classes])\n",
    "\n",
    "# Verificar la distribución de clases balanceada\n",
    "print(train_balanced['label'].value_counts())\n",
    "\n",
    "# Aquí debes separar X (características) y y (etiquetas)\n",
    "X_balanced = train_balanced[0]  # Suponiendo que 'mensaje' es la columna de texto\n",
    "y_balanced = train_balanced['label']\n",
    "\n",
    "# Preprocesar y tokenizar el texto usando TextVectorization\n",
    "vectorizador = tf.keras.layers.TextVectorization(max_tokens=1000, output_mode='int', output_sequence_length=100)\n",
    "\n",
    "# Adaptar el vectorizador a los datos\n",
    "vectorizador.adapt(X_balanced)\n",
    "\n",
    "# Convertir las entradas de texto en secuencias de índices\n",
    "X_balanced_vectorized = vectorizador(X_balanced)\n",
    "\n",
    "# Convertir a un array de NumPy con el tipo de datos correcto\n",
    "X_balanced_array = np.array(X_balanced_vectorized, dtype=np.int32)  # Asegúrate de que el tipo sea np.int32\n",
    "y_balanced_array = np.array(y_balanced, dtype=np.int32)  # Asegúrate de que el tipo sea np.int32\n",
    "\n",
    "# Ahora que X_balanced_array y y_balanced_array están en formato NumPy, podemos crear un nuevo dataset\n",
    "train_balanced_dataset = tf.data.Dataset.from_tensor_slices((X_balanced_array, y_balanced_array))\n",
    "\n",
    "# Configuramos el batching y prefetching para optimizar el rendimiento\n",
    "train_balanced_dataset = train_balanced_dataset.shuffle(10000).batch(64).prefetch(tf.data.AUTOTUNE)\n",
    "\n"
   ]
  },
  {
   "cell_type": "code",
   "execution_count": 30,
   "metadata": {},
   "outputs": [
    {
     "name": "stdout",
     "output_type": "stream",
     "text": [
      "Epoch 1/10\n"
     ]
    },
    {
     "name": "stderr",
     "output_type": "stream",
     "text": [
      "C:\\Users\\GenisPc\\AppData\\Roaming\\Python\\Python311\\site-packages\\keras\\src\\layers\\core\\embedding.py:90: UserWarning: Argument `input_length` is deprecated. Just remove it.\n",
      "  warnings.warn(\n"
     ]
    },
    {
     "name": "stdout",
     "output_type": "stream",
     "text": [
      "\u001b[1m48/48\u001b[0m \u001b[32m━━━━━━━━━━━━━━━━━━━━\u001b[0m\u001b[37m\u001b[0m \u001b[1m6s\u001b[0m 56ms/step - accuracy: 0.4394 - loss: 1.3333 - val_accuracy: 0.8473 - val_loss: 0.8959\n",
      "Epoch 2/10\n",
      "\u001b[1m48/48\u001b[0m \u001b[32m━━━━━━━━━━━━━━━━━━━━\u001b[0m\u001b[37m\u001b[0m \u001b[1m2s\u001b[0m 48ms/step - accuracy: 0.4839 - loss: 1.1708 - val_accuracy: 0.8473 - val_loss: 0.8253\n",
      "Epoch 3/10\n",
      "\u001b[1m48/48\u001b[0m \u001b[32m━━━━━━━━━━━━━━━━━━━━\u001b[0m\u001b[37m\u001b[0m \u001b[1m2s\u001b[0m 47ms/step - accuracy: 0.5011 - loss: 1.1439 - val_accuracy: 0.8473 - val_loss: 0.8154\n",
      "Epoch 4/10\n",
      "\u001b[1m48/48\u001b[0m \u001b[32m━━━━━━━━━━━━━━━━━━━━\u001b[0m\u001b[37m\u001b[0m \u001b[1m2s\u001b[0m 47ms/step - accuracy: 0.4712 - loss: 1.1839 - val_accuracy: 0.8473 - val_loss: 0.8045\n",
      "Epoch 5/10\n",
      "\u001b[1m48/48\u001b[0m \u001b[32m━━━━━━━━━━━━━━━━━━━━\u001b[0m\u001b[37m\u001b[0m \u001b[1m2s\u001b[0m 48ms/step - accuracy: 0.5086 - loss: 1.1505 - val_accuracy: 0.8473 - val_loss: 0.8613\n",
      "Epoch 6/10\n",
      "\u001b[1m48/48\u001b[0m \u001b[32m━━━━━━━━━━━━━━━━━━━━\u001b[0m\u001b[37m\u001b[0m \u001b[1m2s\u001b[0m 48ms/step - accuracy: 0.5056 - loss: 1.1699 - val_accuracy: 0.8473 - val_loss: 0.8317\n",
      "Epoch 7/10\n",
      "\u001b[1m48/48\u001b[0m \u001b[32m━━━━━━━━━━━━━━━━━━━━\u001b[0m\u001b[37m\u001b[0m \u001b[1m2s\u001b[0m 51ms/step - accuracy: 0.5021 - loss: 1.1445 - val_accuracy: 0.8473 - val_loss: 0.8367\n",
      "Epoch 8/10\n",
      "\u001b[1m48/48\u001b[0m \u001b[32m━━━━━━━━━━━━━━━━━━━━\u001b[0m\u001b[37m\u001b[0m \u001b[1m2s\u001b[0m 47ms/step - accuracy: 0.4944 - loss: 1.1677 - val_accuracy: 0.8473 - val_loss: 0.8309\n",
      "Epoch 9/10\n",
      "\u001b[1m48/48\u001b[0m \u001b[32m━━━━━━━━━━━━━━━━━━━━\u001b[0m\u001b[37m\u001b[0m \u001b[1m2s\u001b[0m 48ms/step - accuracy: 0.4974 - loss: 1.1638 - val_accuracy: 0.8473 - val_loss: 0.8283\n",
      "Epoch 10/10\n",
      "\u001b[1m48/48\u001b[0m \u001b[32m━━━━━━━━━━━━━━━━━━━━\u001b[0m\u001b[37m\u001b[0m \u001b[1m2s\u001b[0m 47ms/step - accuracy: 0.4942 - loss: 1.1540 - val_accuracy: 0.8473 - val_loss: 0.8199\n"
     ]
    }
   ],
   "source": [
    "modelo_v5 = crear_modelo_lstm(vocab_size=1000)\n",
    "\n",
    "# Entrenar el modelo con los pesos de clase\n",
    "history_v5 = modelo_v5.fit(train_balanced_dataset, epochs=10, validation_data=test_dataset)"
   ]
  },
  {
   "cell_type": "code",
   "execution_count": 31,
   "metadata": {},
   "outputs": [
    {
     "name": "stdout",
     "output_type": "stream",
     "text": [
      "\u001b[1m39/39\u001b[0m \u001b[32m━━━━━━━━━━━━━━━━━━━━\u001b[0m\u001b[37m\u001b[0m \u001b[1m1s\u001b[0m 21ms/step\n"
     ]
    },
    {
     "data": {
      "image/png": "[encoded data removed]",
      "text/plain": [
       "<Figure size 800x600 with 2 Axes>"
      ]
     },
     "metadata": {},
     "output_type": "display_data"
    },
    {
     "name": "stdout",
     "output_type": "stream",
     "text": [
      "              precision    recall  f1-score   support\n",
      "\n",
      "           0       0.00      0.00      0.00       277\n",
      "           1       0.00      0.00      0.00        25\n",
      "           2       0.00      0.00      0.00        32\n",
      "           3       0.85      1.00      0.92      2081\n",
      "           4       0.00      0.00      0.00        41\n",
      "\n",
      "    accuracy                           0.85      2456\n",
      "   macro avg       0.17      0.20      0.18      2456\n",
      "weighted avg       0.72      0.85      0.78      2456\n",
      "\n"
     ]
    },
    {
     "name": "stderr",
     "output_type": "stream",
     "text": [
      "c:\\ProgramData\\anaconda3\\Lib\\site-packages\\sklearn\\metrics\\_classification.py:1344: UndefinedMetricWarning: Precision and F-score are ill-defined and being set to 0.0 in labels with no predicted samples. Use `zero_division` parameter to control this behavior.\n",
      "  _warn_prf(average, modifier, msg_start, len(result))\n",
      "c:\\ProgramData\\anaconda3\\Lib\\site-packages\\sklearn\\metrics\\_classification.py:1344: UndefinedMetricWarning: Precision and F-score are ill-defined and being set to 0.0 in labels with no predicted samples. Use `zero_division` parameter to control this behavior.\n",
      "  _warn_prf(average, modifier, msg_start, len(result))\n",
      "c:\\ProgramData\\anaconda3\\Lib\\site-packages\\sklearn\\metrics\\_classification.py:1344: UndefinedMetricWarning: Precision and F-score are ill-defined and being set to 0.0 in labels with no predicted samples. Use `zero_division` parameter to control this behavior.\n",
      "  _warn_prf(average, modifier, msg_start, len(result))\n"
     ]
    }
   ],
   "source": [
    "matriz_confusion(modelo_v5)"
   ]
  },
  {
   "cell_type": "markdown",
   "metadata": {},
   "source": [
    "#   Resultado Undersampling\n",
    "El modelo sigue sin aprender nada sobre el resto de las clases y predice en todos los casos que para cualquier entrada de datos estos serán para el nivel 4 de intensidad de odio"
   ]
  },
  {
   "cell_type": "markdown",
   "metadata": {},
   "source": [
    "--- \n",
    "#   Undersampling + ajuste de pesos"
   ]
  },
  {
   "cell_type": "code",
   "execution_count": 32,
   "metadata": {},
   "outputs": [
    {
     "name": "stdout",
     "output_type": "stream",
     "text": [
      "Epoch 1/10\n"
     ]
    },
    {
     "name": "stderr",
     "output_type": "stream",
     "text": [
      "C:\\Users\\GenisPc\\AppData\\Roaming\\Python\\Python311\\site-packages\\keras\\src\\layers\\core\\embedding.py:90: UserWarning: Argument `input_length` is deprecated. Just remove it.\n",
      "  warnings.warn(\n"
     ]
    },
    {
     "name": "stdout",
     "output_type": "stream",
     "text": [
      "\u001b[1m48/48\u001b[0m \u001b[32m━━━━━━━━━━━━━━━━━━━━\u001b[0m\u001b[37m\u001b[0m \u001b[1m6s\u001b[0m 54ms/step - accuracy: 0.1211 - loss: 1.6521 - val_accuracy: 0.8469 - val_loss: 1.5505\n",
      "Epoch 2/10\n",
      "\u001b[1m48/48\u001b[0m \u001b[32m━━━━━━━━━━━━━━━━━━━━\u001b[0m\u001b[37m\u001b[0m \u001b[1m2s\u001b[0m 47ms/step - accuracy: 0.3173 - loss: 1.5991 - val_accuracy: 0.0098 - val_loss: 1.6103\n",
      "Epoch 3/10\n",
      "\u001b[1m48/48\u001b[0m \u001b[32m━━━━━━━━━━━━━━━━━━━━\u001b[0m\u001b[37m\u001b[0m \u001b[1m2s\u001b[0m 48ms/step - accuracy: 0.2389 - loss: 1.5871 - val_accuracy: 0.0098 - val_loss: 1.6394\n",
      "Epoch 4/10\n",
      "\u001b[1m48/48\u001b[0m \u001b[32m━━━━━━━━━━━━━━━━━━━━\u001b[0m\u001b[37m\u001b[0m \u001b[1m2s\u001b[0m 47ms/step - accuracy: 0.0689 - loss: 1.6236 - val_accuracy: 0.0098 - val_loss: 1.6100\n",
      "Epoch 5/10\n",
      "\u001b[1m48/48\u001b[0m \u001b[32m━━━━━━━━━━━━━━━━━━━━\u001b[0m\u001b[37m\u001b[0m \u001b[1m2s\u001b[0m 50ms/step - accuracy: 0.2880 - loss: 1.5934 - val_accuracy: 0.0098 - val_loss: 1.6116\n",
      "Epoch 6/10\n",
      "\u001b[1m48/48\u001b[0m \u001b[32m━━━━━━━━━━━━━━━━━━━━\u001b[0m\u001b[37m\u001b[0m \u001b[1m2s\u001b[0m 47ms/step - accuracy: 0.2461 - loss: 1.5656 - val_accuracy: 0.0167 - val_loss: 1.6115\n",
      "Epoch 7/10\n",
      "\u001b[1m48/48\u001b[0m \u001b[32m━━━━━━━━━━━━━━━━━━━━\u001b[0m\u001b[37m\u001b[0m \u001b[1m2s\u001b[0m 47ms/step - accuracy: 0.1272 - loss: 1.5792 - val_accuracy: 0.1128 - val_loss: 1.6092\n",
      "Epoch 8/10\n",
      "\u001b[1m48/48\u001b[0m \u001b[32m━━━━━━━━━━━━━━━━━━━━\u001b[0m\u001b[37m\u001b[0m \u001b[1m2s\u001b[0m 48ms/step - accuracy: 0.2939 - loss: 1.5726 - val_accuracy: 0.0167 - val_loss: 1.6180\n",
      "Epoch 9/10\n",
      "\u001b[1m48/48\u001b[0m \u001b[32m━━━━━━━━━━━━━━━━━━━━\u001b[0m\u001b[37m\u001b[0m \u001b[1m2s\u001b[0m 47ms/step - accuracy: 0.0954 - loss: 1.6580 - val_accuracy: 0.8465 - val_loss: 1.6030\n",
      "Epoch 10/10\n",
      "\u001b[1m48/48\u001b[0m \u001b[32m━━━━━━━━━━━━━━━━━━━━\u001b[0m\u001b[37m\u001b[0m \u001b[1m2s\u001b[0m 47ms/step - accuracy: 0.2097 - loss: 1.6354 - val_accuracy: 0.1136 - val_loss: 1.6003\n"
     ]
    }
   ],
   "source": [
    "modelo_v6 = crear_modelo_lstm(vocab_size=1000)\n",
    "\n",
    "# Calcular los pesos de las clases\n",
    "class_weights = compute_class_weight('balanced', classes=np.unique(y_balanced), y=y_balanced)\n",
    "class_weight_dict = dict(enumerate(class_weights))\n",
    "\n",
    "# Entrenar el modelo con los pesos de clase\n",
    "history_v6 = modelo_v6.fit(train_balanced_dataset, epochs=10, validation_data=test_dataset, class_weight=class_weight_dict)"
   ]
  },
  {
   "cell_type": "code",
   "execution_count": 33,
   "metadata": {},
   "outputs": [
    {
     "name": "stdout",
     "output_type": "stream",
     "text": [
      "\u001b[1m39/39\u001b[0m \u001b[32m━━━━━━━━━━━━━━━━━━━━\u001b[0m\u001b[37m\u001b[0m \u001b[1m1s\u001b[0m 21ms/step\n"
     ]
    },
    {
     "data": {
      "image/png": "[encoded data removed]",
      "text/plain": [
       "<Figure size 800x600 with 2 Axes>"
      ]
     },
     "metadata": {},
     "output_type": "display_data"
    },
    {
     "name": "stdout",
     "output_type": "stream",
     "text": [
      "              precision    recall  f1-score   support\n",
      "\n",
      "           0       0.11      1.00      0.20       277\n",
      "           1       0.00      0.00      0.00        25\n",
      "           2       0.00      0.00      0.00        32\n",
      "           3       1.00      0.00      0.00      2081\n",
      "           4       0.00      0.00      0.00        41\n",
      "\n",
      "    accuracy                           0.11      2456\n",
      "   macro avg       0.22      0.20      0.04      2456\n",
      "weighted avg       0.86      0.11      0.02      2456\n",
      "\n"
     ]
    },
    {
     "name": "stderr",
     "output_type": "stream",
     "text": [
      "c:\\ProgramData\\anaconda3\\Lib\\site-packages\\sklearn\\metrics\\_classification.py:1344: UndefinedMetricWarning: Precision and F-score are ill-defined and being set to 0.0 in labels with no predicted samples. Use `zero_division` parameter to control this behavior.\n",
      "  _warn_prf(average, modifier, msg_start, len(result))\n",
      "c:\\ProgramData\\anaconda3\\Lib\\site-packages\\sklearn\\metrics\\_classification.py:1344: UndefinedMetricWarning: Precision and F-score are ill-defined and being set to 0.0 in labels with no predicted samples. Use `zero_division` parameter to control this behavior.\n",
      "  _warn_prf(average, modifier, msg_start, len(result))\n",
      "c:\\ProgramData\\anaconda3\\Lib\\site-packages\\sklearn\\metrics\\_classification.py:1344: UndefinedMetricWarning: Precision and F-score are ill-defined and being set to 0.0 in labels with no predicted samples. Use `zero_division` parameter to control this behavior.\n",
      "  _warn_prf(average, modifier, msg_start, len(result))\n"
     ]
    }
   ],
   "source": [
    "matriz_confusion(modelo_v6)"
   ]
  },
  {
   "cell_type": "markdown",
   "metadata": {},
   "source": [
    "#   Resultado\n",
    "Ofrece una mejora sobre la configuración de oversampling con ajuste de pesos pero con una aprendizaje del 10% de los datos no podemos confirmar que esta configuración sea la acertada"
   ]
  },
  {
   "cell_type": "markdown",
   "metadata": {},
   "source": [
    "---\n",
    "#   3. Mejora en la arquitectura\n",
    "\n",
    "# Mejoras en la Arquitectura del Modelo LSTM\n",
    "\n",
    "El modelo original ha sido mejorado mediante la inclusión de nuevas capas y técnicas de regularización, con el objetivo de aumentar su capacidad de generalización y mejorar su rendimiento en tareas de clasificación multiclase. A continuación, se describen los cambios y mejoras implementados:\n",
    "\n",
    "## Aumento de la Capacidad de las LSTM\n",
    "- **Mayor número de unidades LSTM**:\n",
    "  - Se incrementó el número de unidades a 128 en la primera capa LSTM para capturar mejor las relaciones contextuales en el texto.\n",
    "- **Capa Bidireccional**:\n",
    "  - Las capas LSTM son ahora bidireccionales, lo que permite al modelo procesar información en ambas direcciones (hacia adelante y hacia atrás). Esto mejora la comprensión del contexto en las secuencias.\n",
    "- **Capa LSTM adicional**:\n",
    "  - Se añadió una segunda capa LSTM bidireccional con menos unidades (64) para capturar dependencias más complejas y específicas del texto.\n",
    "\n",
    "## Mejoras en Regularización\n",
    "- **Uso intensivo de Dropout**:\n",
    "  - Se introdujo Dropout (con valores de 0.4) en múltiples puntos del modelo para reducir el riesgo de sobreajuste.\n",
    "- **Batch Normalization**:\n",
    "  - Se añadieron capas de Batch Normalization después de las densas para estabilizar y acelerar el proceso de entrenamiento, además de reducir la sensibilidad a la inicialización de los pesos.\n",
    "\n",
    "## Incremento en el Poder de Modelado\n",
    "- **Capas Densas Adicionales**:\n",
    "  - Se incluyeron múltiples capas densas con un número mayor de neuronas (128, 64) y activaciones `ReLU`, lo que aumenta la capacidad del modelo para aprender características complejas.\n",
    "- **Capa de Salida Softmax**:\n",
    "  - La capa final sigue utilizando una activación `softmax`, adecuada para la clasificación multiclase.\n",
    "\n",
    "## Optimizador Avanzado\n",
    "- **Optimización con Nadam**:\n",
    "  - El modelo ahora utiliza el optimizador Nadam (una variante de Adam), que combina el método de momento con tasas de aprendizaje adaptativas para mejorar la convergencia y rendimiento."
   ]
  },
  {
   "cell_type": "code",
   "execution_count": 34,
   "metadata": {},
   "outputs": [
    {
     "name": "stderr",
     "output_type": "stream",
     "text": [
      "C:\\Users\\GenisPc\\AppData\\Roaming\\Python\\Python311\\site-packages\\keras\\src\\layers\\core\\embedding.py:90: UserWarning: Argument `input_length` is deprecated. Just remove it.\n",
      "  warnings.warn(\n"
     ]
    },
    {
     "data": {
      "text/html": [
       "<pre style=\"white-space:pre;overflow-x:auto;line-height:normal;font-family:Menlo,'DejaVu Sans Mono',consolas,'Courier New',monospace\"><span style=\"font-weight: bold\">Model: \"sequential_6\"</span>\n",
       "</pre>\n"
      ],
      "text/plain": [
       "\u001b[1mModel: \"sequential_6\"\u001b[0m\n"
      ]
     },
     "metadata": {},
     "output_type": "display_data"
    },
    {
     "data": {
      "text/html": [
       "<pre style=\"white-space:pre;overflow-x:auto;line-height:normal;font-family:Menlo,'DejaVu Sans Mono',consolas,'Courier New',monospace\">┏━━━━━━━━━━━━━━━━━━━━━━━━━━━━━━━━━┳━━━━━━━━━━━━━━━━━━━━━━━━┳━━━━━━━━━━━━━━━┓\n",
       "┃<span style=\"font-weight: bold\"> Layer (type)                    </span>┃<span style=\"font-weight: bold\"> Output Shape           </span>┃<span style=\"font-weight: bold\">       Param # </span>┃\n",
       "┡━━━━━━━━━━━━━━━━━━━━━━━━━━━━━━━━━╇━━━━━━━━━━━━━━━━━━━━━━━━╇━━━━━━━━━━━━━━━┩\n",
       "│ embedding_6 (<span style=\"color: #0087ff; text-decoration-color: #0087ff\">Embedding</span>)         │ ?                      │   <span style=\"color: #00af00; text-decoration-color: #00af00\">0</span> (unbuilt) │\n",
       "├─────────────────────────────────┼────────────────────────┼───────────────┤\n",
       "│ bidirectional (<span style=\"color: #0087ff; text-decoration-color: #0087ff\">Bidirectional</span>)   │ ?                      │   <span style=\"color: #00af00; text-decoration-color: #00af00\">0</span> (unbuilt) │\n",
       "├─────────────────────────────────┼────────────────────────┼───────────────┤\n",
       "│ dropout_6 (<span style=\"color: #0087ff; text-decoration-color: #0087ff\">Dropout</span>)             │ ?                      │             <span style=\"color: #00af00; text-decoration-color: #00af00\">0</span> │\n",
       "├─────────────────────────────────┼────────────────────────┼───────────────┤\n",
       "│ bidirectional_1 (<span style=\"color: #0087ff; text-decoration-color: #0087ff\">Bidirectional</span>) │ ?                      │   <span style=\"color: #00af00; text-decoration-color: #00af00\">0</span> (unbuilt) │\n",
       "├─────────────────────────────────┼────────────────────────┼───────────────┤\n",
       "│ dense_6 (<span style=\"color: #0087ff; text-decoration-color: #0087ff\">Dense</span>)                 │ ?                      │   <span style=\"color: #00af00; text-decoration-color: #00af00\">0</span> (unbuilt) │\n",
       "├─────────────────────────────────┼────────────────────────┼───────────────┤\n",
       "│ dropout_7 (<span style=\"color: #0087ff; text-decoration-color: #0087ff\">Dropout</span>)             │ ?                      │             <span style=\"color: #00af00; text-decoration-color: #00af00\">0</span> │\n",
       "├─────────────────────────────────┼────────────────────────┼───────────────┤\n",
       "│ batch_normalization             │ ?                      │   <span style=\"color: #00af00; text-decoration-color: #00af00\">0</span> (unbuilt) │\n",
       "│ (<span style=\"color: #0087ff; text-decoration-color: #0087ff\">BatchNormalization</span>)            │                        │               │\n",
       "├─────────────────────────────────┼────────────────────────┼───────────────┤\n",
       "│ dense_7 (<span style=\"color: #0087ff; text-decoration-color: #0087ff\">Dense</span>)                 │ ?                      │   <span style=\"color: #00af00; text-decoration-color: #00af00\">0</span> (unbuilt) │\n",
       "├─────────────────────────────────┼────────────────────────┼───────────────┤\n",
       "│ batch_normalization_1           │ ?                      │   <span style=\"color: #00af00; text-decoration-color: #00af00\">0</span> (unbuilt) │\n",
       "│ (<span style=\"color: #0087ff; text-decoration-color: #0087ff\">BatchNormalization</span>)            │                        │               │\n",
       "├─────────────────────────────────┼────────────────────────┼───────────────┤\n",
       "│ dropout_8 (<span style=\"color: #0087ff; text-decoration-color: #0087ff\">Dropout</span>)             │ ?                      │             <span style=\"color: #00af00; text-decoration-color: #00af00\">0</span> │\n",
       "├─────────────────────────────────┼────────────────────────┼───────────────┤\n",
       "│ dense_8 (<span style=\"color: #0087ff; text-decoration-color: #0087ff\">Dense</span>)                 │ ?                      │   <span style=\"color: #00af00; text-decoration-color: #00af00\">0</span> (unbuilt) │\n",
       "├─────────────────────────────────┼────────────────────────┼───────────────┤\n",
       "│ batch_normalization_2           │ ?                      │   <span style=\"color: #00af00; text-decoration-color: #00af00\">0</span> (unbuilt) │\n",
       "│ (<span style=\"color: #0087ff; text-decoration-color: #0087ff\">BatchNormalization</span>)            │                        │               │\n",
       "├─────────────────────────────────┼────────────────────────┼───────────────┤\n",
       "│ dense_9 (<span style=\"color: #0087ff; text-decoration-color: #0087ff\">Dense</span>)                 │ ?                      │   <span style=\"color: #00af00; text-decoration-color: #00af00\">0</span> (unbuilt) │\n",
       "└─────────────────────────────────┴────────────────────────┴───────────────┘\n",
       "</pre>\n"
      ],
      "text/plain": [
       "┏━━━━━━━━━━━━━━━━━━━━━━━━━━━━━━━━━┳━━━━━━━━━━━━━━━━━━━━━━━━┳━━━━━━━━━━━━━━━┓\n",
       "┃\u001b[1m \u001b[0m\u001b[1mLayer (type)                   \u001b[0m\u001b[1m \u001b[0m┃\u001b[1m \u001b[0m\u001b[1mOutput Shape          \u001b[0m\u001b[1m \u001b[0m┃\u001b[1m \u001b[0m\u001b[1m      Param #\u001b[0m\u001b[1m \u001b[0m┃\n",
       "┡━━━━━━━━━━━━━━━━━━━━━━━━━━━━━━━━━╇━━━━━━━━━━━━━━━━━━━━━━━━╇━━━━━━━━━━━━━━━┩\n",
       "│ embedding_6 (\u001b[38;5;33mEmbedding\u001b[0m)         │ ?                      │   \u001b[38;5;34m0\u001b[0m (unbuilt) │\n",
       "├─────────────────────────────────┼────────────────────────┼───────────────┤\n",
       "│ bidirectional (\u001b[38;5;33mBidirectional\u001b[0m)   │ ?                      │   \u001b[38;5;34m0\u001b[0m (unbuilt) │\n",
       "├─────────────────────────────────┼────────────────────────┼───────────────┤\n",
       "│ dropout_6 (\u001b[38;5;33mDropout\u001b[0m)             │ ?                      │             \u001b[38;5;34m0\u001b[0m │\n",
       "├─────────────────────────────────┼────────────────────────┼───────────────┤\n",
       "│ bidirectional_1 (\u001b[38;5;33mBidirectional\u001b[0m) │ ?                      │   \u001b[38;5;34m0\u001b[0m (unbuilt) │\n",
       "├─────────────────────────────────┼────────────────────────┼───────────────┤\n",
       "│ dense_6 (\u001b[38;5;33mDense\u001b[0m)                 │ ?                      │   \u001b[38;5;34m0\u001b[0m (unbuilt) │\n",
       "├─────────────────────────────────┼────────────────────────┼───────────────┤\n",
       "│ dropout_7 (\u001b[38;5;33mDropout\u001b[0m)             │ ?                      │             \u001b[38;5;34m0\u001b[0m │\n",
       "├─────────────────────────────────┼────────────────────────┼───────────────┤\n",
       "│ batch_normalization             │ ?                      │   \u001b[38;5;34m0\u001b[0m (unbuilt) │\n",
       "│ (\u001b[38;5;33mBatchNormalization\u001b[0m)            │                        │               │\n",
       "├─────────────────────────────────┼────────────────────────┼───────────────┤\n",
       "│ dense_7 (\u001b[38;5;33mDense\u001b[0m)                 │ ?                      │   \u001b[38;5;34m0\u001b[0m (unbuilt) │\n",
       "├─────────────────────────────────┼────────────────────────┼───────────────┤\n",
       "│ batch_normalization_1           │ ?                      │   \u001b[38;5;34m0\u001b[0m (unbuilt) │\n",
       "│ (\u001b[38;5;33mBatchNormalization\u001b[0m)            │                        │               │\n",
       "├─────────────────────────────────┼────────────────────────┼───────────────┤\n",
       "│ dropout_8 (\u001b[38;5;33mDropout\u001b[0m)             │ ?                      │             \u001b[38;5;34m0\u001b[0m │\n",
       "├─────────────────────────────────┼────────────────────────┼───────────────┤\n",
       "│ dense_8 (\u001b[38;5;33mDense\u001b[0m)                 │ ?                      │   \u001b[38;5;34m0\u001b[0m (unbuilt) │\n",
       "├─────────────────────────────────┼────────────────────────┼───────────────┤\n",
       "│ batch_normalization_2           │ ?                      │   \u001b[38;5;34m0\u001b[0m (unbuilt) │\n",
       "│ (\u001b[38;5;33mBatchNormalization\u001b[0m)            │                        │               │\n",
       "├─────────────────────────────────┼────────────────────────┼───────────────┤\n",
       "│ dense_9 (\u001b[38;5;33mDense\u001b[0m)                 │ ?                      │   \u001b[38;5;34m0\u001b[0m (unbuilt) │\n",
       "└─────────────────────────────────┴────────────────────────┴───────────────┘\n"
      ]
     },
     "metadata": {},
     "output_type": "display_data"
    },
    {
     "data": {
      "text/html": [
       "<pre style=\"white-space:pre;overflow-x:auto;line-height:normal;font-family:Menlo,'DejaVu Sans Mono',consolas,'Courier New',monospace\"><span style=\"font-weight: bold\"> Total params: </span><span style=\"color: #00af00; text-decoration-color: #00af00\">0</span> (0.00 B)\n",
       "</pre>\n"
      ],
      "text/plain": [
       "\u001b[1m Total params: \u001b[0m\u001b[38;5;34m0\u001b[0m (0.00 B)\n"
      ]
     },
     "metadata": {},
     "output_type": "display_data"
    },
    {
     "data": {
      "text/html": [
       "<pre style=\"white-space:pre;overflow-x:auto;line-height:normal;font-family:Menlo,'DejaVu Sans Mono',consolas,'Courier New',monospace\"><span style=\"font-weight: bold\"> Trainable params: </span><span style=\"color: #00af00; text-decoration-color: #00af00\">0</span> (0.00 B)\n",
       "</pre>\n"
      ],
      "text/plain": [
       "\u001b[1m Trainable params: \u001b[0m\u001b[38;5;34m0\u001b[0m (0.00 B)\n"
      ]
     },
     "metadata": {},
     "output_type": "display_data"
    },
    {
     "data": {
      "text/html": [
       "<pre style=\"white-space:pre;overflow-x:auto;line-height:normal;font-family:Menlo,'DejaVu Sans Mono',consolas,'Courier New',monospace\"><span style=\"font-weight: bold\"> Non-trainable params: </span><span style=\"color: #00af00; text-decoration-color: #00af00\">0</span> (0.00 B)\n",
       "</pre>\n"
      ],
      "text/plain": [
       "\u001b[1m Non-trainable params: \u001b[0m\u001b[38;5;34m0\u001b[0m (0.00 B)\n"
      ]
     },
     "metadata": {},
     "output_type": "display_data"
    }
   ],
   "source": [
    "from tensorflow.keras import layers, models\n",
    "\n",
    "def crear_modelo_lstm_mejorado(vocab_size, embedding_dim=100, lstm_units=128, num_classes=5):\n",
    "    model = models.Sequential()\n",
    "    \n",
    "    # Capa de embedding\n",
    "    model.add(layers.Embedding(input_dim=vocab_size, output_dim=embedding_dim, input_length=100))\n",
    "    \n",
    "    # Capa LSTM con más unidades y return_sequences=True\n",
    "    model.add(layers.Bidirectional(layers.LSTM(units=lstm_units, return_sequences=True)))\n",
    "    # Regularización con Dropout\n",
    "    model.add(layers.Dropout(0.4))\n",
    "    # Otra capa LSTM para capturar más dependencias\n",
    "    model.add(layers.Bidirectional(layers.LSTM(units=lstm_units // 2, return_sequences=False)))  # Capa LSTM adicional\n",
    "    \n",
    "    # Capa densa con más neuronas y activación ReLU para más poder de modelado\n",
    "    model.add(layers.Dense(128, activation='relu'))\n",
    "    model.add(layers.Dropout(0.4))  # Dropout adicional para evitar el sobreajuste\n",
    "\n",
    "    # BatchNormalization para estabilizar el entrenamiento\n",
    "    model.add(layers.BatchNormalization())\n",
    "\n",
    "    # Capa densa con más neuronas y activación ReLU para más poder de modelado\n",
    "    model.add(layers.Dense(64, activation='relu'))\n",
    "\n",
    "    # BatchNormalization para estabilizar el entrenamiento\n",
    "    model.add(layers.BatchNormalization())\n",
    "    model.add(layers.Dropout(0.4))  # Dropout adicional para evitar el sobreajuste\n",
    "    \n",
    "    # Capa densa con más neuronas y activación ReLU para más poder de modelado\n",
    "    model.add(layers.Dense(64, activation='relu'))\n",
    "    \n",
    "    # BatchNormalization para estabilizar el entrenamiento\n",
    "    model.add(layers.BatchNormalization())\n",
    "    \n",
    "    # Capa de salida con activación softmax para clasificación multiclase\n",
    "    model.add(layers.Dense(num_classes, activation='softmax'))\n",
    "    \n",
    "    # Compilamos el modelo con un optimizador Nadam\n",
    "    model.compile(optimizer='Nadam', \n",
    "                  loss='sparse_categorical_crossentropy', \n",
    "                  metrics=['accuracy'])\n",
    "    \n",
    "    return model\n",
    "\n",
    "# Crear el modelo mejorado\n",
    "modelo_mejorado = crear_modelo_lstm_mejorado(vocab_size=1000)\n",
    "modelo_mejorado.summary()\n"
   ]
  },
  {
   "cell_type": "markdown",
   "metadata": {},
   "source": [
    "# Configuración de los datos\n",
    "\n",
    "Dado que deseamos que el modelo aprenda del resto de clases partiremos de la configuración de datos que reflejaba un entrenamiento repartido entre las clases como era el caso tanto del oversampling como el undersampling con equilibrio en los pesos de las clases durante el entrenamiento. En este caso trabajaremos en la configuración undersampling"
   ]
  },
  {
   "cell_type": "code",
   "execution_count": 35,
   "metadata": {},
   "outputs": [
    {
     "name": "stdout",
     "output_type": "stream",
     "text": [
      "label\n",
      "3    1530\n",
      "0    1098\n",
      "4     169\n",
      "2     140\n",
      "1     123\n",
      "Name: count, dtype: int64\n"
     ]
    }
   ],
   "source": [
    "# Separar las clases\n",
    "majority_class = train_data[train_data['label'] == 3]  # Asumimos que 4 es la clase mayoritaria\n",
    "minority_classes = train_data[train_data['label'] != 3]\n",
    "\n",
    "# Reducir la clase mayoritaria para que tenga el mismo número de muestras que las minoritarias\n",
    "majority_class_downsampled = resample(majority_class,\n",
    "                                      replace=False,    # Sin reemplazo\n",
    "                                      n_samples=len(minority_classes),  # Igualar el tamaño\n",
    "                                      random_state=42)\n",
    "\n",
    "# Combinar las clases minoritarias con la clase mayoritaria balanceada\n",
    "train_balanced = pd.concat([majority_class_downsampled, minority_classes])\n",
    "\n",
    "# Verificar la distribución de clases balanceada\n",
    "print(train_balanced['label'].value_counts())\n",
    "\n",
    "# Aquí debes separar X (características) y y (etiquetas)\n",
    "X_balanced = train_balanced[0]  # Suponiendo que 'mensaje' es la columna de texto\n",
    "y_balanced = train_balanced['label']\n",
    "\n",
    "# Preprocesar y tokenizar el texto usando TextVectorization\n",
    "vectorizador = tf.keras.layers.TextVectorization(max_tokens=1000, output_mode='int', output_sequence_length=100)\n",
    "\n",
    "# Adaptar el vectorizador a los datos\n",
    "vectorizador.adapt(X_balanced)\n",
    "\n",
    "# Convertir las entradas de texto en secuencias de índices\n",
    "X_balanced_vectorized = vectorizador(X_balanced)\n",
    "\n",
    "# Convertir a un array de NumPy con el tipo de datos correcto\n",
    "X_balanced_array = np.array(X_balanced_vectorized, dtype=np.int32)  # Asegúrate de que el tipo sea np.int32\n",
    "y_balanced_array = np.array(y_balanced, dtype=np.int32)  # Asegúrate de que el tipo sea np.int32\n",
    "\n",
    "# Ahora que X_balanced_array y y_balanced_array están en formato NumPy, podemos crear un nuevo dataset\n",
    "train_balanced_dataset = tf.data.Dataset.from_tensor_slices((X_balanced_array, y_balanced_array))\n",
    "\n",
    "# Configuramos el batching y prefetching para optimizar el rendimiento\n",
    "train_balanced_dataset = train_balanced_dataset.shuffle(10000).batch(64).prefetch(tf.data.AUTOTUNE)"
   ]
  },
  {
   "cell_type": "code",
   "execution_count": 37,
   "metadata": {},
   "outputs": [
    {
     "name": "stdout",
     "output_type": "stream",
     "text": [
      "Epoch 1/100\n"
     ]
    },
    {
     "name": "stderr",
     "output_type": "stream",
     "text": [
      "C:\\Users\\GenisPc\\AppData\\Roaming\\Python\\Python311\\site-packages\\keras\\src\\layers\\core\\embedding.py:90: UserWarning: Argument `input_length` is deprecated. Just remove it.\n",
      "  warnings.warn(\n"
     ]
    },
    {
     "name": "stdout",
     "output_type": "stream",
     "text": [
      "\u001b[1m48/48\u001b[0m \u001b[32m━━━━━━━━━━━━━━━━━━━━\u001b[0m\u001b[37m\u001b[0m \u001b[1m0s\u001b[0m 169ms/step - accuracy: 0.2104 - loss: 2.1024\n",
      "Epoch 1: val_accuracy improved from -inf to 0.84731, saving model to modelo_v7_mejorado.keras\n",
      "\u001b[1m48/48\u001b[0m \u001b[32m━━━━━━━━━━━━━━━━━━━━\u001b[0m\u001b[37m\u001b[0m \u001b[1m26s\u001b[0m 241ms/step - accuracy: 0.2105 - loss: 2.1012 - val_accuracy: 0.8473 - val_loss: 1.3344\n",
      "Epoch 2/100\n",
      "\u001b[1m48/48\u001b[0m \u001b[32m━━━━━━━━━━━━━━━━━━━━\u001b[0m\u001b[37m\u001b[0m \u001b[1m0s\u001b[0m 169ms/step - accuracy: 0.2117 - loss: 1.9082\n",
      "Epoch 2: val_accuracy did not improve from 0.84731\n",
      "\u001b[1m48/48\u001b[0m \u001b[32m━━━━━━━━━━━━━━━━━━━━\u001b[0m\u001b[37m\u001b[0m \u001b[1m10s\u001b[0m 218ms/step - accuracy: 0.2115 - loss: 1.9083 - val_accuracy: 0.8473 - val_loss: 1.2706\n",
      "Epoch 3/100\n",
      "\u001b[1m48/48\u001b[0m \u001b[32m━━━━━━━━━━━━━━━━━━━━\u001b[0m\u001b[37m\u001b[0m \u001b[1m0s\u001b[0m 170ms/step - accuracy: 0.2060 - loss: 1.8452\n",
      "Epoch 3: val_accuracy did not improve from 0.84731\n",
      "\u001b[1m48/48\u001b[0m \u001b[32m━━━━━━━━━━━━━━━━━━━━\u001b[0m\u001b[37m\u001b[0m \u001b[1m10s\u001b[0m 216ms/step - accuracy: 0.2059 - loss: 1.8448 - val_accuracy: 0.6030 - val_loss: 1.2827\n",
      "Epoch 4/100\n",
      "\u001b[1m48/48\u001b[0m \u001b[32m━━━━━━━━━━━━━━━━━━━━\u001b[0m\u001b[37m\u001b[0m \u001b[1m0s\u001b[0m 167ms/step - accuracy: 0.2178 - loss: 1.6938\n",
      "Epoch 4: val_accuracy did not improve from 0.84731\n",
      "\u001b[1m48/48\u001b[0m \u001b[32m━━━━━━━━━━━━━━━━━━━━\u001b[0m\u001b[37m\u001b[0m \u001b[1m10s\u001b[0m 213ms/step - accuracy: 0.2178 - loss: 1.6946 - val_accuracy: 0.0570 - val_loss: 1.4808\n",
      "Epoch 5/100\n",
      "\u001b[1m48/48\u001b[0m \u001b[32m━━━━━━━━━━━━━━━━━━━━\u001b[0m\u001b[37m\u001b[0m \u001b[1m0s\u001b[0m 170ms/step - accuracy: 0.2095 - loss: 1.8139\n",
      "Epoch 5: val_accuracy did not improve from 0.84731\n",
      "\u001b[1m48/48\u001b[0m \u001b[32m━━━━━━━━━━━━━━━━━━━━\u001b[0m\u001b[37m\u001b[0m \u001b[1m10s\u001b[0m 216ms/step - accuracy: 0.2097 - loss: 1.8125 - val_accuracy: 0.3872 - val_loss: 1.3470\n",
      "Epoch 6/100\n",
      "\u001b[1m48/48\u001b[0m \u001b[32m━━━━━━━━━━━━━━━━━━━━\u001b[0m\u001b[37m\u001b[0m \u001b[1m0s\u001b[0m 168ms/step - accuracy: 0.2302 - loss: 1.7052\n",
      "Epoch 6: val_accuracy did not improve from 0.84731\n",
      "\u001b[1m48/48\u001b[0m \u001b[32m━━━━━━━━━━━━━━━━━━━━\u001b[0m\u001b[37m\u001b[0m \u001b[1m10s\u001b[0m 215ms/step - accuracy: 0.2304 - loss: 1.7050 - val_accuracy: 0.3469 - val_loss: 1.5344\n",
      "Epoch 7/100\n",
      "\u001b[1m48/48\u001b[0m \u001b[32m━━━━━━━━━━━━━━━━━━━━\u001b[0m\u001b[37m\u001b[0m \u001b[1m0s\u001b[0m 167ms/step - accuracy: 0.2682 - loss: 1.6347\n",
      "Epoch 7: val_accuracy did not improve from 0.84731\n",
      "\u001b[1m48/48\u001b[0m \u001b[32m━━━━━━━━━━━━━━━━━━━━\u001b[0m\u001b[37m\u001b[0m \u001b[1m10s\u001b[0m 218ms/step - accuracy: 0.2680 - loss: 1.6347 - val_accuracy: 0.6283 - val_loss: 1.1052\n",
      "Epoch 8/100\n",
      "\u001b[1m48/48\u001b[0m \u001b[32m━━━━━━━━━━━━━━━━━━━━\u001b[0m\u001b[37m\u001b[0m \u001b[1m0s\u001b[0m 166ms/step - accuracy: 0.2441 - loss: 1.6527\n",
      "Epoch 8: val_accuracy did not improve from 0.84731\n",
      "\u001b[1m48/48\u001b[0m \u001b[32m━━━━━━━━━━━━━━━━━━━━\u001b[0m\u001b[37m\u001b[0m \u001b[1m10s\u001b[0m 213ms/step - accuracy: 0.2443 - loss: 1.6518 - val_accuracy: 0.7569 - val_loss: 0.9759\n",
      "Epoch 9/100\n",
      "\u001b[1m48/48\u001b[0m \u001b[32m━━━━━━━━━━━━━━━━━━━━\u001b[0m\u001b[37m\u001b[0m \u001b[1m0s\u001b[0m 166ms/step - accuracy: 0.2863 - loss: 1.5658\n",
      "Epoch 9: val_accuracy did not improve from 0.84731\n",
      "\u001b[1m48/48\u001b[0m \u001b[32m━━━━━━━━━━━━━━━━━━━━\u001b[0m\u001b[37m\u001b[0m \u001b[1m10s\u001b[0m 214ms/step - accuracy: 0.2861 - loss: 1.5661 - val_accuracy: 0.6930 - val_loss: 1.0417\n",
      "Epoch 10/100\n",
      "\u001b[1m48/48\u001b[0m \u001b[32m━━━━━━━━━━━━━━━━━━━━\u001b[0m\u001b[37m\u001b[0m \u001b[1m0s\u001b[0m 169ms/step - accuracy: 0.3139 - loss: 1.5064\n",
      "Epoch 10: val_accuracy did not improve from 0.84731\n",
      "\u001b[1m48/48\u001b[0m \u001b[32m━━━━━━━━━━━━━━━━━━━━\u001b[0m\u001b[37m\u001b[0m \u001b[1m10s\u001b[0m 217ms/step - accuracy: 0.3139 - loss: 1.5054 - val_accuracy: 0.3742 - val_loss: 1.3361\n",
      "Epoch 11/100\n",
      "\u001b[1m48/48\u001b[0m \u001b[32m━━━━━━━━━━━━━━━━━━━━\u001b[0m\u001b[37m\u001b[0m \u001b[1m0s\u001b[0m 166ms/step - accuracy: 0.3419 - loss: 1.4291\n",
      "Epoch 11: val_accuracy did not improve from 0.84731\n",
      "\u001b[1m48/48\u001b[0m \u001b[32m━━━━━━━━━━━━━━━━━━━━\u001b[0m\u001b[37m\u001b[0m \u001b[1m10s\u001b[0m 213ms/step - accuracy: 0.3421 - loss: 1.4285 - val_accuracy: 0.4251 - val_loss: 1.3826\n",
      "Epoch 12/100\n",
      "\u001b[1m48/48\u001b[0m \u001b[32m━━━━━━━━━━━━━━━━━━━━\u001b[0m\u001b[37m\u001b[0m \u001b[1m0s\u001b[0m 170ms/step - accuracy: 0.3665 - loss: 1.3300\n",
      "Epoch 12: val_accuracy did not improve from 0.84731\n",
      "\u001b[1m48/48\u001b[0m \u001b[32m━━━━━━━━━━━━━━━━━━━━\u001b[0m\u001b[37m\u001b[0m \u001b[1m10s\u001b[0m 218ms/step - accuracy: 0.3666 - loss: 1.3307 - val_accuracy: 0.3347 - val_loss: 1.7819\n",
      "Epoch 13/100\n",
      "\u001b[1m48/48\u001b[0m \u001b[32m━━━━━━━━━━━━━━━━━━━━\u001b[0m\u001b[37m\u001b[0m \u001b[1m0s\u001b[0m 165ms/step - accuracy: 0.3918 - loss: 1.2770\n",
      "Epoch 13: val_accuracy did not improve from 0.84731\n",
      "\u001b[1m48/48\u001b[0m \u001b[32m━━━━━━━━━━━━━━━━━━━━\u001b[0m\u001b[37m\u001b[0m \u001b[1m10s\u001b[0m 212ms/step - accuracy: 0.3916 - loss: 1.2774 - val_accuracy: 0.4324 - val_loss: 1.4587\n",
      "Epoch 14/100\n",
      "\u001b[1m48/48\u001b[0m \u001b[32m━━━━━━━━━━━━━━━━━━━━\u001b[0m\u001b[37m\u001b[0m \u001b[1m0s\u001b[0m 164ms/step - accuracy: 0.3684 - loss: 1.2778\n",
      "Epoch 14: val_accuracy did not improve from 0.84731\n",
      "\u001b[1m48/48\u001b[0m \u001b[32m━━━━━━━━━━━━━━━━━━━━\u001b[0m\u001b[37m\u001b[0m \u001b[1m10s\u001b[0m 211ms/step - accuracy: 0.3684 - loss: 1.2770 - val_accuracy: 0.2309 - val_loss: 1.7319\n",
      "Epoch 15/100\n",
      "\u001b[1m48/48\u001b[0m \u001b[32m━━━━━━━━━━━━━━━━━━━━\u001b[0m\u001b[37m\u001b[0m \u001b[1m0s\u001b[0m 168ms/step - accuracy: 0.3770 - loss: 1.1520\n",
      "Epoch 15: val_accuracy did not improve from 0.84731\n",
      "\u001b[1m48/48\u001b[0m \u001b[32m━━━━━━━━━━━━━━━━━━━━\u001b[0m\u001b[37m\u001b[0m \u001b[1m10s\u001b[0m 215ms/step - accuracy: 0.3770 - loss: 1.1528 - val_accuracy: 0.2077 - val_loss: 1.7876\n",
      "Epoch 16/100\n",
      "\u001b[1m48/48\u001b[0m \u001b[32m━━━━━━━━━━━━━━━━━━━━\u001b[0m\u001b[37m\u001b[0m \u001b[1m0s\u001b[0m 164ms/step - accuracy: 0.3755 - loss: 1.2519\n",
      "Epoch 16: val_accuracy did not improve from 0.84731\n",
      "\u001b[1m48/48\u001b[0m \u001b[32m━━━━━━━━━━━━━━━━━━━━\u001b[0m\u001b[37m\u001b[0m \u001b[1m10s\u001b[0m 211ms/step - accuracy: 0.3757 - loss: 1.2513 - val_accuracy: 0.2357 - val_loss: 1.6609\n",
      "Epoch 17/100\n",
      "\u001b[1m48/48\u001b[0m \u001b[32m━━━━━━━━━━━━━━━━━━━━\u001b[0m\u001b[37m\u001b[0m \u001b[1m0s\u001b[0m 172ms/step - accuracy: 0.3793 - loss: 1.1685\n",
      "Epoch 17: val_accuracy did not improve from 0.84731\n",
      "\u001b[1m48/48\u001b[0m \u001b[32m━━━━━━━━━━━━━━━━━━━━\u001b[0m\u001b[37m\u001b[0m \u001b[1m11s\u001b[0m 220ms/step - accuracy: 0.3796 - loss: 1.1678 - val_accuracy: 0.2398 - val_loss: 1.7143\n",
      "Epoch 18/100\n",
      "\u001b[1m48/48\u001b[0m \u001b[32m━━━━━━━━━━━━━━━━━━━━\u001b[0m\u001b[37m\u001b[0m \u001b[1m0s\u001b[0m 167ms/step - accuracy: 0.4175 - loss: 1.1131\n",
      "Epoch 18: val_accuracy did not improve from 0.84731\n",
      "\u001b[1m48/48\u001b[0m \u001b[32m━━━━━━━━━━━━━━━━━━━━\u001b[0m\u001b[37m\u001b[0m \u001b[1m10s\u001b[0m 211ms/step - accuracy: 0.4176 - loss: 1.1126 - val_accuracy: 0.2850 - val_loss: 1.5571\n",
      "Epoch 19/100\n",
      "\u001b[1m48/48\u001b[0m \u001b[32m━━━━━━━━━━━━━━━━━━━━\u001b[0m\u001b[37m\u001b[0m \u001b[1m0s\u001b[0m 169ms/step - accuracy: 0.4376 - loss: 1.0588\n",
      "Epoch 19: val_accuracy did not improve from 0.84731\n",
      "\u001b[1m48/48\u001b[0m \u001b[32m━━━━━━━━━━━━━━━━━━━━\u001b[0m\u001b[37m\u001b[0m \u001b[1m11s\u001b[0m 227ms/step - accuracy: 0.4376 - loss: 1.0586 - val_accuracy: 0.2093 - val_loss: 1.8695\n",
      "Epoch 20/100\n",
      "\u001b[1m48/48\u001b[0m \u001b[32m━━━━━━━━━━━━━━━━━━━━\u001b[0m\u001b[37m\u001b[0m \u001b[1m0s\u001b[0m 169ms/step - accuracy: 0.4549 - loss: 1.0097\n",
      "Epoch 20: val_accuracy did not improve from 0.84731\n",
      "\u001b[1m48/48\u001b[0m \u001b[32m━━━━━━━━━━━━━━━━━━━━\u001b[0m\u001b[37m\u001b[0m \u001b[1m10s\u001b[0m 219ms/step - accuracy: 0.4547 - loss: 1.0105 - val_accuracy: 0.2691 - val_loss: 1.7013\n",
      "Epoch 21/100\n",
      "\u001b[1m48/48\u001b[0m \u001b[32m━━━━━━━━━━━━━━━━━━━━\u001b[0m\u001b[37m\u001b[0m \u001b[1m0s\u001b[0m 163ms/step - accuracy: 0.4656 - loss: 1.0394\n",
      "Epoch 21: val_accuracy did not improve from 0.84731\n",
      "\u001b[1m48/48\u001b[0m \u001b[32m━━━━━━━━━━━━━━━━━━━━\u001b[0m\u001b[37m\u001b[0m \u001b[1m10s\u001b[0m 208ms/step - accuracy: 0.4655 - loss: 1.0398 - val_accuracy: 0.3436 - val_loss: 1.5934\n",
      "Epoch 21: early stopping\n",
      "Restoring model weights from the end of the best epoch: 1.\n"
     ]
    }
   ],
   "source": [
    "from tensorflow.keras.callbacks import ModelCheckpoint, EarlyStopping\n",
    "modelo_v7 = crear_modelo_lstm_mejorado(vocab_size=1000)\n",
    "\n",
    "# Calcular los pesos de las clases\n",
    "class_weights = compute_class_weight('balanced', classes=np.unique(y_balanced), y=y_balanced)\n",
    "class_weight_dict = dict(enumerate(class_weights))\n",
    "# Definir los callbacks\n",
    "checkpoint_callback = ModelCheckpoint(\n",
    "    'modelo_v7_mejorado.keras',           # Ruta para guardar el modelo\n",
    "    monitor='val_accuracy',           # Monitoriza la precisión de validación\n",
    "    save_best_only=True,              # Guarda solo el mejor modelo\n",
    "    mode='max',                       # Se guarda cuando la métrica aumenta (maximizar val_accuracy)\n",
    "    verbose=1                         # Muestra información cuando se guarda el modelo\n",
    ")\n",
    "\n",
    "early_stopping_callback = EarlyStopping(\n",
    "    monitor='val_accuracy',           # Monitorea la precisión de validación\n",
    "    patience=20,                        # Número de épocas sin mejora antes de detenerse\n",
    "    restore_best_weights=True,         # Restablece los pesos del mejor modelo\n",
    "    mode='max',                        # Para optimizar la precisión de validación\n",
    "    verbose=1                          # Muestra información cuando se detiene el entrenamiento\n",
    ")\n",
    "# Entrenar el modelo con los pesos de clase\n",
    "history_v7 = modelo_v7.fit(\n",
    "    train_balanced_dataset,\n",
    "    epochs=100,\n",
    "    validation_data=test_dataset,\n",
    "    class_weight=class_weight_dict,\n",
    "    callbacks=[checkpoint_callback, early_stopping_callback] \n",
    ")"
   ]
  },
  {
   "cell_type": "code",
   "execution_count": 38,
   "metadata": {},
   "outputs": [
    {
     "name": "stdout",
     "output_type": "stream",
     "text": [
      "\u001b[1m39/39\u001b[0m \u001b[32m━━━━━━━━━━━━━━━━━━━━\u001b[0m\u001b[37m\u001b[0m \u001b[1m4s\u001b[0m 82ms/step\n"
     ]
    },
    {
     "data": {
      "image/png": "[encoded data removed]",
      "text/plain": [
       "<Figure size 800x600 with 2 Axes>"
      ]
     },
     "metadata": {},
     "output_type": "display_data"
    },
    {
     "name": "stdout",
     "output_type": "stream",
     "text": [
      "              precision    recall  f1-score   support\n",
      "\n",
      "           0       0.00      0.00      0.00       277\n",
      "           1       0.00      0.00      0.00        25\n",
      "           2       0.00      0.00      0.00        32\n",
      "           3       0.85      1.00      0.92      2081\n",
      "           4       0.00      0.00      0.00        41\n",
      "\n",
      "    accuracy                           0.85      2456\n",
      "   macro avg       0.17      0.20      0.18      2456\n",
      "weighted avg       0.72      0.85      0.78      2456\n",
      "\n"
     ]
    },
    {
     "name": "stderr",
     "output_type": "stream",
     "text": [
      "c:\\ProgramData\\anaconda3\\Lib\\site-packages\\sklearn\\metrics\\_classification.py:1344: UndefinedMetricWarning: Precision and F-score are ill-defined and being set to 0.0 in labels with no predicted samples. Use `zero_division` parameter to control this behavior.\n",
      "  _warn_prf(average, modifier, msg_start, len(result))\n",
      "c:\\ProgramData\\anaconda3\\Lib\\site-packages\\sklearn\\metrics\\_classification.py:1344: UndefinedMetricWarning: Precision and F-score are ill-defined and being set to 0.0 in labels with no predicted samples. Use `zero_division` parameter to control this behavior.\n",
      "  _warn_prf(average, modifier, msg_start, len(result))\n",
      "c:\\ProgramData\\anaconda3\\Lib\\site-packages\\sklearn\\metrics\\_classification.py:1344: UndefinedMetricWarning: Precision and F-score are ill-defined and being set to 0.0 in labels with no predicted samples. Use `zero_division` parameter to control this behavior.\n",
      "  _warn_prf(average, modifier, msg_start, len(result))\n"
     ]
    }
   ],
   "source": [
    "matriz_confusion(modelo_v7)"
   ]
  },
  {
   "cell_type": "markdown",
   "metadata": {},
   "source": [
    "# Resultado\n",
    "El modelo sigue sin aprender ningún patron del resto de clases"
   ]
  },
  {
   "cell_type": "markdown",
   "metadata": {},
   "source": [
    "# 4. Modelo Red neuronal recurrente con regresión lineal\n",
    "Para ello se trata la variable a predecir como un float y se altera la cap de salida como una sola neurona de activación lineal lo cual nos permite tratar de predecir el valor numérico."
   ]
  },
  {
   "cell_type": "code",
   "execution_count": 39,
   "metadata": {},
   "outputs": [
    {
     "name": "stderr",
     "output_type": "stream",
     "text": [
      "C:\\Users\\GenisPc\\AppData\\Roaming\\Python\\Python311\\site-packages\\keras\\src\\layers\\core\\embedding.py:90: UserWarning: Argument `input_length` is deprecated. Just remove it.\n",
      "  warnings.warn(\n"
     ]
    },
    {
     "data": {
      "text/html": [
       "<pre style=\"white-space:pre;overflow-x:auto;line-height:normal;font-family:Menlo,'DejaVu Sans Mono',consolas,'Courier New',monospace\"><span style=\"font-weight: bold\">Model: \"sequential_9\"</span>\n",
       "</pre>\n"
      ],
      "text/plain": [
       "\u001b[1mModel: \"sequential_9\"\u001b[0m\n"
      ]
     },
     "metadata": {},
     "output_type": "display_data"
    },
    {
     "data": {
      "text/html": [
       "<pre style=\"white-space:pre;overflow-x:auto;line-height:normal;font-family:Menlo,'DejaVu Sans Mono',consolas,'Courier New',monospace\">┏━━━━━━━━━━━━━━━━━━━━━━━━━━━━━━━━━┳━━━━━━━━━━━━━━━━━━━━━━━━┳━━━━━━━━━━━━━━━┓\n",
       "┃<span style=\"font-weight: bold\"> Layer (type)                    </span>┃<span style=\"font-weight: bold\"> Output Shape           </span>┃<span style=\"font-weight: bold\">       Param # </span>┃\n",
       "┡━━━━━━━━━━━━━━━━━━━━━━━━━━━━━━━━━╇━━━━━━━━━━━━━━━━━━━━━━━━╇━━━━━━━━━━━━━━━┩\n",
       "│ embedding_9 (<span style=\"color: #0087ff; text-decoration-color: #0087ff\">Embedding</span>)         │ ?                      │   <span style=\"color: #00af00; text-decoration-color: #00af00\">0</span> (unbuilt) │\n",
       "├─────────────────────────────────┼────────────────────────┼───────────────┤\n",
       "│ bidirectional_6 (<span style=\"color: #0087ff; text-decoration-color: #0087ff\">Bidirectional</span>) │ ?                      │   <span style=\"color: #00af00; text-decoration-color: #00af00\">0</span> (unbuilt) │\n",
       "├─────────────────────────────────┼────────────────────────┼───────────────┤\n",
       "│ dropout_15 (<span style=\"color: #0087ff; text-decoration-color: #0087ff\">Dropout</span>)            │ ?                      │             <span style=\"color: #00af00; text-decoration-color: #00af00\">0</span> │\n",
       "├─────────────────────────────────┼────────────────────────┼───────────────┤\n",
       "│ dense_18 (<span style=\"color: #0087ff; text-decoration-color: #0087ff\">Dense</span>)                │ ?                      │   <span style=\"color: #00af00; text-decoration-color: #00af00\">0</span> (unbuilt) │\n",
       "├─────────────────────────────────┼────────────────────────┼───────────────┤\n",
       "│ dropout_16 (<span style=\"color: #0087ff; text-decoration-color: #0087ff\">Dropout</span>)            │ ?                      │             <span style=\"color: #00af00; text-decoration-color: #00af00\">0</span> │\n",
       "├─────────────────────────────────┼────────────────────────┼───────────────┤\n",
       "│ dense_19 (<span style=\"color: #0087ff; text-decoration-color: #0087ff\">Dense</span>)                │ ?                      │   <span style=\"color: #00af00; text-decoration-color: #00af00\">0</span> (unbuilt) │\n",
       "├─────────────────────────────────┼────────────────────────┼───────────────┤\n",
       "│ dense_20 (<span style=\"color: #0087ff; text-decoration-color: #0087ff\">Dense</span>)                │ ?                      │   <span style=\"color: #00af00; text-decoration-color: #00af00\">0</span> (unbuilt) │\n",
       "└─────────────────────────────────┴────────────────────────┴───────────────┘\n",
       "</pre>\n"
      ],
      "text/plain": [
       "┏━━━━━━━━━━━━━━━━━━━━━━━━━━━━━━━━━┳━━━━━━━━━━━━━━━━━━━━━━━━┳━━━━━━━━━━━━━━━┓\n",
       "┃\u001b[1m \u001b[0m\u001b[1mLayer (type)                   \u001b[0m\u001b[1m \u001b[0m┃\u001b[1m \u001b[0m\u001b[1mOutput Shape          \u001b[0m\u001b[1m \u001b[0m┃\u001b[1m \u001b[0m\u001b[1m      Param #\u001b[0m\u001b[1m \u001b[0m┃\n",
       "┡━━━━━━━━━━━━━━━━━━━━━━━━━━━━━━━━━╇━━━━━━━━━━━━━━━━━━━━━━━━╇━━━━━━━━━━━━━━━┩\n",
       "│ embedding_9 (\u001b[38;5;33mEmbedding\u001b[0m)         │ ?                      │   \u001b[38;5;34m0\u001b[0m (unbuilt) │\n",
       "├─────────────────────────────────┼────────────────────────┼───────────────┤\n",
       "│ bidirectional_6 (\u001b[38;5;33mBidirectional\u001b[0m) │ ?                      │   \u001b[38;5;34m0\u001b[0m (unbuilt) │\n",
       "├─────────────────────────────────┼────────────────────────┼───────────────┤\n",
       "│ dropout_15 (\u001b[38;5;33mDropout\u001b[0m)            │ ?                      │             \u001b[38;5;34m0\u001b[0m │\n",
       "├─────────────────────────────────┼────────────────────────┼───────────────┤\n",
       "│ dense_18 (\u001b[38;5;33mDense\u001b[0m)                │ ?                      │   \u001b[38;5;34m0\u001b[0m (unbuilt) │\n",
       "├─────────────────────────────────┼────────────────────────┼───────────────┤\n",
       "│ dropout_16 (\u001b[38;5;33mDropout\u001b[0m)            │ ?                      │             \u001b[38;5;34m0\u001b[0m │\n",
       "├─────────────────────────────────┼────────────────────────┼───────────────┤\n",
       "│ dense_19 (\u001b[38;5;33mDense\u001b[0m)                │ ?                      │   \u001b[38;5;34m0\u001b[0m (unbuilt) │\n",
       "├─────────────────────────────────┼────────────────────────┼───────────────┤\n",
       "│ dense_20 (\u001b[38;5;33mDense\u001b[0m)                │ ?                      │   \u001b[38;5;34m0\u001b[0m (unbuilt) │\n",
       "└─────────────────────────────────┴────────────────────────┴───────────────┘\n"
      ]
     },
     "metadata": {},
     "output_type": "display_data"
    },
    {
     "data": {
      "text/html": [
       "<pre style=\"white-space:pre;overflow-x:auto;line-height:normal;font-family:Menlo,'DejaVu Sans Mono',consolas,'Courier New',monospace\"><span style=\"font-weight: bold\"> Total params: </span><span style=\"color: #00af00; text-decoration-color: #00af00\">0</span> (0.00 B)\n",
       "</pre>\n"
      ],
      "text/plain": [
       "\u001b[1m Total params: \u001b[0m\u001b[38;5;34m0\u001b[0m (0.00 B)\n"
      ]
     },
     "metadata": {},
     "output_type": "display_data"
    },
    {
     "data": {
      "text/html": [
       "<pre style=\"white-space:pre;overflow-x:auto;line-height:normal;font-family:Menlo,'DejaVu Sans Mono',consolas,'Courier New',monospace\"><span style=\"font-weight: bold\"> Trainable params: </span><span style=\"color: #00af00; text-decoration-color: #00af00\">0</span> (0.00 B)\n",
       "</pre>\n"
      ],
      "text/plain": [
       "\u001b[1m Trainable params: \u001b[0m\u001b[38;5;34m0\u001b[0m (0.00 B)\n"
      ]
     },
     "metadata": {},
     "output_type": "display_data"
    },
    {
     "data": {
      "text/html": [
       "<pre style=\"white-space:pre;overflow-x:auto;line-height:normal;font-family:Menlo,'DejaVu Sans Mono',consolas,'Courier New',monospace\"><span style=\"font-weight: bold\"> Non-trainable params: </span><span style=\"color: #00af00; text-decoration-color: #00af00\">0</span> (0.00 B)\n",
       "</pre>\n"
      ],
      "text/plain": [
       "\u001b[1m Non-trainable params: \u001b[0m\u001b[38;5;34m0\u001b[0m (0.00 B)\n"
      ]
     },
     "metadata": {},
     "output_type": "display_data"
    },
    {
     "name": "stdout",
     "output_type": "stream",
     "text": [
      "Epoch 1/100\n",
      "\u001b[1m154/154\u001b[0m \u001b[32m━━━━━━━━━━━━━━━━━━━━\u001b[0m\u001b[37m\u001b[0m \u001b[1m22s\u001b[0m 103ms/step - loss: 3.4836 - mean_absolute_error: 1.4157 - val_loss: 0.9976 - val_mean_absolute_error: 0.8228\n",
      "Epoch 2/100\n",
      "\u001b[1m154/154\u001b[0m \u001b[32m━━━━━━━━━━━━━━━━━━━━\u001b[0m\u001b[37m\u001b[0m \u001b[1m15s\u001b[0m 100ms/step - loss: 1.1342 - mean_absolute_error: 0.7683 - val_loss: 1.3323 - val_mean_absolute_error: 1.1013\n",
      "Epoch 3/100\n",
      "\u001b[1m154/154\u001b[0m \u001b[32m━━━━━━━━━━━━━━━━━━━━\u001b[0m\u001b[37m\u001b[0m \u001b[1m15s\u001b[0m 98ms/step - loss: 0.9106 - mean_absolute_error: 0.7024 - val_loss: 1.6860 - val_mean_absolute_error: 1.2508\n",
      "Epoch 4/100\n",
      "\u001b[1m154/154\u001b[0m \u001b[32m━━━━━━━━━━━━━━━━━━━━\u001b[0m\u001b[37m\u001b[0m \u001b[1m15s\u001b[0m 97ms/step - loss: 0.8266 - mean_absolute_error: 0.6674 - val_loss: 1.6714 - val_mean_absolute_error: 1.2423\n",
      "Epoch 5/100\n",
      "\u001b[1m154/154\u001b[0m \u001b[32m━━━━━━━━━━━━━━━━━━━━\u001b[0m\u001b[37m\u001b[0m \u001b[1m15s\u001b[0m 97ms/step - loss: 0.7546 - mean_absolute_error: 0.6289 - val_loss: 1.5451 - val_mean_absolute_error: 1.1904\n",
      "Epoch 6/100\n",
      "\u001b[1m154/154\u001b[0m \u001b[32m━━━━━━━━━━━━━━━━━━━━\u001b[0m\u001b[37m\u001b[0m \u001b[1m15s\u001b[0m 98ms/step - loss: 0.6976 - mean_absolute_error: 0.5905 - val_loss: 1.3432 - val_mean_absolute_error: 1.0885\n",
      "Epoch 7/100\n",
      "\u001b[1m154/154\u001b[0m \u001b[32m━━━━━━━━━━━━━━━━━━━━\u001b[0m\u001b[37m\u001b[0m \u001b[1m15s\u001b[0m 97ms/step - loss: 0.6375 - mean_absolute_error: 0.5492 - val_loss: 1.2404 - val_mean_absolute_error: 1.0329\n",
      "Epoch 8/100\n",
      "\u001b[1m154/154\u001b[0m \u001b[32m━━━━━━━━━━━━━━━━━━━━\u001b[0m\u001b[37m\u001b[0m \u001b[1m15s\u001b[0m 96ms/step - loss: 0.6173 - mean_absolute_error: 0.5293 - val_loss: 1.4879 - val_mean_absolute_error: 1.1649\n",
      "Epoch 9/100\n",
      "\u001b[1m154/154\u001b[0m \u001b[32m━━━━━━━━━━━━━━━━━━━━\u001b[0m\u001b[37m\u001b[0m \u001b[1m15s\u001b[0m 100ms/step - loss: 0.5737 - mean_absolute_error: 0.5061 - val_loss: 1.6151 - val_mean_absolute_error: 1.2260\n",
      "Epoch 10/100\n",
      "\u001b[1m154/154\u001b[0m \u001b[32m━━━━━━━━━━━━━━━━━━━━\u001b[0m\u001b[37m\u001b[0m \u001b[1m15s\u001b[0m 96ms/step - loss: 0.5307 - mean_absolute_error: 0.4743 - val_loss: 1.3887 - val_mean_absolute_error: 1.1172\n",
      "Epoch 11/100\n",
      "\u001b[1m154/154\u001b[0m \u001b[32m━━━━━━━━━━━━━━━━━━━━\u001b[0m\u001b[37m\u001b[0m \u001b[1m15s\u001b[0m 97ms/step - loss: 0.5096 - mean_absolute_error: 0.4554 - val_loss: 1.3178 - val_mean_absolute_error: 1.0764\n",
      "Epoch 12/100\n",
      "\u001b[1m154/154\u001b[0m \u001b[32m━━━━━━━━━━━━━━━━━━━━\u001b[0m\u001b[37m\u001b[0m \u001b[1m15s\u001b[0m 97ms/step - loss: 0.4715 - mean_absolute_error: 0.4282 - val_loss: 1.1868 - val_mean_absolute_error: 0.9970\n",
      "Epoch 13/100\n",
      "\u001b[1m154/154\u001b[0m \u001b[32m━━━━━━━━━━━━━━━━━━━━\u001b[0m\u001b[37m\u001b[0m \u001b[1m15s\u001b[0m 97ms/step - loss: 0.4460 - mean_absolute_error: 0.4090 - val_loss: 1.3230 - val_mean_absolute_error: 1.0441\n",
      "Epoch 14/100\n",
      "\u001b[1m154/154\u001b[0m \u001b[32m━━━━━━━━━━━━━━━━━━━━\u001b[0m\u001b[37m\u001b[0m \u001b[1m15s\u001b[0m 97ms/step - loss: 0.4670 - mean_absolute_error: 0.4102 - val_loss: 1.1764 - val_mean_absolute_error: 0.9638\n",
      "Epoch 15/100\n",
      "\u001b[1m154/154\u001b[0m \u001b[32m━━━━━━━━━━━━━━━━━━━━\u001b[0m\u001b[37m\u001b[0m \u001b[1m15s\u001b[0m 97ms/step - loss: 0.4081 - mean_absolute_error: 0.3731 - val_loss: 1.1688 - val_mean_absolute_error: 0.9442\n",
      "Epoch 16/100\n",
      "\u001b[1m154/154\u001b[0m \u001b[32m━━━━━━━━━━━━━━━━━━━━\u001b[0m\u001b[37m\u001b[0m \u001b[1m15s\u001b[0m 96ms/step - loss: 0.4011 - mean_absolute_error: 0.3700 - val_loss: 1.1958 - val_mean_absolute_error: 0.9530\n",
      "Epoch 17/100\n",
      "\u001b[1m154/154\u001b[0m \u001b[32m━━━━━━━━━━━━━━━━━━━━\u001b[0m\u001b[37m\u001b[0m \u001b[1m15s\u001b[0m 97ms/step - loss: 0.4157 - mean_absolute_error: 0.3736 - val_loss: 1.0746 - val_mean_absolute_error: 0.9054\n",
      "Epoch 18/100\n",
      "\u001b[1m154/154\u001b[0m \u001b[32m━━━━━━━━━━━━━━━━━━━━\u001b[0m\u001b[37m\u001b[0m \u001b[1m15s\u001b[0m 97ms/step - loss: 0.4013 - mean_absolute_error: 0.3642 - val_loss: 0.9773 - val_mean_absolute_error: 0.8142\n",
      "Epoch 19/100\n",
      "\u001b[1m154/154\u001b[0m \u001b[32m━━━━━━━━━━━━━━━━━━━━\u001b[0m\u001b[37m\u001b[0m \u001b[1m15s\u001b[0m 99ms/step - loss: 0.3893 - mean_absolute_error: 0.3463 - val_loss: 0.9240 - val_mean_absolute_error: 0.7666\n",
      "Epoch 20/100\n",
      "\u001b[1m154/154\u001b[0m \u001b[32m━━━━━━━━━━━━━━━━━━━━\u001b[0m\u001b[37m\u001b[0m \u001b[1m15s\u001b[0m 98ms/step - loss: 0.3774 - mean_absolute_error: 0.3356 - val_loss: 0.9024 - val_mean_absolute_error: 0.7331\n",
      "Epoch 21/100\n",
      "\u001b[1m154/154\u001b[0m \u001b[32m━━━━━━━━━━━━━━━━━━━━\u001b[0m\u001b[37m\u001b[0m \u001b[1m15s\u001b[0m 98ms/step - loss: 0.3757 - mean_absolute_error: 0.3298 - val_loss: 0.8733 - val_mean_absolute_error: 0.6869\n",
      "Epoch 22/100\n",
      "\u001b[1m154/154\u001b[0m \u001b[32m━━━━━━━━━━━━━━━━━━━━\u001b[0m\u001b[37m\u001b[0m \u001b[1m15s\u001b[0m 97ms/step - loss: 0.3499 - mean_absolute_error: 0.3162 - val_loss: 0.8458 - val_mean_absolute_error: 0.6908\n",
      "Epoch 23/100\n",
      "\u001b[1m154/154\u001b[0m \u001b[32m━━━━━━━━━━━━━━━━━━━━\u001b[0m\u001b[37m\u001b[0m \u001b[1m15s\u001b[0m 100ms/step - loss: 0.3524 - mean_absolute_error: 0.3176 - val_loss: 0.8878 - val_mean_absolute_error: 0.6847\n",
      "Epoch 24/100\n",
      "\u001b[1m154/154\u001b[0m \u001b[32m━━━━━━━━━━━━━━━━━━━━\u001b[0m\u001b[37m\u001b[0m \u001b[1m15s\u001b[0m 97ms/step - loss: 0.3363 - mean_absolute_error: 0.3000 - val_loss: 0.8773 - val_mean_absolute_error: 0.6661\n",
      "Epoch 25/100\n",
      "\u001b[1m154/154\u001b[0m \u001b[32m━━━━━━━━━━━━━━━━━━━━\u001b[0m\u001b[37m\u001b[0m \u001b[1m15s\u001b[0m 100ms/step - loss: 0.3500 - mean_absolute_error: 0.3168 - val_loss: 0.8505 - val_mean_absolute_error: 0.6196\n",
      "Epoch 26/100\n",
      "\u001b[1m154/154\u001b[0m \u001b[32m━━━━━━━━━━━━━━━━━━━━\u001b[0m\u001b[37m\u001b[0m \u001b[1m16s\u001b[0m 101ms/step - loss: 0.3160 - mean_absolute_error: 0.2872 - val_loss: 0.8140 - val_mean_absolute_error: 0.5751\n",
      "Epoch 27/100\n",
      "\u001b[1m154/154\u001b[0m \u001b[32m━━━━━━━━━━━━━━━━━━━━\u001b[0m\u001b[37m\u001b[0m \u001b[1m15s\u001b[0m 99ms/step - loss: 0.3191 - mean_absolute_error: 0.2856 - val_loss: 0.8317 - val_mean_absolute_error: 0.5629\n",
      "Epoch 28/100\n",
      "\u001b[1m154/154\u001b[0m \u001b[32m━━━━━━━━━━━━━━━━━━━━\u001b[0m\u001b[37m\u001b[0m \u001b[1m15s\u001b[0m 96ms/step - loss: 0.3171 - mean_absolute_error: 0.2848 - val_loss: 0.8507 - val_mean_absolute_error: 0.5411\n",
      "Epoch 29/100\n",
      "\u001b[1m154/154\u001b[0m \u001b[32m━━━━━━━━━━━━━━━━━━━━\u001b[0m\u001b[37m\u001b[0m \u001b[1m15s\u001b[0m 96ms/step - loss: 0.3010 - mean_absolute_error: 0.2687 - val_loss: 0.8418 - val_mean_absolute_error: 0.5337\n",
      "Epoch 30/100\n",
      "\u001b[1m154/154\u001b[0m \u001b[32m━━━━━━━━━━━━━━━━━━━━\u001b[0m\u001b[37m\u001b[0m \u001b[1m15s\u001b[0m 98ms/step - loss: 0.2998 - mean_absolute_error: 0.2683 - val_loss: 0.8482 - val_mean_absolute_error: 0.5258\n",
      "Epoch 31/100\n",
      "\u001b[1m154/154\u001b[0m \u001b[32m━━━━━━━━━━━━━━━━━━━━\u001b[0m\u001b[37m\u001b[0m \u001b[1m15s\u001b[0m 97ms/step - loss: 0.2837 - mean_absolute_error: 0.2549 - val_loss: 0.8465 - val_mean_absolute_error: 0.5106\n",
      "Epoch 32/100\n",
      "\u001b[1m154/154\u001b[0m \u001b[32m━━━━━━━━━━━━━━━━━━━━\u001b[0m\u001b[37m\u001b[0m \u001b[1m15s\u001b[0m 97ms/step - loss: 0.2839 - mean_absolute_error: 0.2527 - val_loss: 0.8601 - val_mean_absolute_error: 0.4772\n",
      "Epoch 33/100\n",
      "\u001b[1m154/154\u001b[0m \u001b[32m━━━━━━━━━━━━━━━━━━━━\u001b[0m\u001b[37m\u001b[0m \u001b[1m15s\u001b[0m 98ms/step - loss: 0.2868 - mean_absolute_error: 0.2527 - val_loss: 0.8719 - val_mean_absolute_error: 0.5123\n",
      "Epoch 34/100\n",
      "\u001b[1m154/154\u001b[0m \u001b[32m━━━━━━━━━━━━━━━━━━━━\u001b[0m\u001b[37m\u001b[0m \u001b[1m15s\u001b[0m 96ms/step - loss: 0.2729 - mean_absolute_error: 0.2481 - val_loss: 0.8616 - val_mean_absolute_error: 0.4625\n",
      "Epoch 35/100\n",
      "\u001b[1m154/154\u001b[0m \u001b[32m━━━━━━━━━━━━━━━━━━━━\u001b[0m\u001b[37m\u001b[0m \u001b[1m15s\u001b[0m 98ms/step - loss: 0.2743 - mean_absolute_error: 0.2451 - val_loss: 0.8894 - val_mean_absolute_error: 0.4519\n",
      "Epoch 36/100\n",
      "\u001b[1m154/154\u001b[0m \u001b[32m━━━━━━━━━━━━━━━━━━━━\u001b[0m\u001b[37m\u001b[0m \u001b[1m15s\u001b[0m 97ms/step - loss: 0.2631 - mean_absolute_error: 0.2342 - val_loss: 0.9155 - val_mean_absolute_error: 0.4429\n",
      "Epoch 37/100\n",
      "\u001b[1m154/154\u001b[0m \u001b[32m━━━━━━━━━━━━━━━━━━━━\u001b[0m\u001b[37m\u001b[0m \u001b[1m15s\u001b[0m 97ms/step - loss: 0.2597 - mean_absolute_error: 0.2294 - val_loss: 0.9000 - val_mean_absolute_error: 0.4507\n",
      "Epoch 38/100\n",
      "\u001b[1m154/154\u001b[0m \u001b[32m━━━━━━━━━━━━━━━━━━━━\u001b[0m\u001b[37m\u001b[0m \u001b[1m15s\u001b[0m 97ms/step - loss: 0.2494 - mean_absolute_error: 0.2233 - val_loss: 0.9070 - val_mean_absolute_error: 0.4398\n",
      "Epoch 39/100\n",
      "\u001b[1m154/154\u001b[0m \u001b[32m━━━━━━━━━━━━━━━━━━━━\u001b[0m\u001b[37m\u001b[0m \u001b[1m15s\u001b[0m 97ms/step - loss: 0.2566 - mean_absolute_error: 0.2283 - val_loss: 0.9237 - val_mean_absolute_error: 0.4351\n",
      "Epoch 40/100\n",
      "\u001b[1m154/154\u001b[0m \u001b[32m━━━━━━━━━━━━━━━━━━━━\u001b[0m\u001b[37m\u001b[0m \u001b[1m15s\u001b[0m 97ms/step - loss: 0.2618 - mean_absolute_error: 0.2290 - val_loss: 0.9067 - val_mean_absolute_error: 0.4353\n",
      "Epoch 41/100\n",
      "\u001b[1m154/154\u001b[0m \u001b[32m━━━━━━━━━━━━━━━━━━━━\u001b[0m\u001b[37m\u001b[0m \u001b[1m15s\u001b[0m 96ms/step - loss: 0.2478 - mean_absolute_error: 0.2251 - val_loss: 0.9016 - val_mean_absolute_error: 0.4273\n",
      "Epoch 42/100\n",
      "\u001b[1m154/154\u001b[0m \u001b[32m━━━━━━━━━━━━━━━━━━━━\u001b[0m\u001b[37m\u001b[0m \u001b[1m15s\u001b[0m 96ms/step - loss: 0.2525 - mean_absolute_error: 0.2226 - val_loss: 0.9312 - val_mean_absolute_error: 0.4316\n",
      "Epoch 43/100\n",
      "\u001b[1m154/154\u001b[0m \u001b[32m━━━━━━━━━━━━━━━━━━━━\u001b[0m\u001b[37m\u001b[0m \u001b[1m15s\u001b[0m 97ms/step - loss: 0.2478 - mean_absolute_error: 0.2177 - val_loss: 0.9184 - val_mean_absolute_error: 0.4349\n",
      "Epoch 44/100\n",
      "\u001b[1m154/154\u001b[0m \u001b[32m━━━━━━━━━━━━━━━━━━━━\u001b[0m\u001b[37m\u001b[0m \u001b[1m15s\u001b[0m 96ms/step - loss: 0.2378 - mean_absolute_error: 0.2150 - val_loss: 0.9164 - val_mean_absolute_error: 0.4296\n",
      "Epoch 45/100\n",
      "\u001b[1m154/154\u001b[0m \u001b[32m━━━━━━━━━━━━━━━━━━━━\u001b[0m\u001b[37m\u001b[0m \u001b[1m15s\u001b[0m 97ms/step - loss: 0.2380 - mean_absolute_error: 0.2094 - val_loss: 0.9319 - val_mean_absolute_error: 0.4412\n",
      "Epoch 46/100\n",
      "\u001b[1m154/154\u001b[0m \u001b[32m━━━━━━━━━━━━━━━━━━━━\u001b[0m\u001b[37m\u001b[0m \u001b[1m15s\u001b[0m 98ms/step - loss: 0.2386 - mean_absolute_error: 0.2141 - val_loss: 0.9141 - val_mean_absolute_error: 0.4199\n",
      "Epoch 47/100\n",
      "\u001b[1m154/154\u001b[0m \u001b[32m━━━━━━━━━━━━━━━━━━━━\u001b[0m\u001b[37m\u001b[0m \u001b[1m15s\u001b[0m 98ms/step - loss: 0.2377 - mean_absolute_error: 0.2143 - val_loss: 0.8826 - val_mean_absolute_error: 0.4162\n",
      "Epoch 48/100\n",
      "\u001b[1m154/154\u001b[0m \u001b[32m━━━━━━━━━━━━━━━━━━━━\u001b[0m\u001b[37m\u001b[0m \u001b[1m15s\u001b[0m 96ms/step - loss: 0.2425 - mean_absolute_error: 0.2131 - val_loss: 0.9266 - val_mean_absolute_error: 0.4349\n",
      "Epoch 49/100\n",
      "\u001b[1m154/154\u001b[0m \u001b[32m━━━━━━━━━━━━━━━━━━━━\u001b[0m\u001b[37m\u001b[0m \u001b[1m15s\u001b[0m 96ms/step - loss: 0.2311 - mean_absolute_error: 0.2030 - val_loss: 0.8898 - val_mean_absolute_error: 0.4106\n",
      "Epoch 50/100\n",
      "\u001b[1m154/154\u001b[0m \u001b[32m━━━━━━━━━━━━━━━━━━━━\u001b[0m\u001b[37m\u001b[0m \u001b[1m15s\u001b[0m 97ms/step - loss: 0.2258 - mean_absolute_error: 0.2045 - val_loss: 0.8824 - val_mean_absolute_error: 0.4066\n",
      "Epoch 51/100\n",
      "\u001b[1m154/154\u001b[0m \u001b[32m━━━━━━━━━━━━━━━━━━━━\u001b[0m\u001b[37m\u001b[0m \u001b[1m15s\u001b[0m 98ms/step - loss: 0.2259 - mean_absolute_error: 0.2041 - val_loss: 0.9044 - val_mean_absolute_error: 0.4317\n",
      "Epoch 52/100\n",
      "\u001b[1m154/154\u001b[0m \u001b[32m━━━━━━━━━━━━━━━━━━━━\u001b[0m\u001b[37m\u001b[0m \u001b[1m15s\u001b[0m 98ms/step - loss: 0.2221 - mean_absolute_error: 0.2052 - val_loss: 0.9069 - val_mean_absolute_error: 0.4168\n",
      "Epoch 53/100\n",
      "\u001b[1m154/154\u001b[0m \u001b[32m━━━━━━━━━━━━━━━━━━━━\u001b[0m\u001b[37m\u001b[0m \u001b[1m15s\u001b[0m 97ms/step - loss: 0.2143 - mean_absolute_error: 0.1961 - val_loss: 0.8870 - val_mean_absolute_error: 0.4125\n",
      "Epoch 54/100\n",
      "\u001b[1m154/154\u001b[0m \u001b[32m━━━━━━━━━━━━━━━━━━━━\u001b[0m\u001b[37m\u001b[0m \u001b[1m15s\u001b[0m 96ms/step - loss: 0.2148 - mean_absolute_error: 0.1974 - val_loss: 0.8923 - val_mean_absolute_error: 0.4060\n",
      "Epoch 55/100\n",
      "\u001b[1m154/154\u001b[0m \u001b[32m━━━━━━━━━━━━━━━━━━━━\u001b[0m\u001b[37m\u001b[0m \u001b[1m15s\u001b[0m 98ms/step - loss: 0.2073 - mean_absolute_error: 0.1851 - val_loss: 0.8958 - val_mean_absolute_error: 0.4121\n",
      "Epoch 56/100\n",
      "\u001b[1m154/154\u001b[0m \u001b[32m━━━━━━━━━━━━━━━━━━━━\u001b[0m\u001b[37m\u001b[0m \u001b[1m15s\u001b[0m 97ms/step - loss: 0.2098 - mean_absolute_error: 0.1913 - val_loss: 0.9025 - val_mean_absolute_error: 0.4037\n",
      "Epoch 57/100\n",
      "\u001b[1m154/154\u001b[0m \u001b[32m━━━━━━━━━━━━━━━━━━━━\u001b[0m\u001b[37m\u001b[0m \u001b[1m15s\u001b[0m 96ms/step - loss: 0.2051 - mean_absolute_error: 0.1857 - val_loss: 0.9125 - val_mean_absolute_error: 0.4117\n",
      "Epoch 58/100\n",
      "\u001b[1m154/154\u001b[0m \u001b[32m━━━━━━━━━━━━━━━━━━━━\u001b[0m\u001b[37m\u001b[0m \u001b[1m15s\u001b[0m 95ms/step - loss: 0.2014 - mean_absolute_error: 0.1848 - val_loss: 0.9320 - val_mean_absolute_error: 0.4319\n",
      "Epoch 59/100\n",
      "\u001b[1m154/154\u001b[0m \u001b[32m━━━━━━━━━━━━━━━━━━━━\u001b[0m\u001b[37m\u001b[0m \u001b[1m15s\u001b[0m 97ms/step - loss: 0.2009 - mean_absolute_error: 0.1864 - val_loss: 0.9052 - val_mean_absolute_error: 0.4140\n",
      "Epoch 60/100\n",
      "\u001b[1m154/154\u001b[0m \u001b[32m━━━━━━━━━━━━━━━━━━━━\u001b[0m\u001b[37m\u001b[0m \u001b[1m15s\u001b[0m 97ms/step - loss: 0.2052 - mean_absolute_error: 0.1898 - val_loss: 0.9063 - val_mean_absolute_error: 0.4181\n",
      "Epoch 61/100\n",
      "\u001b[1m154/154\u001b[0m \u001b[32m━━━━━━━━━━━━━━━━━━━━\u001b[0m\u001b[37m\u001b[0m \u001b[1m15s\u001b[0m 100ms/step - loss: 0.2031 - mean_absolute_error: 0.1858 - val_loss: 0.8798 - val_mean_absolute_error: 0.4050\n",
      "Epoch 62/100\n",
      "\u001b[1m154/154\u001b[0m \u001b[32m━━━━━━━━━━━━━━━━━━━━\u001b[0m\u001b[37m\u001b[0m \u001b[1m15s\u001b[0m 98ms/step - loss: 0.2171 - mean_absolute_error: 0.1907 - val_loss: 0.8947 - val_mean_absolute_error: 0.4086\n",
      "Epoch 63/100\n",
      "\u001b[1m154/154\u001b[0m \u001b[32m━━━━━━━━━━━━━━━━━━━━\u001b[0m\u001b[37m\u001b[0m \u001b[1m16s\u001b[0m 101ms/step - loss: 0.2085 - mean_absolute_error: 0.1889 - val_loss: 0.9041 - val_mean_absolute_error: 0.4139\n",
      "Epoch 64/100\n",
      "\u001b[1m154/154\u001b[0m \u001b[32m━━━━━━━━━━━━━━━━━━━━\u001b[0m\u001b[37m\u001b[0m \u001b[1m16s\u001b[0m 101ms/step - loss: 0.2004 - mean_absolute_error: 0.1854 - val_loss: 0.9239 - val_mean_absolute_error: 0.4123\n",
      "Epoch 65/100\n",
      "\u001b[1m154/154\u001b[0m \u001b[32m━━━━━━━━━━━━━━━━━━━━\u001b[0m\u001b[37m\u001b[0m \u001b[1m15s\u001b[0m 100ms/step - loss: 0.2019 - mean_absolute_error: 0.1825 - val_loss: 0.9059 - val_mean_absolute_error: 0.4096\n",
      "Epoch 66/100\n",
      "\u001b[1m154/154\u001b[0m \u001b[32m━━━━━━━━━━━━━━━━━━━━\u001b[0m\u001b[37m\u001b[0m \u001b[1m15s\u001b[0m 100ms/step - loss: 0.1924 - mean_absolute_error: 0.1791 - val_loss: 0.9351 - val_mean_absolute_error: 0.4206\n",
      "Epoch 67/100\n",
      "\u001b[1m154/154\u001b[0m \u001b[32m━━━━━━━━━━━━━━━━━━━━\u001b[0m\u001b[37m\u001b[0m \u001b[1m15s\u001b[0m 100ms/step - loss: 0.1986 - mean_absolute_error: 0.1807 - val_loss: 0.9380 - val_mean_absolute_error: 0.4114\n",
      "Epoch 68/100\n",
      "\u001b[1m154/154\u001b[0m \u001b[32m━━━━━━━━━━━━━━━━━━━━\u001b[0m\u001b[37m\u001b[0m \u001b[1m15s\u001b[0m 99ms/step - loss: 0.1924 - mean_absolute_error: 0.1773 - val_loss: 0.9232 - val_mean_absolute_error: 0.4225\n",
      "Epoch 69/100\n",
      "\u001b[1m154/154\u001b[0m \u001b[32m━━━━━━━━━━━━━━━━━━━━\u001b[0m\u001b[37m\u001b[0m \u001b[1m15s\u001b[0m 100ms/step - loss: 0.1965 - mean_absolute_error: 0.1828 - val_loss: 0.9045 - val_mean_absolute_error: 0.4066\n",
      "Epoch 70/100\n",
      "\u001b[1m154/154\u001b[0m \u001b[32m━━━━━━━━━━━━━━━━━━━━\u001b[0m\u001b[37m\u001b[0m \u001b[1m15s\u001b[0m 99ms/step - loss: 0.1866 - mean_absolute_error: 0.1749 - val_loss: 0.8750 - val_mean_absolute_error: 0.4046\n",
      "Epoch 71/100\n",
      "\u001b[1m154/154\u001b[0m \u001b[32m━━━━━━━━━━━━━━━━━━━━\u001b[0m\u001b[37m\u001b[0m \u001b[1m15s\u001b[0m 101ms/step - loss: 0.1843 - mean_absolute_error: 0.1726 - val_loss: 0.9071 - val_mean_absolute_error: 0.4081\n",
      "Epoch 72/100\n",
      "\u001b[1m154/154\u001b[0m \u001b[32m━━━━━━━━━━━━━━━━━━━━\u001b[0m\u001b[37m\u001b[0m \u001b[1m15s\u001b[0m 100ms/step - loss: 0.1862 - mean_absolute_error: 0.1750 - val_loss: 0.9496 - val_mean_absolute_error: 0.4248\n",
      "Epoch 73/100\n",
      "\u001b[1m154/154\u001b[0m \u001b[32m━━━━━━━━━━━━━━━━━━━━\u001b[0m\u001b[37m\u001b[0m \u001b[1m15s\u001b[0m 99ms/step - loss: 0.1850 - mean_absolute_error: 0.1723 - val_loss: 0.9385 - val_mean_absolute_error: 0.4244\n",
      "Epoch 74/100\n",
      "\u001b[1m154/154\u001b[0m \u001b[32m━━━━━━━━━━━━━━━━━━━━\u001b[0m\u001b[37m\u001b[0m \u001b[1m15s\u001b[0m 96ms/step - loss: 0.1781 - mean_absolute_error: 0.1675 - val_loss: 0.9383 - val_mean_absolute_error: 0.4274\n",
      "Epoch 75/100\n",
      "\u001b[1m154/154\u001b[0m \u001b[32m━━━━━━━━━━━━━━━━━━━━\u001b[0m\u001b[37m\u001b[0m \u001b[1m15s\u001b[0m 97ms/step - loss: 0.1779 - mean_absolute_error: 0.1658 - val_loss: 0.9133 - val_mean_absolute_error: 0.4116\n",
      "Epoch 76/100\n",
      "\u001b[1m154/154\u001b[0m \u001b[32m━━━━━━━━━━━━━━━━━━━━\u001b[0m\u001b[37m\u001b[0m \u001b[1m15s\u001b[0m 97ms/step - loss: 0.1787 - mean_absolute_error: 0.1642 - val_loss: 0.9110 - val_mean_absolute_error: 0.4119\n",
      "Epoch 77/100\n",
      "\u001b[1m154/154\u001b[0m \u001b[32m━━━━━━━━━━━━━━━━━━━━\u001b[0m\u001b[37m\u001b[0m \u001b[1m15s\u001b[0m 98ms/step - loss: 0.1807 - mean_absolute_error: 0.1651 - val_loss: 0.9160 - val_mean_absolute_error: 0.4113\n",
      "Epoch 78/100\n",
      "\u001b[1m154/154\u001b[0m \u001b[32m━━━━━━━━━━━━━━━━━━━━\u001b[0m\u001b[37m\u001b[0m \u001b[1m15s\u001b[0m 97ms/step - loss: 0.1841 - mean_absolute_error: 0.1699 - val_loss: 0.9078 - val_mean_absolute_error: 0.4163\n",
      "Epoch 79/100\n",
      "\u001b[1m154/154\u001b[0m \u001b[32m━━━━━━━━━━━━━━━━━━━━\u001b[0m\u001b[37m\u001b[0m \u001b[1m15s\u001b[0m 96ms/step - loss: 0.1727 - mean_absolute_error: 0.1655 - val_loss: 0.9318 - val_mean_absolute_error: 0.4178\n",
      "Epoch 80/100\n",
      "\u001b[1m154/154\u001b[0m \u001b[32m━━━━━━━━━━━━━━━━━━━━\u001b[0m\u001b[37m\u001b[0m \u001b[1m15s\u001b[0m 96ms/step - loss: 0.2142 - mean_absolute_error: 0.1869 - val_loss: 0.9748 - val_mean_absolute_error: 0.4440\n",
      "Epoch 81/100\n",
      "\u001b[1m154/154\u001b[0m \u001b[32m━━━━━━━━━━━━━━━━━━━━\u001b[0m\u001b[37m\u001b[0m \u001b[1m15s\u001b[0m 96ms/step - loss: 0.1844 - mean_absolute_error: 0.1722 - val_loss: 0.9224 - val_mean_absolute_error: 0.4202\n",
      "Epoch 82/100\n",
      "\u001b[1m154/154\u001b[0m \u001b[32m━━━━━━━━━━━━━━━━━━━━\u001b[0m\u001b[37m\u001b[0m \u001b[1m15s\u001b[0m 97ms/step - loss: 0.1764 - mean_absolute_error: 0.1651 - val_loss: 0.9197 - val_mean_absolute_error: 0.4202\n",
      "Epoch 83/100\n",
      "\u001b[1m154/154\u001b[0m \u001b[32m━━━━━━━━━━━━━━━━━━━━\u001b[0m\u001b[37m\u001b[0m \u001b[1m15s\u001b[0m 97ms/step - loss: 0.1714 - mean_absolute_error: 0.1595 - val_loss: 0.9931 - val_mean_absolute_error: 0.4436\n",
      "Epoch 84/100\n",
      "\u001b[1m154/154\u001b[0m \u001b[32m━━━━━━━━━━━━━━━━━━━━\u001b[0m\u001b[37m\u001b[0m \u001b[1m15s\u001b[0m 97ms/step - loss: 0.1745 - mean_absolute_error: 0.1640 - val_loss: 0.9706 - val_mean_absolute_error: 0.4421\n",
      "Epoch 85/100\n",
      "\u001b[1m154/154\u001b[0m \u001b[32m━━━━━━━━━━━━━━━━━━━━\u001b[0m\u001b[37m\u001b[0m \u001b[1m15s\u001b[0m 98ms/step - loss: 0.1687 - mean_absolute_error: 0.1598 - val_loss: 0.9490 - val_mean_absolute_error: 0.4275\n",
      "Epoch 86/100\n",
      "\u001b[1m154/154\u001b[0m \u001b[32m━━━━━━━━━━━━━━━━━━━━\u001b[0m\u001b[37m\u001b[0m \u001b[1m15s\u001b[0m 96ms/step - loss: 0.1742 - mean_absolute_error: 0.1596 - val_loss: 0.9998 - val_mean_absolute_error: 0.4490\n",
      "Epoch 87/100\n",
      "\u001b[1m154/154\u001b[0m \u001b[32m━━━━━━━━━━━━━━━━━━━━\u001b[0m\u001b[37m\u001b[0m \u001b[1m15s\u001b[0m 96ms/step - loss: 0.1756 - mean_absolute_error: 0.1611 - val_loss: 0.9630 - val_mean_absolute_error: 0.4310\n",
      "Epoch 88/100\n",
      "\u001b[1m154/154\u001b[0m \u001b[32m━━━━━━━━━━━━━━━━━━━━\u001b[0m\u001b[37m\u001b[0m \u001b[1m15s\u001b[0m 96ms/step - loss: 0.1743 - mean_absolute_error: 0.1636 - val_loss: 0.9991 - val_mean_absolute_error: 0.4429\n",
      "Epoch 89/100\n",
      "\u001b[1m154/154\u001b[0m \u001b[32m━━━━━━━━━━━━━━━━━━━━\u001b[0m\u001b[37m\u001b[0m \u001b[1m15s\u001b[0m 97ms/step - loss: 0.1717 - mean_absolute_error: 0.1566 - val_loss: 0.9543 - val_mean_absolute_error: 0.4239\n",
      "Epoch 90/100\n",
      "\u001b[1m154/154\u001b[0m \u001b[32m━━━━━━━━━━━━━━━━━━━━\u001b[0m\u001b[37m\u001b[0m \u001b[1m15s\u001b[0m 100ms/step - loss: 0.1689 - mean_absolute_error: 0.1538 - val_loss: 1.0054 - val_mean_absolute_error: 0.4459\n",
      "Epoch 91/100\n",
      "\u001b[1m154/154\u001b[0m \u001b[32m━━━━━━━━━━━━━━━━━━━━\u001b[0m\u001b[37m\u001b[0m \u001b[1m15s\u001b[0m 99ms/step - loss: 0.1714 - mean_absolute_error: 0.1566 - val_loss: 0.9779 - val_mean_absolute_error: 0.4400\n",
      "Epoch 92/100\n",
      "\u001b[1m154/154\u001b[0m \u001b[32m━━━━━━━━━━━━━━━━━━━━\u001b[0m\u001b[37m\u001b[0m \u001b[1m16s\u001b[0m 102ms/step - loss: 0.1620 - mean_absolute_error: 0.1501 - val_loss: 0.9506 - val_mean_absolute_error: 0.4187\n",
      "Epoch 93/100\n",
      "\u001b[1m154/154\u001b[0m \u001b[32m━━━━━━━━━━━━━━━━━━━━\u001b[0m\u001b[37m\u001b[0m \u001b[1m17s\u001b[0m 107ms/step - loss: 0.1796 - mean_absolute_error: 0.1597 - val_loss: 0.9946 - val_mean_absolute_error: 0.4413\n",
      "Epoch 94/100\n",
      "\u001b[1m154/154\u001b[0m \u001b[32m━━━━━━━━━━━━━━━━━━━━\u001b[0m\u001b[37m\u001b[0m \u001b[1m17s\u001b[0m 112ms/step - loss: 0.1678 - mean_absolute_error: 0.1548 - val_loss: 0.9484 - val_mean_absolute_error: 0.4202\n",
      "Epoch 95/100\n",
      "\u001b[1m154/154\u001b[0m \u001b[32m━━━━━━━━━━━━━━━━━━━━\u001b[0m\u001b[37m\u001b[0m \u001b[1m18s\u001b[0m 116ms/step - loss: 0.1632 - mean_absolute_error: 0.1517 - val_loss: 1.0097 - val_mean_absolute_error: 0.4484\n",
      "Epoch 96/100\n",
      "\u001b[1m154/154\u001b[0m \u001b[32m━━━━━━━━━━━━━━━━━━━━\u001b[0m\u001b[37m\u001b[0m \u001b[1m19s\u001b[0m 126ms/step - loss: 0.1650 - mean_absolute_error: 0.1515 - val_loss: 0.9490 - val_mean_absolute_error: 0.4183\n",
      "Epoch 97/100\n",
      "\u001b[1m154/154\u001b[0m \u001b[32m━━━━━━━━━━━━━━━━━━━━\u001b[0m\u001b[37m\u001b[0m \u001b[1m18s\u001b[0m 120ms/step - loss: 0.1655 - mean_absolute_error: 0.1531 - val_loss: 0.9409 - val_mean_absolute_error: 0.4273\n",
      "Epoch 98/100\n",
      "\u001b[1m154/154\u001b[0m \u001b[32m━━━━━━━━━━━━━━━━━━━━\u001b[0m\u001b[37m\u001b[0m \u001b[1m18s\u001b[0m 115ms/step - loss: 0.1673 - mean_absolute_error: 0.1515 - val_loss: 0.9603 - val_mean_absolute_error: 0.4351\n",
      "Epoch 99/100\n",
      "\u001b[1m154/154\u001b[0m \u001b[32m━━━━━━━━━━━━━━━━━━━━\u001b[0m\u001b[37m\u001b[0m \u001b[1m17s\u001b[0m 113ms/step - loss: 0.1671 - mean_absolute_error: 0.1516 - val_loss: 0.9734 - val_mean_absolute_error: 0.4348\n",
      "Epoch 100/100\n",
      "\u001b[1m154/154\u001b[0m \u001b[32m━━━━━━━━━━━━━━━━━━━━\u001b[0m\u001b[37m\u001b[0m \u001b[1m17s\u001b[0m 112ms/step - loss: 0.1633 - mean_absolute_error: 0.1510 - val_loss: 0.9956 - val_mean_absolute_error: 0.4399\n",
      "\u001b[1m39/39\u001b[0m \u001b[32m━━━━━━━━━━━━━━━━━━━━\u001b[0m\u001b[37m\u001b[0m \u001b[1m1s\u001b[0m 38ms/step - loss: 0.9889 - mean_absolute_error: 0.4446\n",
      "Mean Absolute Error (MAE) en el conjunto de prueba: 0.4399\n",
      "\u001b[1m39/39\u001b[0m \u001b[32m━━━━━━━━━━━━━━━━━━━━\u001b[0m\u001b[37m\u001b[0m \u001b[1m2s\u001b[0m 46ms/step\n",
      "Mean Squared Error (MSE): 0.9956\n",
      "Mean Absolute Error (MAE): 0.4399\n"
     ]
    }
   ],
   "source": [
    "\n",
    "from sklearn.metrics import mean_squared_error, mean_absolute_error\n",
    "\n",
    "# Separar los datos en entrenamiento y prueba\n",
    "X_train, X_test, y_train, y_test = train_test_split(X, y, test_size=0.2, random_state=42)\n",
    "\n",
    "# Preprocesar y tokenizar el texto usando TextVectorization\n",
    "vectorizador = tf.keras.layers.TextVectorization(max_tokens=1000, output_mode='int', output_sequence_length=100)\n",
    "\n",
    "# Adaptar el vectorizador a los datos de entrenamiento\n",
    "vectorizador.adapt(X_train)\n",
    "\n",
    "# Convertir las entradas de texto en secuencias de índices\n",
    "X_train_vectorized = vectorizador(X_train)\n",
    "X_test_vectorized = vectorizador(X_test)\n",
    "\n",
    "# Convertir las etiquetas a arrays NumPy\n",
    "y_train_array = np.array(y_train, dtype=np.float32)\n",
    "y_test_array = np.array(y_test, dtype=np.float32)\n",
    "\n",
    "# Crear el Dataset de TensorFlow\n",
    "train_dataset = tf.data.Dataset.from_tensor_slices((X_train_vectorized, y_train_array)).batch(64).prefetch(tf.data.AUTOTUNE)\n",
    "test_dataset = tf.data.Dataset.from_tensor_slices((X_test_vectorized, y_test_array)).batch(64).prefetch(tf.data.AUTOTUNE)\n",
    "\n",
    "# Definir el modelo LSTM para regresión\n",
    "def crear_modelo_lstm_regresion(vocab_size, embedding_dim=100, lstm_units=128):\n",
    "    model = models.Sequential()\n",
    "    \n",
    "    # Capa de embedding\n",
    "    model.add(layers.Embedding(input_dim=vocab_size, output_dim=embedding_dim, input_length=100))\n",
    "    \n",
    "    # Capa LSTM bidireccional\n",
    "    model.add(layers.Bidirectional(layers.LSTM(units=lstm_units, return_sequences=False)))\n",
    "\n",
    "    # Dropout para evitar sobreajuste\n",
    "    model.add(layers.Dropout(0.4))\n",
    "    \n",
    "    # Capa densa para regresión\n",
    "    model.add(layers.Dense(64, activation='relu'))\n",
    "    model.add(layers.Dropout(0.4))\n",
    "    # Capa densa para regresión\n",
    "    model.add(layers.Dense(64, activation='relu'))\n",
    "    model.add(layers.Dense(1, activation='linear'))  # Salida continua\n",
    "    \n",
    "    # Compilamos el modelo\n",
    "    model.compile(optimizer='adam', \n",
    "                  loss='mean_squared_error',  # Para regresión, usamos MSE como función de pérdida\n",
    "                  metrics=['mean_absolute_error'])  # MAE como métrica adicional\n",
    "    \n",
    "    return model\n",
    "\n",
    "# Crear el modelo\n",
    "vocab_size = 1000  # Número máximo de palabras del vectorizador\n",
    "modelo_v8 = crear_modelo_lstm_regresion(vocab_size)\n",
    "\n",
    "# Resumen del modelo\n",
    "modelo_v8.summary()\n",
    "\n",
    "# Entrenar el modelo\n",
    "history_v8 = modelo_v8.fit(\n",
    "    train_dataset,\n",
    "    validation_data=test_dataset,\n",
    "    epochs=100,\n",
    "    verbose=1\n",
    ")\n",
    "\n",
    "# Evaluar el modelo\n",
    "loss, mae = modelo_v8.evaluate(test_dataset)\n",
    "print(f\"Mean Absolute Error (MAE) en el conjunto de prueba: {mae:.4f}\")\n",
    "\n",
    "# Predicción\n",
    "y_pred = modelo_v8.predict(test_dataset)\n",
    "\n",
    "# Calcular métricas de evaluación adicionales\n",
    "mse = mean_squared_error(y_test_array, y_pred)\n",
    "mae = mean_absolute_error(y_test_array, y_pred)\n",
    "print(f\"Mean Squared Error (MSE): {mse:.4f}\")\n",
    "print(f\"Mean Absolute Error (MAE): {mae:.4f}\")\n"
   ]
  },
  {
   "cell_type": "markdown",
   "metadata": {},
   "source": [
    "## Resultados \n",
    "- **Mean Squared Error (MSE): 0.9956**\n",
    "  - Este valor indica el error cuadrático promedio entre las predicciones del modelo y los valores reales. Un valor cercano a 1 es razonablemente bajo en el contexto de una escala de 5 clases (ordenadas entre 0 y 4).\n",
    "\n",
    "- **Mean Absolute Error (MAE): 0.4399**\n",
    "  - Este valor mide el error promedio en términos absolutos. En este caso, el error promedio por predicción es inferior a 0.5, lo que implica que las predicciones suelen estar, en promedio, a menos de media clase de distancia del valor real."
   ]
  },
  {
   "cell_type": "markdown",
   "metadata": {},
   "source": [
    "# Modelo de regresión lineal con incremento en las capas LSTM y el número de neuronas en la capa densa"
   ]
  },
  {
   "cell_type": "code",
   "execution_count": 40,
   "metadata": {},
   "outputs": [
    {
     "name": "stderr",
     "output_type": "stream",
     "text": [
      "C:\\Users\\GenisPc\\AppData\\Roaming\\Python\\Python311\\site-packages\\keras\\src\\layers\\core\\embedding.py:90: UserWarning: Argument `input_length` is deprecated. Just remove it.\n",
      "  warnings.warn(\n"
     ]
    },
    {
     "data": {
      "text/html": [
       "<pre style=\"white-space:pre;overflow-x:auto;line-height:normal;font-family:Menlo,'DejaVu Sans Mono',consolas,'Courier New',monospace\"><span style=\"font-weight: bold\">Model: \"sequential_9\"</span>\n",
       "</pre>\n"
      ],
      "text/plain": [
       "\u001b[1mModel: \"sequential_9\"\u001b[0m\n"
      ]
     },
     "metadata": {},
     "output_type": "display_data"
    },
    {
     "data": {
      "text/html": [
       "<pre style=\"white-space:pre;overflow-x:auto;line-height:normal;font-family:Menlo,'DejaVu Sans Mono',consolas,'Courier New',monospace\">┏━━━━━━━━━━━━━━━━━━━━━━━━━━━━━━━━━┳━━━━━━━━━━━━━━━━━━━━━━━━┳━━━━━━━━━━━━━━━┓\n",
       "┃<span style=\"font-weight: bold\"> Layer (type)                    </span>┃<span style=\"font-weight: bold\"> Output Shape           </span>┃<span style=\"font-weight: bold\">       Param # </span>┃\n",
       "┡━━━━━━━━━━━━━━━━━━━━━━━━━━━━━━━━━╇━━━━━━━━━━━━━━━━━━━━━━━━╇━━━━━━━━━━━━━━━┩\n",
       "│ embedding_9 (<span style=\"color: #0087ff; text-decoration-color: #0087ff\">Embedding</span>)         │ (<span style=\"color: #00d7ff; text-decoration-color: #00d7ff\">None</span>, <span style=\"color: #00af00; text-decoration-color: #00af00\">100</span>, <span style=\"color: #00af00; text-decoration-color: #00af00\">100</span>)       │       <span style=\"color: #00af00; text-decoration-color: #00af00\">100,000</span> │\n",
       "├─────────────────────────────────┼────────────────────────┼───────────────┤\n",
       "│ bidirectional_6 (<span style=\"color: #0087ff; text-decoration-color: #0087ff\">Bidirectional</span>) │ (<span style=\"color: #00d7ff; text-decoration-color: #00d7ff\">None</span>, <span style=\"color: #00af00; text-decoration-color: #00af00\">256</span>)            │       <span style=\"color: #00af00; text-decoration-color: #00af00\">234,496</span> │\n",
       "├─────────────────────────────────┼────────────────────────┼───────────────┤\n",
       "│ dropout_15 (<span style=\"color: #0087ff; text-decoration-color: #0087ff\">Dropout</span>)            │ (<span style=\"color: #00d7ff; text-decoration-color: #00d7ff\">None</span>, <span style=\"color: #00af00; text-decoration-color: #00af00\">256</span>)            │             <span style=\"color: #00af00; text-decoration-color: #00af00\">0</span> │\n",
       "├─────────────────────────────────┼────────────────────────┼───────────────┤\n",
       "│ dense_18 (<span style=\"color: #0087ff; text-decoration-color: #0087ff\">Dense</span>)                │ (<span style=\"color: #00d7ff; text-decoration-color: #00d7ff\">None</span>, <span style=\"color: #00af00; text-decoration-color: #00af00\">64</span>)             │        <span style=\"color: #00af00; text-decoration-color: #00af00\">16,448</span> │\n",
       "├─────────────────────────────────┼────────────────────────┼───────────────┤\n",
       "│ dropout_16 (<span style=\"color: #0087ff; text-decoration-color: #0087ff\">Dropout</span>)            │ (<span style=\"color: #00d7ff; text-decoration-color: #00d7ff\">None</span>, <span style=\"color: #00af00; text-decoration-color: #00af00\">64</span>)             │             <span style=\"color: #00af00; text-decoration-color: #00af00\">0</span> │\n",
       "├─────────────────────────────────┼────────────────────────┼───────────────┤\n",
       "│ dense_19 (<span style=\"color: #0087ff; text-decoration-color: #0087ff\">Dense</span>)                │ (<span style=\"color: #00d7ff; text-decoration-color: #00d7ff\">None</span>, <span style=\"color: #00af00; text-decoration-color: #00af00\">64</span>)             │         <span style=\"color: #00af00; text-decoration-color: #00af00\">4,160</span> │\n",
       "├─────────────────────────────────┼────────────────────────┼───────────────┤\n",
       "│ dense_20 (<span style=\"color: #0087ff; text-decoration-color: #0087ff\">Dense</span>)                │ (<span style=\"color: #00d7ff; text-decoration-color: #00d7ff\">None</span>, <span style=\"color: #00af00; text-decoration-color: #00af00\">1</span>)              │            <span style=\"color: #00af00; text-decoration-color: #00af00\">65</span> │\n",
       "└─────────────────────────────────┴────────────────────────┴───────────────┘\n",
       "</pre>\n"
      ],
      "text/plain": [
       "┏━━━━━━━━━━━━━━━━━━━━━━━━━━━━━━━━━┳━━━━━━━━━━━━━━━━━━━━━━━━┳━━━━━━━━━━━━━━━┓\n",
       "┃\u001b[1m \u001b[0m\u001b[1mLayer (type)                   \u001b[0m\u001b[1m \u001b[0m┃\u001b[1m \u001b[0m\u001b[1mOutput Shape          \u001b[0m\u001b[1m \u001b[0m┃\u001b[1m \u001b[0m\u001b[1m      Param #\u001b[0m\u001b[1m \u001b[0m┃\n",
       "┡━━━━━━━━━━━━━━━━━━━━━━━━━━━━━━━━━╇━━━━━━━━━━━━━━━━━━━━━━━━╇━━━━━━━━━━━━━━━┩\n",
       "│ embedding_9 (\u001b[38;5;33mEmbedding\u001b[0m)         │ (\u001b[38;5;45mNone\u001b[0m, \u001b[38;5;34m100\u001b[0m, \u001b[38;5;34m100\u001b[0m)       │       \u001b[38;5;34m100,000\u001b[0m │\n",
       "├─────────────────────────────────┼────────────────────────┼───────────────┤\n",
       "│ bidirectional_6 (\u001b[38;5;33mBidirectional\u001b[0m) │ (\u001b[38;5;45mNone\u001b[0m, \u001b[38;5;34m256\u001b[0m)            │       \u001b[38;5;34m234,496\u001b[0m │\n",
       "├─────────────────────────────────┼────────────────────────┼───────────────┤\n",
       "│ dropout_15 (\u001b[38;5;33mDropout\u001b[0m)            │ (\u001b[38;5;45mNone\u001b[0m, \u001b[38;5;34m256\u001b[0m)            │             \u001b[38;5;34m0\u001b[0m │\n",
       "├─────────────────────────────────┼────────────────────────┼───────────────┤\n",
       "│ dense_18 (\u001b[38;5;33mDense\u001b[0m)                │ (\u001b[38;5;45mNone\u001b[0m, \u001b[38;5;34m64\u001b[0m)             │        \u001b[38;5;34m16,448\u001b[0m │\n",
       "├─────────────────────────────────┼────────────────────────┼───────────────┤\n",
       "│ dropout_16 (\u001b[38;5;33mDropout\u001b[0m)            │ (\u001b[38;5;45mNone\u001b[0m, \u001b[38;5;34m64\u001b[0m)             │             \u001b[38;5;34m0\u001b[0m │\n",
       "├─────────────────────────────────┼────────────────────────┼───────────────┤\n",
       "│ dense_19 (\u001b[38;5;33mDense\u001b[0m)                │ (\u001b[38;5;45mNone\u001b[0m, \u001b[38;5;34m64\u001b[0m)             │         \u001b[38;5;34m4,160\u001b[0m │\n",
       "├─────────────────────────────────┼────────────────────────┼───────────────┤\n",
       "│ dense_20 (\u001b[38;5;33mDense\u001b[0m)                │ (\u001b[38;5;45mNone\u001b[0m, \u001b[38;5;34m1\u001b[0m)              │            \u001b[38;5;34m65\u001b[0m │\n",
       "└─────────────────────────────────┴────────────────────────┴───────────────┘\n"
      ]
     },
     "metadata": {},
     "output_type": "display_data"
    },
    {
     "data": {
      "text/html": [
       "<pre style=\"white-space:pre;overflow-x:auto;line-height:normal;font-family:Menlo,'DejaVu Sans Mono',consolas,'Courier New',monospace\"><span style=\"font-weight: bold\"> Total params: </span><span style=\"color: #00af00; text-decoration-color: #00af00\">1,065,509</span> (4.06 MB)\n",
       "</pre>\n"
      ],
      "text/plain": [
       "\u001b[1m Total params: \u001b[0m\u001b[38;5;34m1,065,509\u001b[0m (4.06 MB)\n"
      ]
     },
     "metadata": {},
     "output_type": "display_data"
    },
    {
     "data": {
      "text/html": [
       "<pre style=\"white-space:pre;overflow-x:auto;line-height:normal;font-family:Menlo,'DejaVu Sans Mono',consolas,'Courier New',monospace\"><span style=\"font-weight: bold\"> Trainable params: </span><span style=\"color: #00af00; text-decoration-color: #00af00\">355,169</span> (1.35 MB)\n",
       "</pre>\n"
      ],
      "text/plain": [
       "\u001b[1m Trainable params: \u001b[0m\u001b[38;5;34m355,169\u001b[0m (1.35 MB)\n"
      ]
     },
     "metadata": {},
     "output_type": "display_data"
    },
    {
     "data": {
      "text/html": [
       "<pre style=\"white-space:pre;overflow-x:auto;line-height:normal;font-family:Menlo,'DejaVu Sans Mono',consolas,'Courier New',monospace\"><span style=\"font-weight: bold\"> Non-trainable params: </span><span style=\"color: #00af00; text-decoration-color: #00af00\">0</span> (0.00 B)\n",
       "</pre>\n"
      ],
      "text/plain": [
       "\u001b[1m Non-trainable params: \u001b[0m\u001b[38;5;34m0\u001b[0m (0.00 B)\n"
      ]
     },
     "metadata": {},
     "output_type": "display_data"
    },
    {
     "data": {
      "text/html": [
       "<pre style=\"white-space:pre;overflow-x:auto;line-height:normal;font-family:Menlo,'DejaVu Sans Mono',consolas,'Courier New',monospace\"><span style=\"font-weight: bold\"> Optimizer params: </span><span style=\"color: #00af00; text-decoration-color: #00af00\">710,340</span> (2.71 MB)\n",
       "</pre>\n"
      ],
      "text/plain": [
       "\u001b[1m Optimizer params: \u001b[0m\u001b[38;5;34m710,340\u001b[0m (2.71 MB)\n"
      ]
     },
     "metadata": {},
     "output_type": "display_data"
    },
    {
     "name": "stdout",
     "output_type": "stream",
     "text": [
      "Epoch 1/100\n",
      "\u001b[1m154/154\u001b[0m \u001b[32m━━━━━━━━━━━━━━━━━━━━\u001b[0m\u001b[37m\u001b[0m \u001b[1m164s\u001b[0m 974ms/step - loss: 4.4231 - mean_absolute_error: 1.1380 - val_loss: 2.0602 - val_mean_absolute_error: 0.8983\n",
      "Epoch 2/100\n"
     ]
    },
    {
     "name": "stderr",
     "output_type": "stream",
     "text": [
      "C:\\Users\\GenisPc\\AppData\\Roaming\\Python\\Python311\\site-packages\\keras\\src\\callbacks\\model_checkpoint.py:206: UserWarning: Can save best model only with val_accuracy available, skipping.\n",
      "  self._save_model(epoch=epoch, batch=None, logs=logs)\n"
     ]
    },
    {
     "name": "stdout",
     "output_type": "stream",
     "text": [
      "\u001b[1m154/154\u001b[0m \u001b[32m━━━━━━━━━━━━━━━━━━━━\u001b[0m\u001b[37m\u001b[0m \u001b[1m151s\u001b[0m 982ms/step - loss: 2.0513 - mean_absolute_error: 0.7985 - val_loss: 1.3176 - val_mean_absolute_error: 0.5861\n",
      "Epoch 3/100\n",
      "\u001b[1m154/154\u001b[0m \u001b[32m━━━━━━━━━━━━━━━━━━━━\u001b[0m\u001b[37m\u001b[0m \u001b[1m158s\u001b[0m 1s/step - loss: 1.4385 - mean_absolute_error: 0.7237 - val_loss: 1.1304 - val_mean_absolute_error: 0.5891\n",
      "Epoch 4/100\n",
      "\u001b[1m154/154\u001b[0m \u001b[32m━━━━━━━━━━━━━━━━━━━━\u001b[0m\u001b[37m\u001b[0m \u001b[1m162s\u001b[0m 1s/step - loss: 1.1041 - mean_absolute_error: 0.6468 - val_loss: 0.9863 - val_mean_absolute_error: 0.5640\n",
      "Epoch 5/100\n",
      "\u001b[1m154/154\u001b[0m \u001b[32m━━━━━━━━━━━━━━━━━━━━\u001b[0m\u001b[37m\u001b[0m \u001b[1m162s\u001b[0m 1s/step - loss: 0.9261 - mean_absolute_error: 0.6059 - val_loss: 0.8933 - val_mean_absolute_error: 0.4796\n",
      "Epoch 6/100\n",
      "\u001b[1m154/154\u001b[0m \u001b[32m━━━━━━━━━━━━━━━━━━━━\u001b[0m\u001b[37m\u001b[0m \u001b[1m161s\u001b[0m 1s/step - loss: 0.8212 - mean_absolute_error: 0.5797 - val_loss: 0.8868 - val_mean_absolute_error: 0.5009\n",
      "Epoch 7/100\n",
      "\u001b[1m154/154\u001b[0m \u001b[32m━━━━━━━━━━━━━━━━━━━━\u001b[0m\u001b[37m\u001b[0m \u001b[1m162s\u001b[0m 1s/step - loss: 0.7375 - mean_absolute_error: 0.5512 - val_loss: 0.8255 - val_mean_absolute_error: 0.4801\n",
      "Epoch 8/100\n",
      "\u001b[1m154/154\u001b[0m \u001b[32m━━━━━━━━━━━━━━━━━━━━\u001b[0m\u001b[37m\u001b[0m \u001b[1m160s\u001b[0m 1s/step - loss: 0.6879 - mean_absolute_error: 0.5370 - val_loss: 0.8583 - val_mean_absolute_error: 0.4332\n",
      "Epoch 9/100\n",
      "\u001b[1m154/154\u001b[0m \u001b[32m━━━━━━━━━━━━━━━━━━━━\u001b[0m\u001b[37m\u001b[0m \u001b[1m160s\u001b[0m 1s/step - loss: 0.6253 - mean_absolute_error: 0.5012 - val_loss: 0.8307 - val_mean_absolute_error: 0.4422\n",
      "Epoch 10/100\n",
      "\u001b[1m154/154\u001b[0m \u001b[32m━━━━━━━━━━━━━━━━━━━━\u001b[0m\u001b[37m\u001b[0m \u001b[1m161s\u001b[0m 1s/step - loss: 0.5957 - mean_absolute_error: 0.4919 - val_loss: 0.8283 - val_mean_absolute_error: 0.4175\n",
      "Epoch 11/100\n",
      "\u001b[1m154/154\u001b[0m \u001b[32m━━━━━━━━━━━━━━━━━━━━\u001b[0m\u001b[37m\u001b[0m \u001b[1m160s\u001b[0m 1s/step - loss: 0.5700 - mean_absolute_error: 0.4805 - val_loss: 0.8005 - val_mean_absolute_error: 0.3975\n",
      "Epoch 12/100\n",
      "\u001b[1m154/154\u001b[0m \u001b[32m━━━━━━━━━━━━━━━━━━━━\u001b[0m\u001b[37m\u001b[0m \u001b[1m162s\u001b[0m 1s/step - loss: 0.5445 - mean_absolute_error: 0.4744 - val_loss: 0.8413 - val_mean_absolute_error: 0.4212\n",
      "Epoch 13/100\n",
      "\u001b[1m154/154\u001b[0m \u001b[32m━━━━━━━━━━━━━━━━━━━━\u001b[0m\u001b[37m\u001b[0m \u001b[1m159s\u001b[0m 1s/step - loss: 0.5291 - mean_absolute_error: 0.4596 - val_loss: 0.8007 - val_mean_absolute_error: 0.4063\n",
      "Epoch 14/100\n",
      "\u001b[1m154/154\u001b[0m \u001b[32m━━━━━━━━━━━━━━━━━━━━\u001b[0m\u001b[37m\u001b[0m \u001b[1m159s\u001b[0m 1s/step - loss: 0.4867 - mean_absolute_error: 0.4352 - val_loss: 0.8273 - val_mean_absolute_error: 0.3917\n",
      "Epoch 15/100\n",
      "\u001b[1m154/154\u001b[0m \u001b[32m━━━━━━━━━━━━━━━━━━━━\u001b[0m\u001b[37m\u001b[0m \u001b[1m156s\u001b[0m 1s/step - loss: 0.4615 - mean_absolute_error: 0.4218 - val_loss: 0.8144 - val_mean_absolute_error: 0.4057\n",
      "Epoch 16/100\n",
      "\u001b[1m154/154\u001b[0m \u001b[32m━━━━━━━━━━━━━━━━━━━━\u001b[0m\u001b[37m\u001b[0m \u001b[1m159s\u001b[0m 1s/step - loss: 0.4887 - mean_absolute_error: 0.4327 - val_loss: 0.8237 - val_mean_absolute_error: 0.4191\n",
      "Epoch 17/100\n",
      "\u001b[1m154/154\u001b[0m \u001b[32m━━━━━━━━━━━━━━━━━━━━\u001b[0m\u001b[37m\u001b[0m \u001b[1m172s\u001b[0m 1s/step - loss: 0.4443 - mean_absolute_error: 0.4130 - val_loss: 0.7938 - val_mean_absolute_error: 0.4265\n",
      "Epoch 18/100\n",
      "\u001b[1m154/154\u001b[0m \u001b[32m━━━━━━━━━━━━━━━━━━━━\u001b[0m\u001b[37m\u001b[0m \u001b[1m172s\u001b[0m 1s/step - loss: 0.4483 - mean_absolute_error: 0.4083 - val_loss: 0.8191 - val_mean_absolute_error: 0.4032\n",
      "Epoch 19/100\n",
      "\u001b[1m154/154\u001b[0m \u001b[32m━━━━━━━━━━━━━━━━━━━━\u001b[0m\u001b[37m\u001b[0m \u001b[1m191s\u001b[0m 1s/step - loss: 0.4400 - mean_absolute_error: 0.4049 - val_loss: 0.8480 - val_mean_absolute_error: 0.4371\n",
      "Epoch 20/100\n",
      "\u001b[1m154/154\u001b[0m \u001b[32m━━━━━━━━━━━━━━━━━━━━\u001b[0m\u001b[37m\u001b[0m \u001b[1m164s\u001b[0m 1s/step - loss: 0.4098 - mean_absolute_error: 0.3873 - val_loss: 0.9210 - val_mean_absolute_error: 0.4408\n",
      "Epoch 21/100\n",
      "\u001b[1m154/154\u001b[0m \u001b[32m━━━━━━━━━━━━━━━━━━━━\u001b[0m\u001b[37m\u001b[0m \u001b[1m167s\u001b[0m 1s/step - loss: 0.4043 - mean_absolute_error: 0.3880 - val_loss: 0.9069 - val_mean_absolute_error: 0.4336\n",
      "Epoch 22/100\n",
      "\u001b[1m154/154\u001b[0m \u001b[32m━━━━━━━━━━━━━━━━━━━━\u001b[0m\u001b[37m\u001b[0m \u001b[1m189s\u001b[0m 1s/step - loss: 0.4134 - mean_absolute_error: 0.3858 - val_loss: 0.9262 - val_mean_absolute_error: 0.4324\n",
      "Epoch 23/100\n",
      "\u001b[1m154/154\u001b[0m \u001b[32m━━━━━━━━━━━━━━━━━━━━\u001b[0m\u001b[37m\u001b[0m \u001b[1m175s\u001b[0m 1s/step - loss: 0.3973 - mean_absolute_error: 0.3768 - val_loss: 0.9242 - val_mean_absolute_error: 0.4262\n",
      "Epoch 24/100\n",
      "\u001b[1m154/154\u001b[0m \u001b[32m━━━━━━━━━━━━━━━━━━━━\u001b[0m\u001b[37m\u001b[0m \u001b[1m158s\u001b[0m 1s/step - loss: 0.4233 - mean_absolute_error: 0.3845 - val_loss: 0.9174 - val_mean_absolute_error: 0.4342\n",
      "Epoch 25/100\n",
      "\u001b[1m154/154\u001b[0m \u001b[32m━━━━━━━━━━━━━━━━━━━━\u001b[0m\u001b[37m\u001b[0m \u001b[1m172s\u001b[0m 1s/step - loss: 0.4004 - mean_absolute_error: 0.3782 - val_loss: 0.8882 - val_mean_absolute_error: 0.4148\n",
      "Epoch 26/100\n",
      "\u001b[1m154/154\u001b[0m \u001b[32m━━━━━━━━━━━━━━━━━━━━\u001b[0m\u001b[37m\u001b[0m \u001b[1m173s\u001b[0m 1s/step - loss: 0.4074 - mean_absolute_error: 0.3815 - val_loss: 0.9063 - val_mean_absolute_error: 0.4244\n",
      "Epoch 27/100\n",
      "\u001b[1m154/154\u001b[0m \u001b[32m━━━━━━━━━━━━━━━━━━━━\u001b[0m\u001b[37m\u001b[0m \u001b[1m178s\u001b[0m 1s/step - loss: 0.3781 - mean_absolute_error: 0.3649 - val_loss: 0.9068 - val_mean_absolute_error: 0.4695\n",
      "Epoch 28/100\n",
      "\u001b[1m154/154\u001b[0m \u001b[32m━━━━━━━━━━━━━━━━━━━━\u001b[0m\u001b[37m\u001b[0m \u001b[1m202s\u001b[0m 1s/step - loss: 0.3966 - mean_absolute_error: 0.3712 - val_loss: 0.8541 - val_mean_absolute_error: 0.4135\n",
      "Epoch 29/100\n",
      "\u001b[1m154/154\u001b[0m \u001b[32m━━━━━━━━━━━━━━━━━━━━\u001b[0m\u001b[37m\u001b[0m \u001b[1m161s\u001b[0m 1s/step - loss: 0.3622 - mean_absolute_error: 0.3568 - val_loss: 0.8629 - val_mean_absolute_error: 0.4081\n",
      "Epoch 30/100\n",
      "\u001b[1m154/154\u001b[0m \u001b[32m━━━━━━━━━━━━━━━━━━━━\u001b[0m\u001b[37m\u001b[0m \u001b[1m177s\u001b[0m 1s/step - loss: 0.3775 - mean_absolute_error: 0.3630 - val_loss: 0.8934 - val_mean_absolute_error: 0.4063\n",
      "Epoch 31/100\n",
      "\u001b[1m154/154\u001b[0m \u001b[32m━━━━━━━━━━━━━━━━━━━━\u001b[0m\u001b[37m\u001b[0m \u001b[1m178s\u001b[0m 1s/step - loss: 0.3594 - mean_absolute_error: 0.3540 - val_loss: 0.9127 - val_mean_absolute_error: 0.4204\n",
      "Epoch 32/100\n",
      "\u001b[1m154/154\u001b[0m \u001b[32m━━━━━━━━━━━━━━━━━━━━\u001b[0m\u001b[37m\u001b[0m \u001b[1m163s\u001b[0m 1s/step - loss: 0.3393 - mean_absolute_error: 0.3422 - val_loss: 0.9098 - val_mean_absolute_error: 0.4344\n",
      "Epoch 33/100\n",
      "\u001b[1m154/154\u001b[0m \u001b[32m━━━━━━━━━━━━━━━━━━━━\u001b[0m\u001b[37m\u001b[0m \u001b[1m160s\u001b[0m 1s/step - loss: 0.3324 - mean_absolute_error: 0.3353 - val_loss: 0.8944 - val_mean_absolute_error: 0.4271\n",
      "Epoch 34/100\n",
      "\u001b[1m154/154\u001b[0m \u001b[32m━━━━━━━━━━━━━━━━━━━━\u001b[0m\u001b[37m\u001b[0m \u001b[1m172s\u001b[0m 1s/step - loss: 0.3168 - mean_absolute_error: 0.3328 - val_loss: 0.9016 - val_mean_absolute_error: 0.4252\n",
      "Epoch 35/100\n",
      "\u001b[1m154/154\u001b[0m \u001b[32m━━━━━━━━━━━━━━━━━━━━\u001b[0m\u001b[37m\u001b[0m \u001b[1m171s\u001b[0m 1s/step - loss: 0.3081 - mean_absolute_error: 0.3226 - val_loss: 0.9156 - val_mean_absolute_error: 0.4152\n",
      "Epoch 36/100\n",
      "\u001b[1m154/154\u001b[0m \u001b[32m━━━━━━━━━━━━━━━━━━━━\u001b[0m\u001b[37m\u001b[0m \u001b[1m170s\u001b[0m 1s/step - loss: 0.3075 - mean_absolute_error: 0.3220 - val_loss: 0.9251 - val_mean_absolute_error: 0.4319\n",
      "Epoch 37/100\n",
      "\u001b[1m154/154\u001b[0m \u001b[32m━━━━━━━━━━━━━━━━━━━━\u001b[0m\u001b[37m\u001b[0m \u001b[1m170s\u001b[0m 1s/step - loss: 0.3045 - mean_absolute_error: 0.3218 - val_loss: 0.8836 - val_mean_absolute_error: 0.4192\n",
      "Epoch 38/100\n",
      "\u001b[1m154/154\u001b[0m \u001b[32m━━━━━━━━━━━━━━━━━━━━\u001b[0m\u001b[37m\u001b[0m \u001b[1m170s\u001b[0m 1s/step - loss: 0.3390 - mean_absolute_error: 0.3391 - val_loss: 0.9191 - val_mean_absolute_error: 0.4298\n",
      "Epoch 39/100\n",
      "\u001b[1m154/154\u001b[0m \u001b[32m━━━━━━━━━━━━━━━━━━━━\u001b[0m\u001b[37m\u001b[0m \u001b[1m170s\u001b[0m 1s/step - loss: 0.3192 - mean_absolute_error: 0.3262 - val_loss: 0.8893 - val_mean_absolute_error: 0.4269\n",
      "Epoch 40/100\n",
      "\u001b[1m154/154\u001b[0m \u001b[32m━━━━━━━━━━━━━━━━━━━━\u001b[0m\u001b[37m\u001b[0m \u001b[1m173s\u001b[0m 1s/step - loss: 0.2886 - mean_absolute_error: 0.3142 - val_loss: 0.9074 - val_mean_absolute_error: 0.4470\n",
      "Epoch 41/100\n",
      "\u001b[1m154/154\u001b[0m \u001b[32m━━━━━━━━━━━━━━━━━━━━\u001b[0m\u001b[37m\u001b[0m \u001b[1m171s\u001b[0m 1s/step - loss: 0.2920 - mean_absolute_error: 0.3114 - val_loss: 0.8994 - val_mean_absolute_error: 0.4543\n",
      "Epoch 42/100\n",
      "\u001b[1m154/154\u001b[0m \u001b[32m━━━━━━━━━━━━━━━━━━━━\u001b[0m\u001b[37m\u001b[0m \u001b[1m171s\u001b[0m 1s/step - loss: 0.2860 - mean_absolute_error: 0.3105 - val_loss: 0.8882 - val_mean_absolute_error: 0.4283\n",
      "Epoch 43/100\n",
      "\u001b[1m154/154\u001b[0m \u001b[32m━━━━━━━━━━━━━━━━━━━━\u001b[0m\u001b[37m\u001b[0m \u001b[1m170s\u001b[0m 1s/step - loss: 0.3006 - mean_absolute_error: 0.3207 - val_loss: 0.9007 - val_mean_absolute_error: 0.4466\n",
      "Epoch 44/100\n",
      "\u001b[1m154/154\u001b[0m \u001b[32m━━━━━━━━━━━━━━━━━━━━\u001b[0m\u001b[37m\u001b[0m \u001b[1m171s\u001b[0m 1s/step - loss: 0.2862 - mean_absolute_error: 0.3142 - val_loss: 0.9429 - val_mean_absolute_error: 0.4774\n",
      "Epoch 45/100\n",
      "\u001b[1m154/154\u001b[0m \u001b[32m━━━━━━━━━━━━━━━━━━━━\u001b[0m\u001b[37m\u001b[0m \u001b[1m172s\u001b[0m 1s/step - loss: 0.2835 - mean_absolute_error: 0.3063 - val_loss: 0.9099 - val_mean_absolute_error: 0.4587\n",
      "Epoch 46/100\n",
      "\u001b[1m154/154\u001b[0m \u001b[32m━━━━━━━━━━━━━━━━━━━━\u001b[0m\u001b[37m\u001b[0m \u001b[1m159s\u001b[0m 1s/step - loss: 0.2840 - mean_absolute_error: 0.3119 - val_loss: 0.8814 - val_mean_absolute_error: 0.4357\n",
      "Epoch 47/100\n",
      "\u001b[1m154/154\u001b[0m \u001b[32m━━━━━━━━━━━━━━━━━━━━\u001b[0m\u001b[37m\u001b[0m \u001b[1m159s\u001b[0m 1s/step - loss: 0.2896 - mean_absolute_error: 0.3111 - val_loss: 0.8838 - val_mean_absolute_error: 0.4522\n",
      "Epoch 48/100\n",
      "\u001b[1m154/154\u001b[0m \u001b[32m━━━━━━━━━━━━━━━━━━━━\u001b[0m\u001b[37m\u001b[0m \u001b[1m173s\u001b[0m 1s/step - loss: 0.2675 - mean_absolute_error: 0.3021 - val_loss: 0.9060 - val_mean_absolute_error: 0.4396\n",
      "Epoch 49/100\n",
      "\u001b[1m154/154\u001b[0m \u001b[32m━━━━━━━━━━━━━━━━━━━━\u001b[0m\u001b[37m\u001b[0m \u001b[1m184s\u001b[0m 1s/step - loss: 0.2632 - mean_absolute_error: 0.3029 - val_loss: 0.9094 - val_mean_absolute_error: 0.4279\n",
      "Epoch 50/100\n",
      "\u001b[1m154/154\u001b[0m \u001b[32m━━━━━━━━━━━━━━━━━━━━\u001b[0m\u001b[37m\u001b[0m \u001b[1m168s\u001b[0m 1s/step - loss: 0.2845 - mean_absolute_error: 0.3159 - val_loss: 0.9227 - val_mean_absolute_error: 0.4354\n",
      "Epoch 51/100\n",
      "\u001b[1m154/154\u001b[0m \u001b[32m━━━━━━━━━━━━━━━━━━━━\u001b[0m\u001b[37m\u001b[0m \u001b[1m169s\u001b[0m 1s/step - loss: 0.2988 - mean_absolute_error: 0.3219 - val_loss: 0.8850 - val_mean_absolute_error: 0.4316\n",
      "Epoch 52/100\n",
      "\u001b[1m154/154\u001b[0m \u001b[32m━━━━━━━━━━━━━━━━━━━━\u001b[0m\u001b[37m\u001b[0m \u001b[1m169s\u001b[0m 1s/step - loss: 0.2830 - mean_absolute_error: 0.3128 - val_loss: 0.8759 - val_mean_absolute_error: 0.4510\n",
      "Epoch 53/100\n",
      "\u001b[1m154/154\u001b[0m \u001b[32m━━━━━━━━━━━━━━━━━━━━\u001b[0m\u001b[37m\u001b[0m \u001b[1m179s\u001b[0m 1s/step - loss: 0.2707 - mean_absolute_error: 0.3053 - val_loss: 0.8647 - val_mean_absolute_error: 0.4558\n",
      "Epoch 54/100\n",
      "\u001b[1m154/154\u001b[0m \u001b[32m━━━━━━━━━━━━━━━━━━━━\u001b[0m\u001b[37m\u001b[0m \u001b[1m188s\u001b[0m 1s/step - loss: 0.2563 - mean_absolute_error: 0.3004 - val_loss: 0.8916 - val_mean_absolute_error: 0.4356\n",
      "Epoch 55/100\n",
      "\u001b[1m154/154\u001b[0m \u001b[32m━━━━━━━━━━━━━━━━━━━━\u001b[0m\u001b[37m\u001b[0m \u001b[1m182s\u001b[0m 1s/step - loss: 0.2495 - mean_absolute_error: 0.2935 - val_loss: 0.9112 - val_mean_absolute_error: 0.4726\n",
      "Epoch 56/100\n",
      "\u001b[1m154/154\u001b[0m \u001b[32m━━━━━━━━━━━━━━━━━━━━\u001b[0m\u001b[37m\u001b[0m \u001b[1m178s\u001b[0m 1s/step - loss: 0.2556 - mean_absolute_error: 0.2999 - val_loss: 0.9472 - val_mean_absolute_error: 0.4558\n",
      "Epoch 57/100\n",
      "\u001b[1m154/154\u001b[0m \u001b[32m━━━━━━━━━━━━━━━━━━━━\u001b[0m\u001b[37m\u001b[0m \u001b[1m186s\u001b[0m 1s/step - loss: 0.2598 - mean_absolute_error: 0.3006 - val_loss: 0.9050 - val_mean_absolute_error: 0.4275\n",
      "Epoch 58/100\n",
      "\u001b[1m154/154\u001b[0m \u001b[32m━━━━━━━━━━━━━━━━━━━━\u001b[0m\u001b[37m\u001b[0m \u001b[1m179s\u001b[0m 1s/step - loss: 0.2484 - mean_absolute_error: 0.2977 - val_loss: 0.9373 - val_mean_absolute_error: 0.4439\n",
      "Epoch 59/100\n",
      "\u001b[1m154/154\u001b[0m \u001b[32m━━━━━━━━━━━━━━━━━━━━\u001b[0m\u001b[37m\u001b[0m \u001b[1m179s\u001b[0m 1s/step - loss: 0.2476 - mean_absolute_error: 0.2940 - val_loss: 0.8906 - val_mean_absolute_error: 0.4574\n",
      "Epoch 60/100\n",
      "\u001b[1m154/154\u001b[0m \u001b[32m━━━━━━━━━━━━━━━━━━━━\u001b[0m\u001b[37m\u001b[0m \u001b[1m182s\u001b[0m 1s/step - loss: 0.2585 - mean_absolute_error: 0.3012 - val_loss: 0.8958 - val_mean_absolute_error: 0.4447\n",
      "Epoch 61/100\n",
      "\u001b[1m154/154\u001b[0m \u001b[32m━━━━━━━━━━━━━━━━━━━━\u001b[0m\u001b[37m\u001b[0m \u001b[1m181s\u001b[0m 1s/step - loss: 0.2494 - mean_absolute_error: 0.3008 - val_loss: 0.8970 - val_mean_absolute_error: 0.4622\n",
      "Epoch 62/100\n",
      "\u001b[1m154/154\u001b[0m \u001b[32m━━━━━━━━━━━━━━━━━━━━\u001b[0m\u001b[37m\u001b[0m \u001b[1m178s\u001b[0m 1s/step - loss: 0.2348 - mean_absolute_error: 0.2898 - val_loss: 0.8921 - val_mean_absolute_error: 0.4265\n",
      "Epoch 63/100\n",
      "\u001b[1m154/154\u001b[0m \u001b[32m━━━━━━━━━━━━━━━━━━━━\u001b[0m\u001b[37m\u001b[0m \u001b[1m189s\u001b[0m 1s/step - loss: 0.2354 - mean_absolute_error: 0.2884 - val_loss: 0.9528 - val_mean_absolute_error: 0.4511\n",
      "Epoch 64/100\n",
      "\u001b[1m154/154\u001b[0m \u001b[32m━━━━━━━━━━━━━━━━━━━━\u001b[0m\u001b[37m\u001b[0m \u001b[1m183s\u001b[0m 1s/step - loss: 0.2543 - mean_absolute_error: 0.2952 - val_loss: 0.9696 - val_mean_absolute_error: 0.4427\n",
      "Epoch 64: early stopping\n",
      "Restoring model weights from the end of the best epoch: 14.\n",
      "\u001b[1m39/39\u001b[0m \u001b[32m━━━━━━━━━━━━━━━━━━━━\u001b[0m\u001b[37m\u001b[0m \u001b[1m12s\u001b[0m 315ms/step - loss: 0.8520 - mean_absolute_error: 0.4021\n",
      "Mean Absolute Error (MAE) en el conjunto de prueba: 0.3917\n",
      "\u001b[1m39/39\u001b[0m \u001b[32m━━━━━━━━━━━━━━━━━━━━\u001b[0m\u001b[37m\u001b[0m \u001b[1m17s\u001b[0m 344ms/step\n",
      "Mean Squared Error (MSE): 0.8100\n",
      "Mean Absolute Error (MAE): 0.3917\n"
     ]
    }
   ],
   "source": [
    "from sklearn.metrics import mean_squared_error, mean_absolute_error\n",
    "\n",
    "# Separar los datos en entrenamiento y prueba\n",
    "X_train, X_test, y_train, y_test = train_test_split(X, y, test_size=0.2, random_state=42)\n",
    "\n",
    "# Preprocesar y tokenizar el texto usando TextVectorization\n",
    "vectorizador = tf.keras.layers.TextVectorization(max_tokens=1000, output_mode='int', output_sequence_length=100)\n",
    "\n",
    "# Adaptar el vectorizador a los datos de entrenamiento\n",
    "vectorizador.adapt(X_train)\n",
    "\n",
    "# Convertir las entradas de texto en secuencias de índices\n",
    "X_train_vectorized = vectorizador(X_train)\n",
    "X_test_vectorized = vectorizador(X_test)\n",
    "\n",
    "# Convertir las etiquetas a arrays NumPy\n",
    "y_train_array = np.array(y_train, dtype=np.float32)\n",
    "y_test_array = np.array(y_test, dtype=np.float32)\n",
    "\n",
    "# Crear el Dataset de TensorFlow\n",
    "train_dataset = tf.data.Dataset.from_tensor_slices((X_train_vectorized, y_train_array)).batch(64).prefetch(tf.data.AUTOTUNE)\n",
    "test_dataset = tf.data.Dataset.from_tensor_slices((X_test_vectorized, y_test_array)).batch(64).prefetch(tf.data.AUTOTUNE)\n",
    "\n",
    "# Definir el modelo LSTM para regresión\n",
    "def crear_modelo_lstm_regresion(vocab_size, embedding_dim=100,  lstm_units=256):\n",
    "    model = models.Sequential()\n",
    "\n",
    "    # Capa de embedding\n",
    "    model.add(layers.Embedding(input_dim=vocab_size, output_dim=embedding_dim, input_length=100))\n",
    "\n",
    "    # Capa LSTM bidireccional\n",
    "    model.add(layers.Bidirectional(layers.LSTM(units=lstm_units, return_sequences=True)))\n",
    "\n",
    "    # Añadir más capas LSTM bidireccionales para aumentar la capacidad\n",
    "    model.add(layers.Bidirectional(layers.LSTM(units=lstm_units, return_sequences=True)))\n",
    "    model.add(layers.Bidirectional(layers.LSTM(units=lstm_units // 2, return_sequences=False)))\n",
    "\n",
    "    # Dropout para evitar sobreajuste\n",
    "    model.add(layers.Dropout(0.5))\n",
    "\n",
    "    # Capa densa adicional para regresión\n",
    "    model.add(layers.Dense(256, activation='relu', kernel_regularizer=tf.keras.regularizers.l2(0.01)))\n",
    "    model.add(layers.Dropout(0.5))\n",
    "\n",
    "    # Capa de salida continua\n",
    "    model.add(layers.Dense(1, activation='linear'))  # Salida continua para regresión\n",
    "\n",
    "    # Compilamos el modelo con Adam y ajustamos la tasa de aprendizaje\n",
    "    model.compile(optimizer=tf.keras.optimizers.Adam(learning_rate=0.001),\n",
    "                  loss='mean_squared_error',  # Para regresión, usamos MSE como función de pérdida\n",
    "                  metrics=['mean_absolute_error'])  # MAE como métrica adicional\n",
    "\n",
    "    return model\n",
    "\n",
    "\n",
    "# Crear el modelo\n",
    "vocab_size = 1000  # Número máximo de palabras del vectorizador\n",
    "modelo_v9 = crear_modelo_lstm_regresion(vocab_size)\n",
    "\n",
    "# Resumen del modelo\n",
    "modelo_v8.summary()\n",
    "\n",
    "early_stopping_callback = EarlyStopping(\n",
    "    monitor='val_mean_absolute_error',           # Monitorea la precisión de validación\n",
    "    patience=50,                        # Número de épocas sin mejora antes de detenerse\n",
    "    restore_best_weights=True,         # Restablece los pesos del mejor modelo\n",
    "    mode='min',                        # Para optimizar la precisión de validación\n",
    "    verbose=1                          # Muestra información cuando se detiene el entrenamiento\n",
    ")\n",
    "\n",
    "# Entrenar el modelo\n",
    "history_v9 = modelo_v9.fit(\n",
    "    train_dataset,\n",
    "    validation_data=test_dataset,\n",
    "    epochs=100,\n",
    "    verbose=1,\n",
    "    callbacks=[checkpoint_callback, early_stopping_callback]\n",
    ")\n",
    "\n",
    "# Evaluar el modelo\n",
    "loss, mae = modelo_v9.evaluate(test_dataset)\n",
    "print(f\"Mean Absolute Error (MAE) en el conjunto de prueba: {mae:.4f}\")\n",
    "\n",
    "# Predicción\n",
    "y_pred = modelo_v9.predict(test_dataset)\n",
    "\n",
    "# Calcular métricas de evaluación adicionales\n",
    "mse = mean_squared_error(y_test_array, y_pred)\n",
    "mae = mean_absolute_error(y_test_array, y_pred)\n",
    "print(f\"Mean Squared Error (MSE): {mse:.4f}\")\n",
    "print(f\"Mean Absolute Error (MAE): {mae:.4f}\")"
   ]
  },
  {
   "cell_type": "markdown",
   "metadata": {},
   "source": [
    "## Resultados del Entrenamiento y Predicción\n",
    "\n",
    "- **Mean Squared Error (MSE): 0.8100**\n",
    "  - Este valor indica el error cuadrático promedio entre las predicciones del modelo y los valores reales. Un MSE de 0.8100 es una mejora respecto al valor anterior, lo que sugiere que las predicciones están más cerca de los valores reales en promedio. Dado que el modelo es tratado como regresión, este valor relativamente bajo indica que el modelo está capturando bien las relaciones entre las clases ordenadas.\n",
    "\n",
    "- **Mean Absolute Error (MAE): 0.3917**\n",
    "  - El MAE de 0.3917 significa que, en promedio, las predicciones están a menos de 0.4 clases de distancia de los valores reales. Este es un buen resultado, ya que un error promedio tan bajo refleja que el modelo está haciendo predicciones bastante precisas, lo que es importante, especialmente al tratarse de un problema de regresión con clases ordinales.\n",
    "\n",
    "Estos resultados sugieren que el modelo ha mejorado su capacidad para predecir valores más cercanos a la realidad, especialmente considerando la naturaleza ordinal de las clases.\n"
   ]
  },
  {
   "cell_type": "markdown",
   "metadata": {},
   "source": [
    "# 5 Reducción de dimensionalidad\n",
    "## Análisis en las palabras usada por clase\n",
    "El código realiza un análisis para calcular el porcentaje de las 100 palabras más frecuentes en las clases minoritarias (0, 1, 2, 4) que también están presentes en las 100 palabras más frecuentes de la clase mayoritaria (clase 3) de un dataset. Primero, se filtran los mensajes de cada clase y se utiliza `CountVectorizer` para obtener las palabras más frecuentes en los mensajes de la clase mayoritaria. Luego, para cada clase minoritaria, se calcula cuántas de sus 100 palabras más frecuentes también están presentes entre las 100 palabras más frecuentes de la clase mayoritaria. El resultado se representa en un gráfico de barras, donde cada barra muestra el porcentaje de coincidencia de las palabras entre la clase mayoritaria y las clases minoritarias, proporcionando una visión de cómo se solapan las palabras entre las clases y si existe una relación significativa entre ellas. Este análisis puede ser útil para entender mejor la distribución y la superposición de características textuales entre las clases en el dataset.\n"
   ]
  },
  {
   "cell_type": "code",
   "execution_count": 42,
   "metadata": {},
   "outputs": [
    {
     "data": {
      "image/png": "[encoded data removed]",
      "text/plain": [
       "<Figure size 1000x600 with 1 Axes>"
      ]
     },
     "metadata": {},
     "output_type": "display_data"
    }
   ],
   "source": [
    "import pandas as pd\n",
    "import matplotlib.pyplot as plt\n",
    "from sklearn.feature_extraction.text import CountVectorizer\n",
    "\n",
    "# Filtramos los mensajes por clase mayoritaria (clase 3) y otras clases\n",
    "class_3_messages = data[data['intensidad'] == 3]['mensaje']\n",
    "other_classes_messages = data[data['intensidad'] != 3]\n",
    "\n",
    "# Usamos CountVectorizer para obtener las 100 palabras más frecuentes en la clase mayoritaria (clase 3)\n",
    "vectorizer = CountVectorizer(stop_words='english', max_features=100)\n",
    "X_class_3 = vectorizer.fit_transform(class_3_messages)\n",
    "\n",
    "# Obtenemos las 100 palabras más frecuentes de la clase 3\n",
    "class_3_words = vectorizer.get_feature_names_out()\n",
    "\n",
    "# Convertimos a un DataFrame para facilitar el análisis\n",
    "class_3_word_counts = X_class_3.toarray().sum(axis=0)\n",
    "word_frequency_class_3 = pd.DataFrame(list(zip(class_3_words, class_3_word_counts)), columns=['Word', 'Frequency'])\n",
    "\n",
    "# Ahora vamos a calcular para cada clase (0, 1, 2, 4) el porcentaje de sus 100 palabras más frecuentes que también aparecen en la clase mayoritaria\n",
    "\n",
    "# Inicializamos un diccionario para guardar los porcentajes de cada clase\n",
    "class_percentages = {}\n",
    "\n",
    "# Para cada clase (0, 1, 2, 4)\n",
    "for i in range(5):\n",
    "    if i != 3:\n",
    "        class_messages = data[data['intensidad'] == i]['mensaje']\n",
    "        X_class = vectorizer.transform(class_messages)\n",
    "\n",
    "        # Obtenemos la frecuencia de las 100 palabras en esta clase\n",
    "        word_frequency_class = X_class.toarray().sum(axis=0)\n",
    "\n",
    "        # Calculamos el porcentaje de palabras de esta clase que aparecen en la clase mayoritaria\n",
    "        common_words_count = sum(word_frequency_class_3['Word'].isin(class_3_words) & (word_frequency_class > 0))\n",
    "        total_class_3_words = len(class_3_words)\n",
    "\n",
    "        # Calculamos el porcentaje de coincidencia\n",
    "        percentage = (common_words_count / total_class_3_words) * 100\n",
    "        class_percentages[i] = percentage\n",
    "\n",
    "# Convertimos los resultados en un DataFrame para facilitar la visualización\n",
    "class_percentages_df = pd.DataFrame(list(class_percentages.items()), columns=['Class', 'Percentage_in_Class_3'])\n",
    "class_percentages_df.set_index('Class', inplace=True)\n",
    "\n",
    "# Graficamos los resultados\n",
    "plt.figure(figsize=(10, 6))\n",
    "class_percentages_df['Percentage_in_Class_3'].plot(kind='bar', color=['red', 'blue', 'green', 'purple'])\n",
    "plt.title(\"Porcentaje de Palabras Usadas en Clase Mayoritaria (Clase 3) por Clase\")\n",
    "plt.xlabel(\"Clases (0, 1, 2, 4)\")\n",
    "plt.ylabel(\"Porcentaje de Palabras Comunes\")\n",
    "plt.xticks(rotation=0)\n",
    "plt.ylim(0, 100)\n",
    "plt.show()\n"
   ]
  },
  {
   "cell_type": "markdown",
   "metadata": {},
   "source": [
    "Observando el resultado podemos detectar como claramente el resto de clases minoritarias ha excepción de la clase 1 (representada con el valor 0) usan casi las mismas palabras que la clase mayoritaria haciendo de esto que los patrones para que puedan aprender a distinguir las clases entre sí muy complejas. Ha excepción de la clase 1 este no usa ninguna de las 100 palabras más usadas por la clase mayoritaria observando. Tras este análisis y ver que existirían patrones distintivos entre la clase 1 y el resto veamos como trabajaría con estos resultados un modelo RNN de clasificación binaria entre estos dos grupos.\n",
    "\n",
    "## 5.1 RNN con predicción binaria de los datos - Reducción de dimensionalidad\n",
    "Para este punto podríamos aplicar algoritmos como RPA o T-SNE pero hemos optado tras el análisis los datos, juntar las dimensiones parecidas entre si manteniendo de esta forma la interpretabilidad de los datos."
   ]
  },
  {
   "cell_type": "code",
   "execution_count": 51,
   "metadata": {},
   "outputs": [
    {
     "name": "stdout",
     "output_type": "stream",
     "text": [
      "Total de instancias con clase 1: 1375\n",
      "Total de instancias con clases 2-5: 10904\n",
      "Cantidad de ejemplos de cada clase:\n",
      "[    0  1375   148   172 10374   210]\n",
      "Distribución de clases en y_train: [   0 1100  114  143 8297  169]\n",
      "Distribución de clases en y_test: [   0  275   34   29 2077   41]\n"
     ]
    }
   ],
   "source": [
    "from sklearn.model_selection import train_test_split\n",
    "import numpy as np\n",
    "\n",
    "# Separar las instancias de clase 0\n",
    "X_class_0 = X[y == 1]\n",
    "y_class_0 = y[y == 1]\n",
    "\n",
    "# Separar el resto de las clases (1 a 4)\n",
    "X_non_0 = X[y != 1]\n",
    "y_non_0 = y[y != 1]\n",
    "# Verificar cuántas instancias existen para la clase 0\n",
    "print(f\"Total de instancias con clase 1: {np.sum(y == 1)}\")\n",
    "print(f\"Total de instancias con clases 2-5: {np.sum(y != 1)}\")\n",
    "print(\"Cantidad de ejemplos de cada clase:\")\n",
    "print(np.bincount(y))\n",
    "# Dividir las instancias de clase 0 en entrenamiento y prueba\n",
    "X_train_class_0, X_test_class_0, y_train_class_0, y_test_class_0 = train_test_split(X_class_0, y_class_0, test_size=0.2, random_state=42)\n",
    "\n",
    "# Dividir las instancias de las clases 1-4 en entrenamiento y prueba\n",
    "X_train_non_0, X_test_non_0, y_train_non_0, y_test_non_0 = train_test_split(X_non_0, y_non_0, test_size=0.2, random_state=42)\n",
    "\n",
    "# Ahora, concatenamos las instancias de clase 0 y las de clase 1-4\n",
    "X_train = np.concatenate([X_train_class_0, X_train_non_0])\n",
    "y_train = np.concatenate([y_train_class_0, y_train_non_0])\n",
    "\n",
    "X_test = np.concatenate([X_test_class_0, X_test_non_0])\n",
    "y_test = np.concatenate([y_test_class_0, y_test_non_0])\n",
    "\n",
    "# Reordenar los datos para que la mezcla sea aleatoria\n",
    "indices_train = np.random.permutation(len(X_train))\n",
    "X_train = X_train[indices_train]\n",
    "y_train = y_train[indices_train]\n",
    "\n",
    "indices_test = np.random.permutation(len(X_test))\n",
    "X_test = X_test[indices_test]\n",
    "y_test = y_test[indices_test]\n",
    "\n",
    "# Verificar la distribución de clases en ambos conjuntos\n",
    "print(\"Distribución de clases en y_train:\", np.bincount(y_train))\n",
    "print(\"Distribución de clases en y_test:\", np.bincount(y_test))\n"
   ]
  },
  {
   "cell_type": "code",
   "execution_count": 52,
   "metadata": {},
   "outputs": [
    {
     "name": "stderr",
     "output_type": "stream",
     "text": [
      "C:\\Users\\GenisPc\\AppData\\Roaming\\Python\\Python311\\site-packages\\keras\\src\\layers\\core\\embedding.py:90: UserWarning: Argument `input_length` is deprecated. Just remove it.\n",
      "  warnings.warn(\n"
     ]
    },
    {
     "data": {
      "text/html": [
       "<pre style=\"white-space:pre;overflow-x:auto;line-height:normal;font-family:Menlo,'DejaVu Sans Mono',consolas,'Courier New',monospace\"><span style=\"font-weight: bold\">Model: \"sequential_14\"</span>\n",
       "</pre>\n"
      ],
      "text/plain": [
       "\u001b[1mModel: \"sequential_14\"\u001b[0m\n"
      ]
     },
     "metadata": {},
     "output_type": "display_data"
    },
    {
     "data": {
      "text/html": [
       "<pre style=\"white-space:pre;overflow-x:auto;line-height:normal;font-family:Menlo,'DejaVu Sans Mono',consolas,'Courier New',monospace\">┏━━━━━━━━━━━━━━━━━━━━━━━━━━━━━━━━━┳━━━━━━━━━━━━━━━━━━━━━━━━┳━━━━━━━━━━━━━━━┓\n",
       "┃<span style=\"font-weight: bold\"> Layer (type)                    </span>┃<span style=\"font-weight: bold\"> Output Shape           </span>┃<span style=\"font-weight: bold\">       Param # </span>┃\n",
       "┡━━━━━━━━━━━━━━━━━━━━━━━━━━━━━━━━━╇━━━━━━━━━━━━━━━━━━━━━━━━╇━━━━━━━━━━━━━━━┩\n",
       "│ embedding_14 (<span style=\"color: #0087ff; text-decoration-color: #0087ff\">Embedding</span>)        │ ?                      │   <span style=\"color: #00af00; text-decoration-color: #00af00\">0</span> (unbuilt) │\n",
       "├─────────────────────────────────┼────────────────────────┼───────────────┤\n",
       "│ bidirectional_13                │ ?                      │   <span style=\"color: #00af00; text-decoration-color: #00af00\">0</span> (unbuilt) │\n",
       "│ (<span style=\"color: #0087ff; text-decoration-color: #0087ff\">Bidirectional</span>)                 │                        │               │\n",
       "├─────────────────────────────────┼────────────────────────┼───────────────┤\n",
       "│ dropout_25 (<span style=\"color: #0087ff; text-decoration-color: #0087ff\">Dropout</span>)            │ ?                      │             <span style=\"color: #00af00; text-decoration-color: #00af00\">0</span> │\n",
       "├─────────────────────────────────┼────────────────────────┼───────────────┤\n",
       "│ dense_29 (<span style=\"color: #0087ff; text-decoration-color: #0087ff\">Dense</span>)                │ ?                      │   <span style=\"color: #00af00; text-decoration-color: #00af00\">0</span> (unbuilt) │\n",
       "├─────────────────────────────────┼────────────────────────┼───────────────┤\n",
       "│ dropout_26 (<span style=\"color: #0087ff; text-decoration-color: #0087ff\">Dropout</span>)            │ ?                      │             <span style=\"color: #00af00; text-decoration-color: #00af00\">0</span> │\n",
       "├─────────────────────────────────┼────────────────────────┼───────────────┤\n",
       "│ dense_30 (<span style=\"color: #0087ff; text-decoration-color: #0087ff\">Dense</span>)                │ ?                      │   <span style=\"color: #00af00; text-decoration-color: #00af00\">0</span> (unbuilt) │\n",
       "└─────────────────────────────────┴────────────────────────┴───────────────┘\n",
       "</pre>\n"
      ],
      "text/plain": [
       "┏━━━━━━━━━━━━━━━━━━━━━━━━━━━━━━━━━┳━━━━━━━━━━━━━━━━━━━━━━━━┳━━━━━━━━━━━━━━━┓\n",
       "┃\u001b[1m \u001b[0m\u001b[1mLayer (type)                   \u001b[0m\u001b[1m \u001b[0m┃\u001b[1m \u001b[0m\u001b[1mOutput Shape          \u001b[0m\u001b[1m \u001b[0m┃\u001b[1m \u001b[0m\u001b[1m      Param #\u001b[0m\u001b[1m \u001b[0m┃\n",
       "┡━━━━━━━━━━━━━━━━━━━━━━━━━━━━━━━━━╇━━━━━━━━━━━━━━━━━━━━━━━━╇━━━━━━━━━━━━━━━┩\n",
       "│ embedding_14 (\u001b[38;5;33mEmbedding\u001b[0m)        │ ?                      │   \u001b[38;5;34m0\u001b[0m (unbuilt) │\n",
       "├─────────────────────────────────┼────────────────────────┼───────────────┤\n",
       "│ bidirectional_13                │ ?                      │   \u001b[38;5;34m0\u001b[0m (unbuilt) │\n",
       "│ (\u001b[38;5;33mBidirectional\u001b[0m)                 │                        │               │\n",
       "├─────────────────────────────────┼────────────────────────┼───────────────┤\n",
       "│ dropout_25 (\u001b[38;5;33mDropout\u001b[0m)            │ ?                      │             \u001b[38;5;34m0\u001b[0m │\n",
       "├─────────────────────────────────┼────────────────────────┼───────────────┤\n",
       "│ dense_29 (\u001b[38;5;33mDense\u001b[0m)                │ ?                      │   \u001b[38;5;34m0\u001b[0m (unbuilt) │\n",
       "├─────────────────────────────────┼────────────────────────┼───────────────┤\n",
       "│ dropout_26 (\u001b[38;5;33mDropout\u001b[0m)            │ ?                      │             \u001b[38;5;34m0\u001b[0m │\n",
       "├─────────────────────────────────┼────────────────────────┼───────────────┤\n",
       "│ dense_30 (\u001b[38;5;33mDense\u001b[0m)                │ ?                      │   \u001b[38;5;34m0\u001b[0m (unbuilt) │\n",
       "└─────────────────────────────────┴────────────────────────┴───────────────┘\n"
      ]
     },
     "metadata": {},
     "output_type": "display_data"
    },
    {
     "data": {
      "text/html": [
       "<pre style=\"white-space:pre;overflow-x:auto;line-height:normal;font-family:Menlo,'DejaVu Sans Mono',consolas,'Courier New',monospace\"><span style=\"font-weight: bold\"> Total params: </span><span style=\"color: #00af00; text-decoration-color: #00af00\">0</span> (0.00 B)\n",
       "</pre>\n"
      ],
      "text/plain": [
       "\u001b[1m Total params: \u001b[0m\u001b[38;5;34m0\u001b[0m (0.00 B)\n"
      ]
     },
     "metadata": {},
     "output_type": "display_data"
    },
    {
     "data": {
      "text/html": [
       "<pre style=\"white-space:pre;overflow-x:auto;line-height:normal;font-family:Menlo,'DejaVu Sans Mono',consolas,'Courier New',monospace\"><span style=\"font-weight: bold\"> Trainable params: </span><span style=\"color: #00af00; text-decoration-color: #00af00\">0</span> (0.00 B)\n",
       "</pre>\n"
      ],
      "text/plain": [
       "\u001b[1m Trainable params: \u001b[0m\u001b[38;5;34m0\u001b[0m (0.00 B)\n"
      ]
     },
     "metadata": {},
     "output_type": "display_data"
    },
    {
     "data": {
      "text/html": [
       "<pre style=\"white-space:pre;overflow-x:auto;line-height:normal;font-family:Menlo,'DejaVu Sans Mono',consolas,'Courier New',monospace\"><span style=\"font-weight: bold\"> Non-trainable params: </span><span style=\"color: #00af00; text-decoration-color: #00af00\">0</span> (0.00 B)\n",
       "</pre>\n"
      ],
      "text/plain": [
       "\u001b[1m Non-trainable params: \u001b[0m\u001b[38;5;34m0\u001b[0m (0.00 B)\n"
      ]
     },
     "metadata": {},
     "output_type": "display_data"
    },
    {
     "name": "stdout",
     "output_type": "stream",
     "text": [
      "Epoch 1/10\n",
      "\u001b[1m154/154\u001b[0m \u001b[32m━━━━━━━━━━━━━━━━━━━━\u001b[0m\u001b[37m\u001b[0m \u001b[1m31s\u001b[0m 164ms/step - accuracy: 0.8787 - loss: 0.3963 - val_accuracy: 0.9011 - val_loss: 0.2799\n",
      "Epoch 2/10\n",
      "\u001b[1m154/154\u001b[0m \u001b[32m━━━━━━━━━━━━━━━━━━━━\u001b[0m\u001b[37m\u001b[0m \u001b[1m26s\u001b[0m 166ms/step - accuracy: 0.9064 - loss: 0.2447 - val_accuracy: 0.8950 - val_loss: 0.2781\n",
      "Epoch 3/10\n",
      "\u001b[1m154/154\u001b[0m \u001b[32m━━━━━━━━━━━━━━━━━━━━\u001b[0m\u001b[37m\u001b[0m \u001b[1m25s\u001b[0m 165ms/step - accuracy: 0.9180 - loss: 0.2105 - val_accuracy: 0.8884 - val_loss: 0.2935\n",
      "Epoch 4/10\n",
      "\u001b[1m154/154\u001b[0m \u001b[32m━━━━━━━━━━━━━━━━━━━━\u001b[0m\u001b[37m\u001b[0m \u001b[1m26s\u001b[0m 167ms/step - accuracy: 0.9231 - loss: 0.1973 - val_accuracy: 0.8831 - val_loss: 0.3105\n",
      "Epoch 5/10\n",
      "\u001b[1m154/154\u001b[0m \u001b[32m━━━━━━━━━━━━━━━━━━━━\u001b[0m\u001b[37m\u001b[0m \u001b[1m26s\u001b[0m 166ms/step - accuracy: 0.9295 - loss: 0.1875 - val_accuracy: 0.8876 - val_loss: 0.3226\n",
      "Epoch 6/10\n",
      "\u001b[1m154/154\u001b[0m \u001b[32m━━━━━━━━━━━━━━━━━━━━\u001b[0m\u001b[37m\u001b[0m \u001b[1m26s\u001b[0m 168ms/step - accuracy: 0.9331 - loss: 0.1731 - val_accuracy: 0.8929 - val_loss: 0.3491\n",
      "Epoch 7/10\n",
      "\u001b[1m154/154\u001b[0m \u001b[32m━━━━━━━━━━━━━━━━━━━━\u001b[0m\u001b[37m\u001b[0m \u001b[1m25s\u001b[0m 165ms/step - accuracy: 0.9424 - loss: 0.1587 - val_accuracy: 0.8921 - val_loss: 0.3500\n",
      "Epoch 8/10\n",
      "\u001b[1m154/154\u001b[0m \u001b[32m━━━━━━━━━━━━━━━━━━━━\u001b[0m\u001b[37m\u001b[0m \u001b[1m26s\u001b[0m 166ms/step - accuracy: 0.9467 - loss: 0.1467 - val_accuracy: 0.8888 - val_loss: 0.3686\n",
      "Epoch 9/10\n",
      "\u001b[1m154/154\u001b[0m \u001b[32m━━━━━━━━━━━━━━━━━━━━\u001b[0m\u001b[37m\u001b[0m \u001b[1m25s\u001b[0m 166ms/step - accuracy: 0.9526 - loss: 0.1380 - val_accuracy: 0.8844 - val_loss: 0.3865\n",
      "Epoch 10/10\n",
      "\u001b[1m154/154\u001b[0m \u001b[32m━━━━━━━━━━━━━━━━━━━━\u001b[0m\u001b[37m\u001b[0m \u001b[1m26s\u001b[0m 167ms/step - accuracy: 0.9558 - loss: 0.1303 - val_accuracy: 0.8884 - val_loss: 0.4080\n",
      "\u001b[1m39/39\u001b[0m \u001b[32m━━━━━━━━━━━━━━━━━━━━\u001b[0m\u001b[37m\u001b[0m \u001b[1m2s\u001b[0m 59ms/step - accuracy: 0.8858 - loss: 0.4120\n",
      "Accuracy en el conjunto de prueba: 0.8884\n",
      "\u001b[1m39/39\u001b[0m \u001b[32m━━━━━━━━━━━━━━━━━━━━\u001b[0m\u001b[37m\u001b[0m \u001b[1m3s\u001b[0m 71ms/step\n"
     ]
    },
    {
     "data": {
      "image/png": "[encoded data removed]",
      "text/plain": [
       "<Figure size 600x600 with 2 Axes>"
      ]
     },
     "metadata": {},
     "output_type": "display_data"
    },
    {
     "name": "stdout",
     "output_type": "stream",
     "text": [
      "              precision    recall  f1-score   support\n",
      "\n",
      "         0.0       0.50      0.35      0.41       275\n",
      "         1.0       0.92      0.96      0.94      2181\n",
      "\n",
      "    accuracy                           0.89      2456\n",
      "   macro avg       0.71      0.65      0.67      2456\n",
      "weighted avg       0.87      0.89      0.88      2456\n",
      "\n"
     ]
    }
   ],
   "source": [
    "from sklearn.metrics import confusion_matrix, classification_report\n",
    "import matplotlib.pyplot as plt\n",
    "import seaborn as sns\n",
    "import numpy as np\n",
    "import tensorflow as tf\n",
    "from sklearn.model_selection import train_test_split\n",
    "from tensorflow.keras import layers, models\n",
    "\n",
    "# Separar los datos en entrenamiento y prueba\n",
    "X_train, X_test, y_train, y_test = train_test_split(X, y, test_size=0.2, random_state=42, stratify=y)\n",
    "\n",
    "# Convertir las etiquetas a 0 para clase 0, y 1 para clases 1-4 (binario)\n",
    "y_train_bin = np.where(y_train == 1, 0, 1)  # Mantener clase 0 igual y convertir 1-4 a 1\n",
    "y_test_bin = np.where(y_test == 1, 0, 1)\n",
    "\n",
    "# Preprocesar y tokenizar el texto usando TextVectorization\n",
    "vectorizador = tf.keras.layers.TextVectorization(max_tokens=1000, output_mode='int', output_sequence_length=100)\n",
    "\n",
    "# Adaptar el vectorizador a los datos de entrenamiento\n",
    "vectorizador.adapt(X_train)\n",
    "\n",
    "# Convertir las entradas de texto en secuencias de índices\n",
    "X_train_vectorized = vectorizador(X_train)\n",
    "X_test_vectorized = vectorizador(X_test)\n",
    "\n",
    "# Convertir las etiquetas a arrays NumPy\n",
    "y_train_array = np.array(y_train_bin, dtype=np.float32)\n",
    "y_test_array = np.array(y_test_bin, dtype=np.float32)\n",
    "\n",
    "# Crear el Dataset de TensorFlow\n",
    "train_dataset = tf.data.Dataset.from_tensor_slices((X_train_vectorized, y_train_array)).batch(64).prefetch(tf.data.AUTOTUNE)\n",
    "test_dataset = tf.data.Dataset.from_tensor_slices((X_test_vectorized, y_test_array)).batch(64).prefetch(tf.data.AUTOTUNE)\n",
    "\n",
    "# Definir el modelo LSTM para clasificación binaria\n",
    "def crear_modelo_lstm_binario(vocab_size, embedding_dim=100, lstm_units=128):\n",
    "    model = models.Sequential()\n",
    "    \n",
    "    # Capa de embedding\n",
    "    model.add(layers.Embedding(input_dim=vocab_size, output_dim=embedding_dim, input_length=100))\n",
    "    \n",
    "    # Capa LSTM bidireccional\n",
    "    model.add(layers.Bidirectional(layers.LSTM(units=lstm_units, return_sequences=False)))\n",
    "\n",
    "    # Dropout para evitar sobreajuste\n",
    "    model.add(layers.Dropout(0.4))\n",
    "    \n",
    "    # Capa densa para clasificación binaria\n",
    "    model.add(layers.Dense(64, activation='relu'))\n",
    "    model.add(layers.Dropout(0.4))\n",
    "    \n",
    "    # Capa de salida con activación sigmoide para clasificación binaria\n",
    "    model.add(layers.Dense(1, activation='sigmoid'))  # Salida binaria\n",
    "    \n",
    "    # Compilamos el modelo\n",
    "    model.compile(optimizer='adam', \n",
    "                  loss='binary_crossentropy',  # Usamos binary cross-entropy para clasificación binaria\n",
    "                  metrics=['accuracy'])  # Usamos precisión como métrica\n",
    "    \n",
    "    return model\n",
    "\n",
    "# Crear el modelo\n",
    "vocab_size = 1000  # Número máximo de palabras del vectorizador\n",
    "modelo_binario = crear_modelo_lstm_binario(vocab_size)\n",
    "\n",
    "# Resumen del modelo\n",
    "modelo_binario.summary()\n",
    "\n",
    "# Entrenar el modelo\n",
    "history_binario = modelo_binario.fit(\n",
    "    train_dataset,\n",
    "    validation_data=test_dataset,\n",
    "    epochs=10,  # Ajusta el número de épocas según lo necesites\n",
    "    verbose=1\n",
    ")\n",
    "\n",
    "# Evaluar el modelo\n",
    "loss, accuracy = modelo_binario.evaluate(test_dataset)\n",
    "print(f\"Accuracy en el conjunto de prueba: {accuracy:.4f}\")\n",
    "\n",
    "# Predicción\n",
    "y_pred = modelo_binario.predict(test_dataset)\n",
    "\n",
    "# Convertir las predicciones en clases 0 o 1 directamente\n",
    "y_pred_bin = (y_pred > 0.5).astype(int)\n",
    "\n",
    "# Calcular la matriz de confusión\n",
    "cm = confusion_matrix(y_test_array, y_pred_bin)\n",
    "\n",
    "# Mostrar la matriz de confusión como un heatmap\n",
    "plt.figure(figsize=(6,6))\n",
    "sns.heatmap(cm, annot=True, fmt=\"d\", cmap=\"Blues\", xticklabels=[0, 1], yticklabels=[0, 1])\n",
    "plt.title(\"Matriz de Confusión\")\n",
    "plt.xlabel(\"Predicciones\")\n",
    "plt.ylabel(\"Actual\")\n",
    "plt.show()\n",
    "\n",
    "# Imprimir reporte de clasificación con métricas como precisión, recall y F1-score\n",
    "print(classification_report(y_test_array, y_pred_bin))\n"
   ]
  },
  {
   "cell_type": "markdown",
   "metadata": {},
   "source": [
    "## Conclusión \n",
    "Los resultados obtenidos en este proyecto ofrecen una visión clara de las dificultades y posibles soluciones al problema del desbalance de clases en modelos de clasificación, y cómo la transformación del problema en una tarea de regresión puede ser una alternativa eficaz. Dando como respuesta a que en un problema con la dimensionalidad reducida como modelo con una precisión del 89% y con una clara demostración de que el modelo ha aprendido algunos de los patrones entre las clases que en comparación a la resta de modelos donde estos no aprendían nada es un gran salto.\n",
    "\n",
    "### Análisis de los Resultados\n",
    "1. **Modelos de Clasificación y Desbalance de Clases**:\n",
    "   - Los intentos previos con modelos de clasificación no lograron aprender patrones significativos debido al fuerte desbalance de clases en los datos. Las clases minoritarias no tuvieron suficiente representación, lo que llevó a que el modelo predominara hacia la clase mayoritaria, sin capturar adecuadamente las diferencias entre las clases menores.\n",
    "   - Esto es un problema común en tareas de clasificación con datos desbalanceados, donde el modelo tiende a predecir la clase mayoritaria y, por lo tanto, falla en generalizar correctamente a las clases minoritarias.\n",
    "\n",
    "2. **Regresión como Alternativa Eficaz**:\n",
    "   - Al transformar la variable objetivo en valores continuos (floats) y tratar el problema como una regresión lineal, se permitió que el modelo capturara las relaciones ordinales entre las clases. Este enfoque mostró un **Mean Squared Error (MSE) de 0.8100** y un **Mean Absolute Error (MAE) de 0.3917**, lo que sugiere que las predicciones del modelo fueron significativamente más cercanas a los valores reales que en los modelos de clasificación.\n",
    "   - La regresión permite al modelo manejar la naturaleza ordenada de las clases de manera más eficiente, evitando los problemas causados por el desbalanceo, ya que no necesita tratar las clases como entidades discretas. En su lugar, el modelo predice un valor continuo y, a partir de él, se puede inferir la clase correspondiente.\n",
    "\n",
    "3. **Desbalance de Datos y Su Impacto**:\n",
    "   - El desbalance de clases en los datos sigue siendo un desafío, pero al tratar el problema como regresión, el impacto de este desbalance se reduce. Esto ocurre porque la regresión no se ve tan afectada por la disparidad en la frecuencia de las clases, lo que permite al modelo aprender de manera más equilibrada sobre todas las clases, incluidas las minoritarias.\n",
    "\n",
    "4. **Reducción de dimensionalidad**\n",
    "   -  Al reducir la dimensionalidad por grupos donde estos tienen claras diferencias en las palabras usadas, esto hace que el modelo pueda aprender patrones distintivos entre estos grupos aunque exista una clara diferencia en el balance de registros entre estos grupos por lo que el modelo no termina aprender lo suficiente sobre la clase minoritaria.\n",
    "\n",
    "### Reflexión Final\n",
    "Dado que los modelos de clasificación no pudieron captar los patrones debido al desbalance de clases, el enfoque de regresión ofrece una **mejor solución en este contexto**. Al modelar las clases como una variable continua y aprovechar su naturaleza ordinal, el modelo logró hacer predicciones más precisas y equilibradas. Tras una analisis más en profundidad se logra encontrar un solución donde se demuestra que el modelo ha logrado aprender parte de los patrones al reducir la dimensionalidad aunque este no logre predicciones del todo fiables en la clase minoritaria.\n",
    "\n",
    "Este resultado resalta la importancia de **adaptar la estrategia de modelado al tipo de problema y a las características de los datos**. El uso de regresión lineal para tratar un problema de clasificación con clases ordenadas es una alternativa prometedora, especialmente cuando el desbalance de clases es un factor relevante y la reducción de la dimensionalidad un claro acierto para ajustar los datos a patrones existentes entre los grupos."
   ]
  }
 ],
 "metadata": {
  "colab": {
   "provenance": []
  },
  "kernelspec": {
   "display_name": "base",
   "language": "python",
   "name": "python3"
  },
  "language_info": {
   "codemirror_mode": {
    "name": "ipython",
    "version": 3
   },
   "file_extension": ".py",
   "mimetype": "text/x-python",
   "name": "python",
   "nbconvert_exporter": "python",
   "pygments_lexer": "ipython3",
   "version": "3.11.7"
  }
 },
 "nbformat": 4,
 "nbformat_minor": 0
}
